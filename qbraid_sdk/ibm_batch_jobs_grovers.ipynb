{
 "cells": [
  {
   "cell_type": "code",
   "execution_count": 1,
   "id": "ac6f7b61-1fa3-476d-b6ce-48b1237e8df5",
   "metadata": {},
   "outputs": [],
   "source": [
    "# This notebook is derived from Qiskit and includes modifications by qBraid.\n",
    "#\n",
    "# (C) Copyright IBM 2020.\n",
    "# (C) Copyright qBraid 2023.\n",
    "#\n",
    "# This code is licensed under the Apache License, Version 2.0. You may\n",
    "# obtain a copy of this license in the LICENSE.txt file in the root directory\n",
    "# of this source tree or at http://www.apache.org/licenses/LICENSE-2.0.\n",
    "#\n",
    "# Any modifications or derivative works of this code must retain this\n",
    "# copyright notice, and modified files need to carry a notice indicating\n",
    "# that they have been altered from the originals."
   ]
  },
  {
   "cell_type": "markdown",
   "id": "88b49726-b1d6-4bbf-b3eb-aaa9a384b811",
   "metadata": {},
   "source": [
    "# qBraid-SDK IBM Batch Jobs Demo: Grover's Algorithm\n"
   ]
  },
  {
   "cell_type": "code",
   "execution_count": 2,
   "id": "c58a6923-26f6-4d27-8a6e-32323e4484d1",
   "metadata": {},
   "outputs": [
    {
     "data": {
      "text/plain": [
       "'0.4.5'"
      ]
     },
     "execution_count": 2,
     "metadata": {},
     "output_type": "execute_result"
    }
   ],
   "source": [
    "import qbraid\n",
    "\n",
    "qbraid.__version__"
   ]
  },
  {
   "cell_type": "markdown",
   "id": "2408ab07-9f93-461a-9384-b5e4436411e8",
   "metadata": {},
   "source": [
    "## Creating the Circuits"
   ]
  },
  {
   "cell_type": "code",
   "execution_count": 3,
   "id": "984a0746-808a-4d06-9adb-2d7513dead36",
   "metadata": {},
   "outputs": [],
   "source": [
    "import numpy as np\n",
    "\n",
    "from qiskit import QuantumCircuit"
   ]
  },
  {
   "cell_type": "markdown",
   "id": "7b97a410-48ff-4b68-96d0-1e0e63de92ae",
   "metadata": {},
   "source": [
    "The code for this circuit was taken from IBMs [Qiskit Textbook](https://learn.qiskit.org/course/ch-algorithms/grovers-algorithm). Grover's algorithm let's us find a marked item in a box in √N steps as opposed to N steps classicaly. In this case we'll run Grover's algorithm for various numbers of steps to observe how the performance varies. This will allow us to test qBraid's [run_batch](https://github.com/qBraid/qBraid/blob/6e6cecc3ec4b7bac973f557606778d2cd07b8307/qbraid/devices/ibm/device.py#L111) functionality."
   ]
  },
  {
   "cell_type": "code",
   "execution_count": 4,
   "id": "1eba1979-e8c7-4388-aa3a-29e3a1ff7cef",
   "metadata": {},
   "outputs": [
    {
     "name": "stdout",
     "output_type": "stream",
     "text": [
      "marked entry:  1\n"
     ]
    }
   ],
   "source": [
    "n = 3\n",
    "marked_entry = np.random.randint(0, 2**n - 1)\n",
    "print(\"marked entry: \", marked_entry)"
   ]
  },
  {
   "cell_type": "code",
   "execution_count": 5,
   "id": "17c2cef0-5746-4558-a3af-51890b7ebd8c",
   "metadata": {},
   "outputs": [],
   "source": [
    "Vf = QuantumCircuit(n, n)\n",
    "\n",
    "Uw = []\n",
    "for i in range(2**n):\n",
    "    if i == marked_entry:\n",
    "        Uw.append(-1)\n",
    "    else:\n",
    "        Uw.append(1)\n",
    "Vf.diagonal(Uw, [0, 1, 2])\n",
    "\n",
    "\n",
    "# Diffuser from the Qiskit Textbook\n",
    "def diffuser(nqubits):\n",
    "    qc = QuantumCircuit(nqubits)\n",
    "    # Apply transformation |s> -> |00..0> (H-gates)\n",
    "    for qubit in range(nqubits):\n",
    "        qc.h(qubit)\n",
    "    # Apply transformation |00..0> -> |11..1> (X-gates)\n",
    "    for qubit in range(nqubits):\n",
    "        qc.x(qubit)\n",
    "    # Do multi-controlled-Z gate\n",
    "    qc.h(nqubits - 1)\n",
    "    qc.mct(list(range(nqubits - 1)), nqubits - 1)  # multi-controlled-toffoli\n",
    "    qc.h(nqubits - 1)\n",
    "    # Apply transformation |11..1> -> |00..0>\n",
    "    for qubit in range(nqubits):\n",
    "        qc.x(qubit)\n",
    "    # Apply transformation |00..0> -> |s>\n",
    "    for qubit in range(nqubits):\n",
    "        qc.h(qubit)\n",
    "    # We will return the diffuser as a gate\n",
    "    U_s = qc.to_gate()\n",
    "    U_s.name = \"U$_s$\"\n",
    "    return U_s\n",
    "\n",
    "\n",
    "W = QuantumCircuit(n, n)\n",
    "W.append(diffuser(n), range(n))\n",
    "VW = Vf.compose(W)"
   ]
  },
  {
   "cell_type": "code",
   "execution_count": 6,
   "id": "2cc8b575-f61f-456c-b185-340a909aa6fe",
   "metadata": {},
   "outputs": [],
   "source": [
    "# create list of circuits to run\n",
    "n_steps = 3\n",
    "grover_init = QuantumCircuit(VW.num_qubits, VW.num_clbits)\n",
    "grover_init.h(range(n))  # add the Hadamards\n",
    "circuits = [grover_init]  # circuits[j] will have (VW)**j:\n",
    "for _ in range(n_steps):\n",
    "    circuits.append(circuits[-1].compose(VW))\n",
    "for grover in circuits:\n",
    "    grover.measure(range(n), range(n))  # add measurements"
   ]
  },
  {
   "cell_type": "code",
   "execution_count": 7,
   "id": "d5196c00-47e9-42d8-932d-31cf6c6757de",
   "metadata": {},
   "outputs": [
    {
     "data": {
      "image/png": "[encoded data removed]",
      "text/plain": [
       "<Figure size 1207.22x367.889 with 1 Axes>"
      ]
     },
     "execution_count": 7,
     "metadata": {},
     "output_type": "execute_result"
    }
   ],
   "source": [
    "from qbraid.interface import circuit_drawer\n",
    "\n",
    "circuit_drawer(circuits[3], \"mpl\")"
   ]
  },
  {
   "cell_type": "markdown",
   "id": "879a9d4e-88d2-4bd6-8681-2e67a93f075d",
   "metadata": {},
   "source": [
    "Now that we've created our Grover circuit for n = 0, 1, 2, and 3, we can simply pass the `circuits` array"
   ]
  },
  {
   "cell_type": "markdown",
   "id": "43dfd23a-29b4-40fb-9b8b-b14f9c83621e",
   "metadata": {},
   "source": [
    "# Running the Circuits"
   ]
  },
  {
   "cell_type": "markdown",
   "id": "0346ff12-5c3f-4c59-86f9-1e150b9b4c26",
   "metadata": {},
   "source": [
    "Check which devices are online:"
   ]
  },
  {
   "cell_type": "code",
   "execution_count": 8,
   "id": "0cfd0932-88fe-4d64-b3a8-ec6eb806b999",
   "metadata": {},
   "outputs": [
    {
     "data": {
      "text/html": [
       "<h3>Supported Devices</h3><table><tr>\n",
       "    <th style='text-align:left'>Provider</th>\n",
       "    <th style='text-align:left'>Name</th>\n",
       "    <th style='text-align:left'>qBraid ID</th>\n",
       "    <th style='text-align:left'>Status</th></tr>\n",
       "    <tr>\n",
       "        <td style='text-align:left'>IBM</td>\n",
       "        <td style='text-align:left'>Belem</td>\n",
       "        <td style='text-align:left'><code>ibm_q_belem</code></td>\n",
       "        <td><span style='color:green'>●</span></td></tr>\n",
       "        <tr>\n",
       "        <td style='text-align:left'>IBM</td>\n",
       "        <td style='text-align:left'>Ext. stabilizer simulator</td>\n",
       "        <td style='text-align:left'><code>ibm_q_simulator_extended_stabilizer</code></td>\n",
       "        <td><span style='color:green'>●</span></td></tr>\n",
       "        <tr>\n",
       "        <td style='text-align:left'>IBM</td>\n",
       "        <td style='text-align:left'>Jakarta</td>\n",
       "        <td style='text-align:left'><code>ibm_q_jakarta</code></td>\n",
       "        <td><span style='color:green'>●</span></td></tr>\n",
       "        <tr>\n",
       "        <td style='text-align:left'>IBM</td>\n",
       "        <td style='text-align:left'>Lagos</td>\n",
       "        <td style='text-align:left'><code>ibm_q_lagos</code></td>\n",
       "        <td><span style='color:green'>●</span></td></tr>\n",
       "        <tr>\n",
       "        <td style='text-align:left'>IBM</td>\n",
       "        <td style='text-align:left'>Lima</td>\n",
       "        <td style='text-align:left'><code>ibm_q_lima</code></td>\n",
       "        <td><span style='color:red'>○</span></td></tr>\n",
       "        <tr>\n",
       "        <td style='text-align:left'>IBM</td>\n",
       "        <td style='text-align:left'>MPS simulator</td>\n",
       "        <td style='text-align:left'><code>ibm_q_simulator_mps</code></td>\n",
       "        <td><span style='color:green'>●</span></td></tr>\n",
       "        <tr>\n",
       "        <td style='text-align:left'>IBM</td>\n",
       "        <td style='text-align:left'>Manila</td>\n",
       "        <td style='text-align:left'><code>ibm_q_manila</code></td>\n",
       "        <td><span style='color:green'>●</span></td></tr>\n",
       "        <tr>\n",
       "        <td style='text-align:left'>IBM</td>\n",
       "        <td style='text-align:left'>Nairobi</td>\n",
       "        <td style='text-align:left'><code>ibm_q_nairobi</code></td>\n",
       "        <td><span style='color:red'>○</span></td></tr>\n",
       "        <tr>\n",
       "        <td style='text-align:left'>IBM</td>\n",
       "        <td style='text-align:left'>Oslo</td>\n",
       "        <td style='text-align:left'><code>ibm_q_oslo</code></td>\n",
       "        <td><span style='color:red'>○</span></td></tr>\n",
       "        <tr>\n",
       "        <td style='text-align:left'>IBM</td>\n",
       "        <td style='text-align:left'>Perth</td>\n",
       "        <td style='text-align:left'><code>ibm_q_perth</code></td>\n",
       "        <td><span style='color:green'>●</span></td></tr>\n",
       "        <tr>\n",
       "        <td style='text-align:left'>IBM</td>\n",
       "        <td style='text-align:left'>QASM simulator</td>\n",
       "        <td style='text-align:left'><code>ibm_q_qasm_simulator</code></td>\n",
       "        <td><span style='color:green'>●</span></td></tr>\n",
       "        <tr>\n",
       "        <td style='text-align:left'>IBM</td>\n",
       "        <td style='text-align:left'>Quito</td>\n",
       "        <td style='text-align:left'><code>ibm_q_quito</code></td>\n",
       "        <td><span style='color:green'>●</span></td></tr>\n",
       "        <tr>\n",
       "        <td style='text-align:left'>IBM</td>\n",
       "        <td style='text-align:left'>Stabilizer simulator</td>\n",
       "        <td style='text-align:left'><code>ibm_q_simulator_stabilizer</code></td>\n",
       "        <td><span style='color:green'>●</span></td></tr>\n",
       "        <tr>\n",
       "        <td style='text-align:left'>IBM</td>\n",
       "        <td style='text-align:left'>State vector simulator</td>\n",
       "        <td style='text-align:left'><code>ibm_q_simulator_statevector</code></td>\n",
       "        <td><span style='color:green'>●</span></td></tr>\n",
       "        <tr><td colspan='4'; style='text-align:right'>Device status updated 0 minutes ago</td></tr></table>"
      ],
      "text/plain": [
       "<IPython.core.display.HTML object>"
      ]
     },
     "metadata": {},
     "output_type": "display_data"
    }
   ],
   "source": [
    "from qbraid import get_devices\n",
    "\n",
    "get_devices(filters={\"vendor\": \"IBM\"})"
   ]
  },
  {
   "cell_type": "markdown",
   "id": "0a7f5c71-231d-4485-a5f1-2373efcb7c9b",
   "metadata": {},
   "source": [
    "Now let's load in our IBM account. Note that you'll have to have IBM credentials to run this notebook. You can follow the instructions [here](https://github.com/Qiskit/qiskit-ibm-provider#provider-setup) to set them up."
   ]
  },
  {
   "cell_type": "code",
   "execution_count": 9,
   "id": "e3db73c0-b22a-41ec-a49b-cfcfc200feb8",
   "metadata": {},
   "outputs": [],
   "source": [
    "# from qiskit_ibm_provider import IBMProvider\n",
    "\n",
    "# # Replace with your IBM Credentials\n",
    "# IBMProvider.save_account(token='MY_API_TOKEN')"
   ]
  },
  {
   "cell_type": "markdown",
   "id": "4e4f1c13-9949-4d6f-a887-b87afbb95407",
   "metadata": {},
   "source": [
    "In this tutorial we'll use IBM's Lima computer, since we see that it's online. Now we can use qBraid's [device wrapper](https://docs.qbraid.com/en/latest/sdk/devices.html#device-wrapper) to run this job. The device wrapper adds a layer of abstraction, allowing us to run more types of circuits on more devices, and in this case letting us use the `run_batch` method. "
   ]
  },
  {
   "cell_type": "markdown",
   "id": "cd3a76cc-5ec0-4139-910a-0cc21269b128",
   "metadata": {},
   "source": [
    "Batch experiments combine individual experiments on any subset of qubits into a single composite experiment which appends all the circuits from each component experiment into a single batch of circuits to be executed as one experiment job. This is useful because it allows us to run multiple circuits in parallel. It is especially useful for situations like this, where we want to run many similar circuits and collectively analyze their results"
   ]
  },
  {
   "cell_type": "code",
   "execution_count": 10,
   "id": "31c1b440-6c79-4b97-b7a6-9a0aa6703c4d",
   "metadata": {},
   "outputs": [
    {
     "name": "stdout",
     "output_type": "stream",
     "text": [
      "Quito\n"
     ]
    }
   ],
   "source": [
    "from qbraid import device_wrapper\n",
    "from qbraid.devices.ibm import ibm_least_busy_qpu\n",
    "\n",
    "least_busy = ibm_least_busy_qpu()\n",
    "\n",
    "device = device_wrapper(least_busy)\n",
    "\n",
    "print(device.name)"
   ]
  },
  {
   "cell_type": "code",
   "execution_count": 11,
   "id": "1ba007b5-ae3c-4223-92ee-e2fe5ee2653e",
   "metadata": {},
   "outputs": [],
   "source": [
    "job = device.run_batch(circuits, shots=1000)"
   ]
  },
  {
   "cell_type": "code",
   "execution_count": 12,
   "id": "8e5895a1-c977-4e8a-bd5a-e365a66d17c5",
   "metadata": {},
   "outputs": [
    {
     "data": {
      "text/plain": [
       "<JobStatus.QUEUED: 'job is queued'>"
      ]
     },
     "execution_count": 12,
     "metadata": {},
     "output_type": "execute_result"
    }
   ],
   "source": [
    "job.status()"
   ]
  },
  {
   "cell_type": "code",
   "execution_count": 13,
   "id": "aaf0e4fa-f163-4b9b-9b25-629c44424d4b",
   "metadata": {},
   "outputs": [
    {
     "data": {
      "text/plain": [
       "<JobStatus.COMPLETED: 'job has successfully run'>"
      ]
     },
     "execution_count": 13,
     "metadata": {},
     "output_type": "execute_result"
    }
   ],
   "source": [
    "from qbraid import job_wrapper\n",
    "\n",
    "job = job_wrapper(\"ibm_q_quito-ryanjh88-qjob-tpiweqahzl7g43udq1j9\")\n",
    "\n",
    "job.status()"
   ]
  },
  {
   "cell_type": "code",
   "execution_count": 14,
   "id": "23bab44e-ab8f-443a-a9ec-d23c2b244345",
   "metadata": {},
   "outputs": [
    {
     "name": "stdout",
     "output_type": "stream",
     "text": [
      "{'000': 157, '001': 127, '010': 122, '011': 114, '100': 141, '101': 122, '110': 105, '111': 112}\n",
      "{'000': 95, '001': 582, '010': 112, '011': 77, '100': 31, '101': 57, '110': 25, '111': 21}\n",
      "{'000': 145, '001': 470, '010': 60, '011': 103, '100': 53, '101': 71, '110': 34, '111': 64}\n",
      "{'000': 161, '001': 221, '010': 118, '011': 95, '100': 119, '101': 113, '110': 98, '111': 75}\n"
     ]
    }
   ],
   "source": [
    "batch_result = job.result()\n",
    "batch_counts = batch_result.measurement_counts()\n",
    "\n",
    "for count in batch_counts:\n",
    "    print(count)"
   ]
  },
  {
   "cell_type": "markdown",
   "id": "ea1ad431-980f-4b8e-a131-cd923e3f5163",
   "metadata": {},
   "source": [
    "We see that our results line up roughly with the theoretical prediction in the xtebook. With 0 grover steps, the probability is basically evenly distributed. At one step, we see it is roughly 80% correct, as we expect. The probability then peaks at 2 steps and dips again at 3 steps."
   ]
  }
 ],
 "metadata": {
  "kernelspec": {
   "display_name": "Python 3 [qBraid]",
   "language": "python",
   "name": "python3_qbraid_sdk_9j9sjy"
  },
  "language_info": {
   "codemirror_mode": {
    "name": "ipython",
    "version": 3
   },
   "file_extension": ".py",
   "mimetype": "text/x-python",
   "name": "python",
   "nbconvert_exporter": "python",
   "pygments_lexer": "ipython3",
   "version": "3.9.12"
  }
 },
 "nbformat": 4,
 "nbformat_minor": 5
}
