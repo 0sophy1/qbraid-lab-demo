{
 "cells": [
  {
   "cell_type": "code",
   "execution_count": 1,
   "id": "ac6f7b61-1fa3-476d-b6ce-48b1237e8df5",
   "metadata": {},
   "outputs": [],
   "source": [
    "# Copyright (C) 2023 qBraid\n",
    "# Copyright (C) IBM\n",
    "#\n",
    "# This file is part of the qBraid-SDK.\n",
    "#\n",
    "# The qBraid-SDK is free software released under the GNU General Public License v3\n",
    "# or later. This specific file, adapted from Qiskit, is dual-licensed under both the\n",
    "# Apache License, Version 2.0, and the GPL v3. You may not use this file except in\n",
    "# compliance with the applicable license. You may obtain a copy of the Apache License at\n",
    "#\n",
    "# http://www.apache.org/licenses/LICENSE-2.0\n",
    "#\n",
    "# This file includes code adapted from Qiskit (https://github.com/Qiskit/qiskit-ibm-provider)\n",
    "# with modifications by qBraid. The original copyright notice is included above.\n",
    "# THERE IS NO WARRANTY for the qBraid-SDK, as per Section 15 of the GPL v3."
   ]
  },
  {
   "cell_type": "markdown",
   "id": "88b49726-b1d6-4bbf-b3eb-aaa9a384b811",
   "metadata": {},
   "source": [
    "# qBraid-SDK IBM Batch Jobs Demo: Grover's Algorithm\n"
   ]
  },
  {
   "cell_type": "markdown",
   "id": "3d6aae3b-f6ea-49da-b334-24d2e8453c3a",
   "metadata": {},
   "source": [
    "Per usual, install the qBraid SDK environment on Lab, and use the qBraid CLI to enable [Quantum Jobs](https://docs.qbraid.com/en/latest/lab/quantumjobs.html):"
   ]
  },
  {
   "cell_type": "code",
   "execution_count": 2,
   "id": "d2a0802a-c9ee-4e13-9662-b92018b65117",
   "metadata": {},
   "outputs": [
    {
     "name": "stdout",
     "output_type": "stream",
     "text": [
      "\u001b[0;35mYou have already enabled qBraid Quantum Jobs in the qbraid_sdk environment.\u001b[0m\n"
     ]
    }
   ],
   "source": [
    "!qbraid jobs enable qbraid_sdk"
   ]
  },
  {
   "cell_type": "markdown",
   "id": "3585ab96-c38f-40f4-90e8-a864667c7a4d",
   "metadata": {},
   "source": [
    "You can check that the `jobs` keyword next to the qBraid SDK environment is now green."
   ]
  },
  {
   "cell_type": "code",
   "execution_count": 3,
   "id": "46968e9b-ccd0-49a1-9c27-1f03cfb97f17",
   "metadata": {},
   "outputs": [
    {
     "name": "stdout",
     "output_type": "stream",
     "text": [
      "# installed environments:\n",
      "#\n",
      "default                  \u001b[0;31mjobs\u001b[0m  /opt/.qbraid/environments/qbraid_000000\n",
      "aws_braket               \u001b[0;32mjobs\u001b[0m  /home/jovyan/.qbraid/environments/aws_braket_kwx6dl\n",
      "qbraid_sdk               \u001b[0;32mjobs\u001b[0m  /home/jovyan/.qbraid/environments/qbraid_sdk_9j9sjy\n",
      "\n"
     ]
    }
   ],
   "source": [
    "!qbraid envs list"
   ]
  },
  {
   "cell_type": "markdown",
   "id": "05a7d8b8-7095-4c74-a8ec-8a6ae6e1a091",
   "metadata": {},
   "source": [
    "It's important to import the qBraid SDK only *after* you have enabled quantum jobs."
   ]
  },
  {
   "cell_type": "code",
   "execution_count": 4,
   "id": "c58a6923-26f6-4d27-8a6e-32323e4484d1",
   "metadata": {},
   "outputs": [
    {
     "data": {
      "text/plain": [
       "'0.4.4.dev20230816194153'"
      ]
     },
     "execution_count": 4,
     "metadata": {},
     "output_type": "execute_result"
    }
   ],
   "source": [
    "import qbraid\n",
    "\n",
    "qbraid.__version__"
   ]
  },
  {
   "cell_type": "markdown",
   "id": "2408ab07-9f93-461a-9384-b5e4436411e8",
   "metadata": {},
   "source": [
    "## Creating the Circuits"
   ]
  },
  {
   "cell_type": "code",
   "execution_count": 5,
   "id": "984a0746-808a-4d06-9adb-2d7513dead36",
   "metadata": {},
   "outputs": [],
   "source": [
    "from qiskit import QuantumCircuit\n",
    "from numpy import random\n",
    "import matplotlib.pyplot as plt"
   ]
  },
  {
   "cell_type": "markdown",
   "id": "7b97a410-48ff-4b68-96d0-1e0e63de92ae",
   "metadata": {},
   "source": [
    "The code for this circuit was taken from IBMs [Qiskit Textbook](https://learn.qiskit.org/course/ch-algorithms/grovers-algorithm). Grover's algorithm let's us find a marked item in a box in √N steps as opposed to N steps classicaly. In this case we'll run Grover's algorithm for various numbers of steps to observe how the performance varies. This will allow us to test qBraid's [run_batch](https://github.com/qBraid/qBraid/blob/6e6cecc3ec4b7bac973f557606778d2cd07b8307/qbraid/devices/ibm/device.py#L111) functionality."
   ]
  },
  {
   "cell_type": "code",
   "execution_count": 6,
   "id": "1eba1979-e8c7-4388-aa3a-29e3a1ff7cef",
   "metadata": {},
   "outputs": [
    {
     "name": "stdout",
     "output_type": "stream",
     "text": [
      "marked entry:  6\n"
     ]
    }
   ],
   "source": [
    "n = 3\n",
    "marked_entry = random.randint(0, 2**n - 1)\n",
    "print(\"marked entry: \", marked_entry)"
   ]
  },
  {
   "cell_type": "code",
   "execution_count": 7,
   "id": "17c2cef0-5746-4558-a3af-51890b7ebd8c",
   "metadata": {},
   "outputs": [],
   "source": [
    "Vf = QuantumCircuit(n, n)\n",
    "\n",
    "Uw = []\n",
    "for i in range(2**n):\n",
    "    if i == marked_entry:\n",
    "        Uw.append(-1)\n",
    "    else:\n",
    "        Uw.append(1)\n",
    "Vf.diagonal(Uw, [0, 1, 2])\n",
    "\n",
    "\n",
    "# Diffuser from the Qiskit Textbook\n",
    "def diffuser(nqubits):\n",
    "    qc = QuantumCircuit(nqubits)\n",
    "    # Apply transformation |s> -> |00..0> (H-gates)\n",
    "    for qubit in range(nqubits):\n",
    "        qc.h(qubit)\n",
    "    # Apply transformation |00..0> -> |11..1> (X-gates)\n",
    "    for qubit in range(nqubits):\n",
    "        qc.x(qubit)\n",
    "    # Do multi-controlled-Z gate\n",
    "    qc.h(nqubits - 1)\n",
    "    qc.mct(list(range(nqubits - 1)), nqubits - 1)  # multi-controlled-toffoli\n",
    "    qc.h(nqubits - 1)\n",
    "    # Apply transformation |11..1> -> |00..0>\n",
    "    for qubit in range(nqubits):\n",
    "        qc.x(qubit)\n",
    "    # Apply transformation |00..0> -> |s>\n",
    "    for qubit in range(nqubits):\n",
    "        qc.h(qubit)\n",
    "    # We will return the diffuser as a gate\n",
    "    U_s = qc.to_gate()\n",
    "    U_s.name = \"U$_s$\"\n",
    "    return U_s\n",
    "\n",
    "\n",
    "W = QuantumCircuit(n, n)\n",
    "W.append(diffuser(n), range(n))\n",
    "VW = Vf.compose(W)"
   ]
  },
  {
   "cell_type": "code",
   "execution_count": 8,
   "id": "2cc8b575-f61f-456c-b185-340a909aa6fe",
   "metadata": {},
   "outputs": [
    {
     "data": {
      "image/png": "[encoded data removed]",
      "text/plain": [
       "<Figure size 1207.22x367.889 with 1 Axes>"
      ]
     },
     "execution_count": 8,
     "metadata": {},
     "output_type": "execute_result"
    }
   ],
   "source": [
    "# create list of circuits to run\n",
    "n_steps = 3\n",
    "grover_init = QuantumCircuit(VW.num_qubits, VW.num_clbits)\n",
    "grover_init.h(range(n))  # add the Hadamards\n",
    "circuits = [grover_init]  # circuits[j] will have (VW)**j:\n",
    "for _ in range(n_steps):\n",
    "    circuits.append(circuits[-1].compose(VW))\n",
    "for grover in circuits:\n",
    "    grover.measure(range(n), range(n))  # add measurements\n",
    "\n",
    "circuits[3].draw(\"mpl\")"
   ]
  },
  {
   "cell_type": "markdown",
   "id": "879a9d4e-88d2-4bd6-8681-2e67a93f075d",
   "metadata": {},
   "source": [
    "Now that we've created our Grover circuit for n = 0, 1, 2, and 3, we can simply pass the `circuits` array"
   ]
  },
  {
   "cell_type": "markdown",
   "id": "43dfd23a-29b4-40fb-9b8b-b14f9c83621e",
   "metadata": {},
   "source": [
    "# Running the Circuits"
   ]
  },
  {
   "cell_type": "markdown",
   "id": "18bde20a-279d-4345-948a-a51f814f233f",
   "metadata": {},
   "source": [
    "First, let's check how many credits we have left"
   ]
  },
  {
   "cell_type": "code",
   "execution_count": 9,
   "id": "be1afb47-6b0d-473d-8a1c-e762ba73bbff",
   "metadata": {},
   "outputs": [
    {
     "name": "stdout",
     "output_type": "stream",
     "text": [
      "\u001b[0;35mYou have \u001b[0m1000.00\u001b[0;35m remaining qBraid credits.\u001b[0m\n"
     ]
    }
   ],
   "source": [
    "!qbraid jobs get-credits"
   ]
  },
  {
   "cell_type": "markdown",
   "id": "0346ff12-5c3f-4c59-86f9-1e150b9b4c26",
   "metadata": {},
   "source": [
    "We can also check which devices are online:"
   ]
  },
  {
   "cell_type": "code",
   "execution_count": 10,
   "id": "578e8d69-1ab2-4c2c-a35a-6e33ccc526b5",
   "metadata": {},
   "outputs": [],
   "source": [
    "from qbraid import get_devices"
   ]
  },
  {
   "cell_type": "code",
   "execution_count": 11,
   "id": "0cfd0932-88fe-4d64-b3a8-ec6eb806b999",
   "metadata": {},
   "outputs": [
    {
     "data": {
      "text/html": [
       "<h3>Supported Devices</h3><table><tr>\n",
       "    <th style='text-align:left'>Provider</th>\n",
       "    <th style='text-align:left'>Name</th>\n",
       "    <th style='text-align:left'>qBraid ID</th>\n",
       "    <th style='text-align:left'>Status</th></tr>\n",
       "    <tr>\n",
       "        <td style='text-align:left'>AWS</td>\n",
       "        <td style='text-align:left'>DM1</td>\n",
       "        <td style='text-align:left'><code>aws_dm_sim</code></td>\n",
       "        <td><span style='color:green'>●</span></td></tr>\n",
       "        <tr>\n",
       "        <td style='text-align:left'>AWS</td>\n",
       "        <td style='text-align:left'>SV1</td>\n",
       "        <td style='text-align:left'><code>aws_sv_sim</code></td>\n",
       "        <td><span style='color:green'>●</span></td></tr>\n",
       "        <tr>\n",
       "        <td style='text-align:left'>AWS</td>\n",
       "        <td style='text-align:left'>TN1</td>\n",
       "        <td style='text-align:left'><code>aws_tn_sim</code></td>\n",
       "        <td><span style='color:green'>●</span></td></tr>\n",
       "        <tr>\n",
       "        <td style='text-align:left'>IBM</td>\n",
       "        <td style='text-align:left'>Belem</td>\n",
       "        <td style='text-align:left'><code>ibm_q_belem</code></td>\n",
       "        <td><span style='color:green'>●</span></td></tr>\n",
       "        <tr>\n",
       "        <td style='text-align:left'>IBM</td>\n",
       "        <td style='text-align:left'>Ext. stabilizer simulator</td>\n",
       "        <td style='text-align:left'><code>ibm_q_simulator_extended_stabilizer</code></td>\n",
       "        <td><span style='color:green'>●</span></td></tr>\n",
       "        <tr>\n",
       "        <td style='text-align:left'>IBM</td>\n",
       "        <td style='text-align:left'>Jakarta</td>\n",
       "        <td style='text-align:left'><code>ibm_q_jakarta</code></td>\n",
       "        <td><span style='color:green'>●</span></td></tr>\n",
       "        <tr>\n",
       "        <td style='text-align:left'>IBM</td>\n",
       "        <td style='text-align:left'>Lagos</td>\n",
       "        <td style='text-align:left'><code>ibm_q_lagos</code></td>\n",
       "        <td><span style='color:red'>○</span></td></tr>\n",
       "        <tr>\n",
       "        <td style='text-align:left'>IBM</td>\n",
       "        <td style='text-align:left'>Lima</td>\n",
       "        <td style='text-align:left'><code>ibm_q_lima</code></td>\n",
       "        <td><span style='color:green'>●</span></td></tr>\n",
       "        <tr>\n",
       "        <td style='text-align:left'>IBM</td>\n",
       "        <td style='text-align:left'>MPS simulator</td>\n",
       "        <td style='text-align:left'><code>ibm_q_simulator_mps</code></td>\n",
       "        <td><span style='color:green'>●</span></td></tr>\n",
       "        <tr>\n",
       "        <td style='text-align:left'>IBM</td>\n",
       "        <td style='text-align:left'>Manila</td>\n",
       "        <td style='text-align:left'><code>ibm_q_manila</code></td>\n",
       "        <td><span style='color:green'>●</span></td></tr>\n",
       "        <tr>\n",
       "        <td style='text-align:left'>IBM</td>\n",
       "        <td style='text-align:left'>Nairobi</td>\n",
       "        <td style='text-align:left'><code>ibm_q_nairobi</code></td>\n",
       "        <td><span style='color:green'>●</span></td></tr>\n",
       "        <tr>\n",
       "        <td style='text-align:left'>IBM</td>\n",
       "        <td style='text-align:left'>Oslo</td>\n",
       "        <td style='text-align:left'><code>ibm_q_oslo</code></td>\n",
       "        <td><span style='color:red'>○</span></td></tr>\n",
       "        <tr>\n",
       "        <td style='text-align:left'>IBM</td>\n",
       "        <td style='text-align:left'>Perth</td>\n",
       "        <td style='text-align:left'><code>ibm_q_perth</code></td>\n",
       "        <td><span style='color:green'>●</span></td></tr>\n",
       "        <tr>\n",
       "        <td style='text-align:left'>IBM</td>\n",
       "        <td style='text-align:left'>QASM simulator</td>\n",
       "        <td style='text-align:left'><code>ibm_q_qasm_simulator</code></td>\n",
       "        <td><span style='color:green'>●</span></td></tr>\n",
       "        <tr>\n",
       "        <td style='text-align:left'>IBM</td>\n",
       "        <td style='text-align:left'>Quito</td>\n",
       "        <td style='text-align:left'><code>ibm_q_quito</code></td>\n",
       "        <td><span style='color:green'>●</span></td></tr>\n",
       "        <tr>\n",
       "        <td style='text-align:left'>IBM</td>\n",
       "        <td style='text-align:left'>Stabilizer simulator</td>\n",
       "        <td style='text-align:left'><code>ibm_q_simulator_stabilizer</code></td>\n",
       "        <td><span style='color:green'>●</span></td></tr>\n",
       "        <tr>\n",
       "        <td style='text-align:left'>IBM</td>\n",
       "        <td style='text-align:left'>State vector simulator</td>\n",
       "        <td style='text-align:left'><code>ibm_q_simulator_statevector</code></td>\n",
       "        <td><span style='color:green'>●</span></td></tr>\n",
       "        <tr>\n",
       "        <td style='text-align:left'>IonQ</td>\n",
       "        <td style='text-align:left'>Aria-1</td>\n",
       "        <td style='text-align:left'><code>aws_ionq_aria1</code></td>\n",
       "        <td><span style='color:red'>○</span></td></tr>\n",
       "        <tr>\n",
       "        <td style='text-align:left'>IonQ</td>\n",
       "        <td style='text-align:left'>Harmony</td>\n",
       "        <td style='text-align:left'><code>aws_ionq_harmony</code></td>\n",
       "        <td><span style='color:red'>○</span></td></tr>\n",
       "        <tr>\n",
       "        <td style='text-align:left'>OQC</td>\n",
       "        <td style='text-align:left'>Lucy</td>\n",
       "        <td style='text-align:left'><code>aws_oqc_lucy</code></td>\n",
       "        <td><span style='color:red'>○</span></td></tr>\n",
       "        <tr>\n",
       "        <td style='text-align:left'>QuEra</td>\n",
       "        <td style='text-align:left'>Aquila</td>\n",
       "        <td style='text-align:left'><code>aws_quera_aquila</code></td>\n",
       "        <td><span style='color:red'>○</span></td></tr>\n",
       "        <tr>\n",
       "        <td style='text-align:left'>Rigetti</td>\n",
       "        <td style='text-align:left'>Aspen-M-2</td>\n",
       "        <td style='text-align:left'><code>aws_rigetti_aspen_m2</code></td>\n",
       "        <td><span style='color:red'>○</span></td></tr>\n",
       "        <tr>\n",
       "        <td style='text-align:left'>Rigetti</td>\n",
       "        <td style='text-align:left'>Aspen-M-3</td>\n",
       "        <td style='text-align:left'><code>aws_rigetti_aspen_m3</code></td>\n",
       "        <td><span style='color:red'>○</span></td></tr>\n",
       "        <tr>\n",
       "        <td style='text-align:left'>Xanadu</td>\n",
       "        <td style='text-align:left'>Borealis</td>\n",
       "        <td style='text-align:left'><code>aws_xanadu_borealis</code></td>\n",
       "        <td><span style='color:red'>○</span></td></tr>\n",
       "        <tr><td colspan='4'; style='text-align:right'>Device status updated 0 minutes ago</td></tr></table>"
      ],
      "text/plain": [
       "<IPython.core.display.HTML object>"
      ]
     },
     "metadata": {},
     "output_type": "display_data"
    }
   ],
   "source": [
    "get_devices(filters={\"vendor\": \"IBM\"})"
   ]
  },
  {
   "cell_type": "markdown",
   "id": "0a7f5c71-231d-4485-a5f1-2373efcb7c9b",
   "metadata": {},
   "source": [
    "Now let's load in our IBM account:"
   ]
  },
  {
   "cell_type": "code",
   "execution_count": 12,
   "id": "e3db73c0-b22a-41ec-a49b-cfcfc200feb8",
   "metadata": {},
   "outputs": [],
   "source": [
    "# from qiskit_ibm_provider import IBMProvider\n",
    "\n",
    "# from qbraid.devices.ibm import ibm_provider\n",
    "\n",
    "# QISKIT_IBM_TOKEN = 'cd1bef0497104335291e1ef5af70f7309540392f0a1e58cecd1844753d4567d46e54ad41f3cecfee19e4edca185162177046b12cb1a3d1e3d7f2d92154ea331b'\n",
    "# provider = ibm_provider(token=QISKIT_IBM_TOKEN)"
   ]
  },
  {
   "cell_type": "markdown",
   "id": "4e4f1c13-9949-4d6f-a887-b87afbb95407",
   "metadata": {},
   "source": [
    "In this tutorial we'll use IBM's Lima computer, since we see that it's online. Now we can use qBraid's [device wrapper](https://docs.qbraid.com/en/latest/sdk/devices.html#device-wrapper) to run this job. The device wrapper adds a layer of abstraction, allowing us to run more types of circuits on more devices, and in this case letting us use the `run_batch` method. "
   ]
  },
  {
   "cell_type": "code",
   "execution_count": 13,
   "id": "31c1b440-6c79-4b97-b7a6-9a0aa6703c4d",
   "metadata": {},
   "outputs": [],
   "source": [
    "from qbraid import device_wrapper\n",
    "\n",
    "device = device_wrapper(\"ibm_q_lima\")\n",
    "job = device.run_batch(circuits, shots=100)"
   ]
  },
  {
   "cell_type": "code",
   "execution_count": 14,
   "id": "8e5895a1-c977-4e8a-bd5a-e365a66d17c5",
   "metadata": {},
   "outputs": [
    {
     "data": {
      "text/plain": [
       "<JobStatus.QUEUED: 'job is queued'>"
      ]
     },
     "execution_count": 14,
     "metadata": {},
     "output_type": "execute_result"
    }
   ],
   "source": [
    "job.status()"
   ]
  },
  {
   "cell_type": "code",
   "execution_count": null,
   "id": "aaf0e4fa-f163-4b9b-9b25-629c44424d4b",
   "metadata": {},
   "outputs": [],
   "source": [
    "result = job.result()\n",
    "counts = result.measurement_counts()"
   ]
  },
  {
   "cell_type": "code",
   "execution_count": null,
   "id": "23bab44e-ab8f-443a-a9ec-d23c2b244345",
   "metadata": {},
   "outputs": [],
   "source": [
    "for circ in counts:\n",
    "    print circ"
   ]
  },
  {
   "cell_type": "markdown",
   "id": "ea1ad431-980f-4b8e-a131-cd923e3f5163",
   "metadata": {},
   "source": [
    "We see that our results line up roughly with the theoretical prediction in the xtebook. With 0 grover steps, the probability is basically evenly distributed. At one step, we see it is roughly 80% correct, as we expect. The probability then peaks at 2 steps and dips again at 3 steps."
   ]
  },
  {
   "cell_type": "code",
   "execution_count": null,
   "id": "0d83e1d7-cb00-4b8a-8174-7f1c0408a505",
   "metadata": {},
   "outputs": [],
   "source": []
  }
 ],
 "metadata": {
  "kernelspec": {
   "display_name": "Python 3 [qBraid]",
   "language": "python",
   "name": "python3_qbraid_sdk_9j9sjy"
  },
  "language_info": {
   "codemirror_mode": {
    "name": "ipython",
    "version": 3
   },
   "file_extension": ".py",
   "mimetype": "text/x-python",
   "name": "python",
   "nbconvert_exporter": "python",
   "pygments_lexer": "ipython3",
   "version": "3.9.12"
  }
 },
 "nbformat": 4,
 "nbformat_minor": 5
}
