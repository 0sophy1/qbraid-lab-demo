{
 "cells": [
  {
   "cell_type": "markdown",
   "id": "c7b38b09-44f5-46b5-9809-23de47ada6c5",
   "metadata": {},
   "source": [
    "# QbraidProvider"
   ]
  },
  {
   "cell_type": "code",
   "execution_count": 1,
   "id": "23a8fa7a-872b-43eb-92a5-8b960b6215c3",
   "metadata": {},
   "outputs": [],
   "source": [
    "import qbraid\n",
    "\n",
    "from qbraid.providers import QbraidProvider"
   ]
  },
  {
   "cell_type": "code",
   "execution_count": 2,
   "id": "025cdd59-667f-476a-bea0-3499ab7c3610",
   "metadata": {},
   "outputs": [
    {
     "data": {
      "text/plain": [
       "'0.5.0.dev'"
      ]
     },
     "execution_count": 2,
     "metadata": {},
     "output_type": "execute_result"
    }
   ],
   "source": [
    "qbraid.__version__"
   ]
  },
  {
   "cell_type": "code",
   "execution_count": 3,
   "id": "b5e61fc3-5979-4eb9-8076-44a50cbcc8af",
   "metadata": {},
   "outputs": [
    {
     "data": {
      "text/plain": [
       "[Device('name': Aquila, 'arn': arn:aws:braket:us-east-1::device/qpu/quera/Aquila),\n",
       " Device('name': Aria 1, 'arn': arn:aws:braket:us-east-1::device/qpu/ionq/Aria-1),\n",
       " Device('name': Aria 2, 'arn': arn:aws:braket:us-east-1::device/qpu/ionq/Aria-2),\n",
       " Device('name': Aspen-M-3, 'arn': arn:aws:braket:us-west-1::device/qpu/rigetti/Aspen-M-3),\n",
       " Device('name': Forte 1, 'arn': arn:aws:braket:us-east-1::device/qpu/ionq/Forte-1),\n",
       " Device('name': Harmony, 'arn': arn:aws:braket:us-east-1::device/qpu/ionq/Harmony),\n",
       " Device('name': Lucy, 'arn': arn:aws:braket:eu-west-2::device/qpu/oqc/Lucy),\n",
       " Device('name': SV1, 'arn': arn:aws:braket:::device/quantum-simulator/amazon/sv1),\n",
       " Device('name': TN1, 'arn': arn:aws:braket:::device/quantum-simulator/amazon/tn1),\n",
       " Device('name': dm1, 'arn': arn:aws:braket:::device/quantum-simulator/amazon/dm1),\n",
       " <IBMBackend('simulator_stabilizer')>,\n",
       " <IBMBackend('ibm_brisbane')>,\n",
       " <IBMBackend('ibm_kyoto')>,\n",
       " <IBMBackend('ibm_osaka')>,\n",
       " <IBMBackend('ibmq_qasm_simulator')>,\n",
       " <IBMBackend('simulator_extended_stabilizer')>,\n",
       " <IBMBackend('simulator_mps')>,\n",
       " <IBMBackend('simulator_statevector')>]"
      ]
     },
     "execution_count": 3,
     "metadata": {},
     "output_type": "execute_result"
    }
   ],
   "source": [
    "provider = QbraidProvider()\n",
    "\n",
    "provider.get_devices()"
   ]
  },
  {
   "cell_type": "code",
   "execution_count": 4,
   "id": "6b2d696e-101f-4841-a174-ad23be105349",
   "metadata": {},
   "outputs": [
    {
     "data": {
      "text/plain": [
       "braket.aws.aws_device.AwsDevice"
      ]
     },
     "execution_count": 4,
     "metadata": {},
     "output_type": "execute_result"
    }
   ],
   "source": [
    "aws_device = provider.get_device(\"arn:aws:braket:eu-west-2::device/qpu/oqc/Lucy\")\n",
    "\n",
    "type(aws_device)"
   ]
  },
  {
   "cell_type": "code",
   "execution_count": 5,
   "id": "223a2a27-d56b-4299-9983-d974b48f70b1",
   "metadata": {},
   "outputs": [
    {
     "data": {
      "text/plain": [
       "qiskit_ibm_provider.ibm_backend.IBMBackend"
      ]
     },
     "execution_count": 5,
     "metadata": {},
     "output_type": "execute_result"
    }
   ],
   "source": [
    "ibm_device = provider.get_device(\"ibm_brisbane\")\n",
    "\n",
    "type(ibm_device)"
   ]
  },
  {
   "cell_type": "markdown",
   "id": "9d781221-9c07-42eb-bcad-63a666221356",
   "metadata": {},
   "source": [
    "## BraketProvider"
   ]
  },
  {
   "cell_type": "code",
   "execution_count": 6,
   "id": "b464cc6a-236b-4dae-b913-4dd263926a61",
   "metadata": {},
   "outputs": [],
   "source": [
    "from qbraid.providers.aws import BraketProvider, BraketDevice, get_quantum_task_cost\n",
    "\n",
    "braket_provider = BraketProvider()"
   ]
  },
  {
   "cell_type": "markdown",
   "id": "4f2f6b75-eb98-4d06-af70-bece8104dfa4",
   "metadata": {},
   "source": [
    "### Query AWS devices"
   ]
  },
  {
   "cell_type": "code",
   "execution_count": 7,
   "id": "ca0e47ed-f256-4aae-baea-fb56860821de",
   "metadata": {},
   "outputs": [
    {
     "data": {
      "text/plain": [
       "[Device('name': Aquila, 'arn': arn:aws:braket:us-east-1::device/qpu/quera/Aquila),\n",
       " Device('name': Forte 1, 'arn': arn:aws:braket:us-east-1::device/qpu/ionq/Forte-1),\n",
       " Device('name': Lucy, 'arn': arn:aws:braket:eu-west-2::device/qpu/oqc/Lucy)]"
      ]
     },
     "execution_count": 7,
     "metadata": {},
     "output_type": "execute_result"
    }
   ],
   "source": [
    "braket_provider.get_devices(statuses=\"ONLINE\", types=[\"QPU\"])"
   ]
  },
  {
   "cell_type": "code",
   "execution_count": 8,
   "id": "48dbb5c6-79c5-4a53-ae00-aaba6546fd7d",
   "metadata": {},
   "outputs": [
    {
     "data": {
      "text/plain": [
       "('AWS', 'Oxford', 'Lucy')"
      ]
     },
     "execution_count": 8,
     "metadata": {},
     "output_type": "execute_result"
    }
   ],
   "source": [
    "braket_device = BraketDevice(aws_device)\n",
    "\n",
    "braket_device.vendor, braket_device.provider, braket_device.name"
   ]
  },
  {
   "cell_type": "code",
   "execution_count": 9,
   "id": "87f2a8bc-c39a-447c-b81f-6d07a519e5cd",
   "metadata": {},
   "outputs": [
    {
     "data": {
      "text/plain": [
       "8"
      ]
     },
     "execution_count": 9,
     "metadata": {},
     "output_type": "execute_result"
    }
   ],
   "source": [
    "braket_device.queue_depth()"
   ]
  },
  {
   "cell_type": "code",
   "execution_count": 10,
   "id": "b6742d3e-ed2b-4e46-9133-2b0a89d68595",
   "metadata": {},
   "outputs": [
    {
     "name": "stdout",
     "output_type": "stream",
     "text": [
      "2024-01-11T10:00:00Z\n"
     ]
    }
   ],
   "source": [
    "_, _, next_availability_switch_utc = braket_device.availability_window()\n",
    "\n",
    "print(next_availability_switch_utc)"
   ]
  },
  {
   "cell_type": "markdown",
   "id": "fe137aab-50f5-42f1-9482-4f4e075b4e14",
   "metadata": {},
   "source": [
    "### Query AWS quantum tasks"
   ]
  },
  {
   "cell_type": "code",
   "execution_count": 11,
   "id": "f596e845-6b15-4ac5-8be1-87d32721a289",
   "metadata": {},
   "outputs": [
    {
     "data": {
      "text/plain": [
       "5"
      ]
     },
     "execution_count": 11,
     "metadata": {},
     "output_type": "execute_result"
    }
   ],
   "source": [
    "tagged_tasks = braket_provider.get_tasks_by_tag(\"test\")\n",
    "\n",
    "len(tagged_tasks)"
   ]
  },
  {
   "cell_type": "code",
   "execution_count": 12,
   "id": "6df4b123-1307-46f4-a1ff-ab0edcfc1f05",
   "metadata": {},
   "outputs": [
    {
     "data": {
      "text/plain": [
       "Decimal('0.0037500000')"
      ]
     },
     "execution_count": 12,
     "metadata": {},
     "output_type": "execute_result"
    }
   ],
   "source": [
    "task_arn = tagged_tasks[0]\n",
    "\n",
    "get_quantum_task_cost(task_arn)"
   ]
  },
  {
   "cell_type": "code",
   "execution_count": 13,
   "id": "cf5240f8-cd00-44c6-ba2a-ed09e511f39f",
   "metadata": {},
   "outputs": [
    {
     "data": {
      "text/html": [
       "<h3>Quantum Jobs</h3><table><tr>\n",
       "    <th style='text-align:left'>qBraid ID</th>\n",
       "    <th style='text-align:left'>Submitted</th>\n",
       "    <th style='text-align:left'>Status</th></tr>\n",
       "    <tr>\n",
       "        <td style='text-align:left'>aws_dm_sim-markovshama-qjob-i0b6sv9fzrz7xctm7a0j</td>\n",
       "        <td style='text-align:left'>2024-01-10T21:05:42.927Z</td>\n",
       "        <td style='text-align:left'><span style='color:blue'>INITIALIZING</span></td></tr>\n",
       "        <tr>\n",
       "        <td style='text-align:left'>aws_dm_sim-markovshama-qjob-32djqimt1k9vbbd1klhb</td>\n",
       "        <td style='text-align:left'>2024-01-10T00:47:03.073Z</td>\n",
       "        <td style='text-align:left'><span style='color:green'>COMPLETED</span></td></tr>\n",
       "        <tr>\n",
       "        <td style='text-align:left'>aws_dm_sim-markovshama-qjob-e9s3e9jxte9hwb18yu3g</td>\n",
       "        <td style='text-align:left'>2024-01-08T23:20:11.933Z</td>\n",
       "        <td style='text-align:left'><span style='color:green'>COMPLETED</span></td></tr>\n",
       "        <tr>\n",
       "        <td style='text-align:left'>aws_dm_sim-markovshama-qjob-e5vxqgdjsx23tuzn1ryw</td>\n",
       "        <td style='text-align:left'>2024-01-08T22:52:03.040Z</td>\n",
       "        <td style='text-align:left'><span style='color:green'>COMPLETED</span></td></tr>\n",
       "        <tr>\n",
       "        <td style='text-align:left'>aws_dm_sim-markovshama-qjob-dlln5g8q8vv5u421xsy5</td>\n",
       "        <td style='text-align:left'>2024-01-07T01:16:38.432Z</td>\n",
       "        <td style='text-align:left'><span style='color:green'>COMPLETED</span></td></tr>\n",
       "        <tr><td colspan='4'; style='text-align:right'>Displaying 5/5 jobs matching query</td></tr></table>"
      ],
      "text/plain": [
       "<IPython.core.display.HTML object>"
      ]
     },
     "metadata": {},
     "output_type": "display_data"
    }
   ],
   "source": [
    "qbraid.get_jobs(filters={\"tags\": {\"test\": \"123\"}})"
   ]
  },
  {
   "cell_type": "code",
   "execution_count": 14,
   "id": "b5205ac8-97c7-436a-aebf-9b5e22ba6d24",
   "metadata": {},
   "outputs": [
    {
     "data": {
      "text/html": [
       "<h3>Quantum Jobs</h3><table><tr>\n",
       "    <th style='text-align:left'>qBraid ID</th>\n",
       "    <th style='text-align:left'>Submitted</th>\n",
       "    <th style='text-align:left'>Status</th></tr>\n",
       "    <tr>\n",
       "        <td style='text-align:left'>aws_dm_sim-markovshama-qjob-e5vxqgdjsx23tuzn1ryw</td>\n",
       "        <td style='text-align:left'>2024-01-08T22:52:03.040Z</td>\n",
       "        <td style='text-align:left'><span style='color:green'>COMPLETED</span></td></tr>\n",
       "        <tr><td colspan='4'; style='text-align:right'>Displaying 1/1 jobs matching query</td></tr></table>"
      ],
      "text/plain": [
       "<IPython.core.display.HTML object>"
      ]
     },
     "metadata": {},
     "output_type": "display_data"
    }
   ],
   "source": [
    "qbraid.get_jobs(filters={\"vendorJobId\": task_arn})"
   ]
  },
  {
   "cell_type": "code",
   "execution_count": 15,
   "id": "a4f7f820-3167-43fe-b4a2-38e782111033",
   "metadata": {},
   "outputs": [
    {
     "data": {
      "text/plain": [
       "qbraid.providers.aws.job.BraketQuantumTask"
      ]
     },
     "execution_count": 15,
     "metadata": {},
     "output_type": "execute_result"
    }
   ],
   "source": [
    "qbraid_job = qbraid.job_wrapper(\"aws_dm_sim-markovshama-qjob-e5vxqgdjsx23tuzn1ryw\")\n",
    "\n",
    "type(qbraid_job)"
   ]
  },
  {
   "cell_type": "code",
   "execution_count": 16,
   "id": "60cc8dc9-df83-4226-b488-f1d14d0ee4f4",
   "metadata": {},
   "outputs": [
    {
     "data": {
      "text/plain": [
       "<JobStatus.COMPLETED: 'job has successfully run'>"
      ]
     },
     "execution_count": 16,
     "metadata": {},
     "output_type": "execute_result"
    }
   ],
   "source": [
    "qbraid_job.status()"
   ]
  },
  {
   "cell_type": "code",
   "execution_count": 17,
   "id": "b53515be-54bc-46b2-a6fc-e592a417f03c",
   "metadata": {},
   "outputs": [
    {
     "data": {
      "text/plain": [
       "0.00375"
      ]
     },
     "execution_count": 17,
     "metadata": {},
     "output_type": "execute_result"
    }
   ],
   "source": [
    "qbraid_job.get_cost()"
   ]
  },
  {
   "cell_type": "markdown",
   "id": "648d4dea-9a60-43e0-9e67-4d7144936061",
   "metadata": {},
   "source": [
    "## QiskitProvider"
   ]
  },
  {
   "cell_type": "code",
   "execution_count": 18,
   "id": "8c288074-ff7f-4048-920d-61ff1c0d611f",
   "metadata": {},
   "outputs": [],
   "source": [
    "from qbraid.providers.ibm import QiskitProvider, QiskitBackend\n",
    "\n",
    "provider = QiskitProvider()"
   ]
  },
  {
   "cell_type": "code",
   "execution_count": 19,
   "id": "45f284e9-6193-4fbc-b4e7-98259773fd40",
   "metadata": {},
   "outputs": [
    {
     "data": {
      "text/plain": [
       "[<IBMBackend('ibm_brisbane')>,\n",
       " <IBMBackend('ibm_kyoto')>,\n",
       " <IBMBackend('ibm_osaka')>]"
      ]
     },
     "execution_count": 19,
     "metadata": {},
     "output_type": "execute_result"
    }
   ],
   "source": [
    "provider.get_devices(operational=True, simulator=False)"
   ]
  },
  {
   "cell_type": "code",
   "execution_count": 20,
   "id": "d6e8c6c5-85c8-492d-86ca-2a7ad91074c4",
   "metadata": {},
   "outputs": [
    {
     "data": {
      "text/plain": [
       "'ibm_q_kyoto'"
      ]
     },
     "execution_count": 20,
     "metadata": {},
     "output_type": "execute_result"
    }
   ],
   "source": [
    "provider.ibm_least_busy_qpu()"
   ]
  },
  {
   "cell_type": "markdown",
   "id": "976ff6a1-32da-49ea-af3b-63b3160badb4",
   "metadata": {},
   "source": [
    "### Query IBM backends"
   ]
  },
  {
   "cell_type": "code",
   "execution_count": 21,
   "id": "39581b36-403f-43f8-a9ab-f9f2804acee4",
   "metadata": {},
   "outputs": [
    {
     "data": {
      "text/plain": [
       "('IBM', 'ibm_brisbane')"
      ]
     },
     "execution_count": 21,
     "metadata": {},
     "output_type": "execute_result"
    }
   ],
   "source": [
    "qiskit_backend = QiskitBackend(ibm_device)\n",
    "\n",
    "qiskit_backend.provider, qiskit_backend.name"
   ]
  },
  {
   "cell_type": "code",
   "execution_count": 22,
   "id": "db53d0d7-365b-4ba6-91b4-b520d361363d",
   "metadata": {},
   "outputs": [
    {
     "data": {
      "text/plain": [
       "<DeviceStatus.ONLINE: 0>"
      ]
     },
     "execution_count": 22,
     "metadata": {},
     "output_type": "execute_result"
    }
   ],
   "source": [
    "qiskit_backend.status()"
   ]
  },
  {
   "cell_type": "code",
   "execution_count": 23,
   "id": "c8189836-57b3-4304-8516-aa92a680e8cd",
   "metadata": {},
   "outputs": [
    {
     "data": {
      "text/plain": [
       "65"
      ]
     },
     "execution_count": 23,
     "metadata": {},
     "output_type": "execute_result"
    }
   ],
   "source": [
    "qiskit_backend.queue_depth()"
   ]
  },
  {
   "cell_type": "markdown",
   "id": "41bb203d-fb7e-4f74-98f4-a443abe94772",
   "metadata": {},
   "source": [
    "### Query IBM jobs"
   ]
  },
  {
   "cell_type": "code",
   "execution_count": 24,
   "id": "bcaf275a-2ded-45ed-8998-9a7238dfe72a",
   "metadata": {},
   "outputs": [
    {
     "data": {
      "text/html": [
       "<h3>Quantum Jobs</h3><table><tr>\n",
       "    <th style='text-align:left'>qBraid ID</th>\n",
       "    <th style='text-align:left'>Submitted</th>\n",
       "    <th style='text-align:left'>Status</th></tr>\n",
       "    <tr>\n",
       "        <td style='text-align:left'>ibm_q_qasm_simulator-markovshama-qjob-zy12imhp7n43what3zeh</td>\n",
       "        <td style='text-align:left'>2024-01-10T21:05:50.850Z</td>\n",
       "        <td style='text-align:left'><span style='color:green'>COMPLETED</span></td></tr>\n",
       "        <tr>\n",
       "        <td style='text-align:left'>ibm_q_qasm_simulator-markovshama-qjob-l26uo6t1lb4gmnlupy5d</td>\n",
       "        <td style='text-align:left'>2024-01-10T00:47:15.785Z</td>\n",
       "        <td style='text-align:left'><span style='color:green'>COMPLETED</span></td></tr>\n",
       "        <tr>\n",
       "        <td style='text-align:left'>ibm_q_qasm_simulator-markovshama-qjob-z1jx9zhp2eik8ldub6dy</td>\n",
       "        <td style='text-align:left'>2024-01-08T23:20:21.427Z</td>\n",
       "        <td style='text-align:left'><span style='color:blue'>INITIALIZING</span></td></tr>\n",
       "        <tr>\n",
       "        <td style='text-align:left'>ibm_q_qasm_simulator-markovshama-qjob-5tmp37mfo7cqqtqomer3</td>\n",
       "        <td style='text-align:left'>2024-01-08T22:52:12.400Z</td>\n",
       "        <td style='text-align:left'><span style='color:blue'>INITIALIZING</span></td></tr>\n",
       "        <tr><td colspan='4'; style='text-align:right'>Displaying 4/4 jobs matching query</td></tr></table>"
      ],
      "text/plain": [
       "<IPython.core.display.HTML object>"
      ]
     },
     "metadata": {},
     "output_type": "display_data"
    }
   ],
   "source": [
    "qbraid.get_jobs(\n",
    "    filters={\n",
    "        \"tags\": {\"test\": \"*\"},\n",
    "        \"qbraidDeviceId\": QiskitProvider.ibm_to_qbraid_id(\"ibmq_qasm_simulator\"),\n",
    "    }\n",
    ")"
   ]
  },
  {
   "cell_type": "code",
   "execution_count": 25,
   "id": "8e4d47a7-2ce8-47bf-b5f8-ad93df9614ac",
   "metadata": {},
   "outputs": [
    {
     "data": {
      "text/plain": [
       "qbraid.providers.ibm.job.QiskitJob"
      ]
     },
     "execution_count": 25,
     "metadata": {},
     "output_type": "execute_result"
    }
   ],
   "source": [
    "qbraid_job = qbraid.job_wrapper(\n",
    "    \"ibm_q_qasm_simulator-markovshama-qjob-zy12imhp7n43what3zeh\"\n",
    ")\n",
    "\n",
    "type(qbraid_job)"
   ]
  },
  {
   "cell_type": "code",
   "execution_count": 26,
   "id": "5968f678-4688-420f-b103-05adbedb0106",
   "metadata": {},
   "outputs": [
    {
     "data": {
      "text/plain": [
       "<JobStatus.COMPLETED: 'job has successfully run'>"
      ]
     },
     "execution_count": 26,
     "metadata": {},
     "output_type": "execute_result"
    }
   ],
   "source": [
    "qbraid_job.status()"
   ]
  }
 ],
 "metadata": {
  "kernelspec": {
   "display_name": "Python 3 (ipykernel)",
   "language": "python",
   "name": "python3"
  },
  "language_info": {
   "codemirror_mode": {
    "name": "ipython",
    "version": 3
   },
   "file_extension": ".py",
   "mimetype": "text/x-python",
   "name": "python",
   "nbconvert_exporter": "python",
   "pygments_lexer": "ipython3",
   "version": "3.10.13"
  }
 },
 "nbformat": 4,
 "nbformat_minor": 5
}
