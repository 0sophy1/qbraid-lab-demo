{
 "cells": [
  {
   "cell_type": "code",
   "execution_count": 3,
   "id": "8a4363d6-4528-4a07-bfa7-e49227b97295",
   "metadata": {},
   "outputs": [],
   "source": [
    "from qiskit import QuantumCircuit\n",
    "import numpy as np"
   ]
  },
  {
   "cell_type": "code",
   "execution_count": 5,
   "id": "ff57faff-dfce-48b2-8caf-7c3ce886f45e",
   "metadata": {},
   "outputs": [
    {
     "data": {
      "text/html": [
       "<pre style=\"word-wrap: normal;white-space: pre;background: #fff0;line-height: 1.1;font-family: &quot;Courier New&quot;,Courier,monospace\">     ┌───┐┌─────────┐┌──────────┐\n",
       "q_0: ┤ H ├┤ Ry(π/4) ├┤ Ry(3π/4) ├\n",
       "     ├───┤├─────────┤└┬───────┬─┘\n",
       "q_1: ┤ H ├┤ Rz(π/2) ├─┤ Rz(π) ├──\n",
       "     └───┘└─────────┘ └───────┘  </pre>"
      ],
      "text/plain": [
       "     ┌───┐┌─────────┐┌──────────┐\n",
       "q_0: ┤ H ├┤ Ry(π/4) ├┤ Ry(3π/4) ├\n",
       "     ├───┤├─────────┤└┬───────┬─┘\n",
       "q_1: ┤ H ├┤ Rz(π/2) ├─┤ Rz(π) ├──\n",
       "     └───┘└─────────┘ └───────┘  "
      ]
     },
     "execution_count": 5,
     "metadata": {},
     "output_type": "execute_result"
    }
   ],
   "source": [
    "from qiskit import QuantumCircuit\n",
    "import numpy as np\n",
    "\n",
    "qskt_circuit = QuantumCircuit(2)\n",
    "\n",
    "theta = [np.pi/4, np.pi/2, 3*np.pi/4, np.pi]\n",
    "\n",
    "qskt_circuit.h([0, 1])\n",
    "qskt_circuit.ry(theta[0], 0)\n",
    "qskt_circuit.rz(theta[1], 1)\n",
    "qskt_circuit.ry(theta[2], 0)\n",
    "qskt_circuit.rz(theta[3], 1)\n",
    "\n",
    "qskt_circuit.draw()"
   ]
  },
  {
   "cell_type": "code",
   "execution_count": 4,
   "id": "9b6b56a6-8809-403e-b84a-d60130ac0824",
   "metadata": {},
   "outputs": [],
   "source": [
    "# qskt_sim = Aer.get_backend('statevector_simulator')\n",
    "# qskt_sim_job = qskt_sim.run(qskt_circuit)\n",
    "# qskt_sim_result = qskt_sim_job.result()\n",
    "# qskt_sim_result.get_counts()"
   ]
  },
  {
   "cell_type": "code",
   "execution_count": null,
   "id": "5e9abe59-d210-4a9a-858e-e34e8d1fc97f",
   "metadata": {},
   "outputs": [],
   "source": [
    "# qbraid device.pending_jobs()\n",
    "qbraid.ibmq_least_busy_qpu()"
   ]
  }
 ],
 "metadata": {
  "kernelspec": {
   "display_name": "Python 3 [qBraid-SDK]",
   "language": "python",
   "name": "python3_qbraid_sdk_9j9sjy"
  },
  "language_info": {
   "codemirror_mode": {
    "name": "ipython",
    "version": 3
   },
   "file_extension": ".py",
   "mimetype": "text/x-python",
   "name": "python",
   "nbconvert_exporter": "python",
   "pygments_lexer": "ipython3",
   "version": "3.9.7"
  }
 },
 "nbformat": 4,
 "nbformat_minor": 5
}
