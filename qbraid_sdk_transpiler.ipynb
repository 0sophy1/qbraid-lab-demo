{
 "cells": [
  {
   "cell_type": "markdown",
   "id": "98528633",
   "metadata": {},
   "source": [
    "# qBraid-SDK Transpiler Demo"
   ]
  },
  {
   "cell_type": "code",
   "execution_count": 1,
   "id": "331a496f",
   "metadata": {},
   "outputs": [
    {
     "name": "stderr",
     "output_type": "stream",
     "text": [
      "/home/jovyan/.qbraid/environments/qbraid_sdk_9j9sjy/pyenv/lib/python3.9/site-packages/_distutils_hack/__init__.py:30: UserWarning: Setuptools is replacing distutils.\n",
      "  warnings.warn(\"Setuptools is replacing distutils.\")\n"
     ]
    }
   ],
   "source": [
    "import numpy as np\n",
    "from time import time\n",
    "\n",
    "from qbraid import circuit_wrapper, SUPPORTED_PROGRAM_TYPES\n",
    "from qbraid.interface import to_unitary, circuits_allclose, draw\n",
    "from qbraid.interface._programs import bell_data\n",
    "\n",
    "start_notebook = time()"
   ]
  },
  {
   "cell_type": "markdown",
   "id": "f8360d49",
   "metadata": {},
   "source": [
    "The qbraid transpiler supports the following frontend modules / quantum program types:"
   ]
  },
  {
   "cell_type": "code",
   "execution_count": null,
   "id": "0c41ae38",
   "metadata": {},
   "outputs": [],
   "source": [
    "SUPPORTED_PROGRAM_TYPES"
   ]
  },
  {
   "cell_type": "markdown",
   "id": "55ca860d",
   "metadata": {},
   "source": [
    "## Intro to `qbraid.circuit_wrapper` with Bell circuit example"
   ]
  },
  {
   "cell_type": "markdown",
   "id": "5c2ee7fa",
   "metadata": {},
   "source": [
    "Load test data containing a bell circuit function for each supported program type, along with the unitary matrix that each circuit represents / implements."
   ]
  },
  {
   "cell_type": "code",
   "execution_count": null,
   "id": "db7cbb75",
   "metadata": {},
   "outputs": [],
   "source": [
    "bell_circuits, expected_u = bell_data()\n",
    "print(expected_u.shape)"
   ]
  },
  {
   "cell_type": "markdown",
   "id": "317de61c",
   "metadata": {},
   "source": [
    "Randomly choose a source and target package"
   ]
  },
  {
   "cell_type": "code",
   "execution_count": null,
   "id": "b98f4738",
   "metadata": {},
   "outputs": [],
   "source": [
    "pkgs = list(SUPPORTED_PROGRAM_TYPES.keys())\n",
    "source = pkgs.pop(np.random.randint(len(pkgs)))\n",
    "target = pkgs.pop(np.random.randint(len(pkgs) - 1))\n",
    "print(f\"{source} --> {target}\")"
   ]
  },
  {
   "cell_type": "markdown",
   "id": "68538be9",
   "metadata": {},
   "source": [
    "Instantiate the circuit object in the source package and print its diagram"
   ]
  },
  {
   "cell_type": "code",
   "execution_count": null,
   "id": "9d8aea5f",
   "metadata": {},
   "outputs": [],
   "source": [
    "source_bell = bell_circuits[source]()\n",
    "print(f\"{type(source_bell)}\\n\")\n",
    "draw(source_bell)"
   ]
  },
  {
   "cell_type": "markdown",
   "id": "13eec0cd",
   "metadata": {},
   "source": [
    "Apply the qbraid circuit wrapper to the source circuit"
   ]
  },
  {
   "cell_type": "code",
   "execution_count": null,
   "id": "cb96052c",
   "metadata": {},
   "outputs": [],
   "source": [
    "wrapped_circuit = circuit_wrapper(source_bell)\n",
    "print(type(wrapped_circuit))"
   ]
  },
  {
   "cell_type": "markdown",
   "id": "0955d6d6",
   "metadata": {},
   "source": [
    "Use the transpile method to convert to the target circuit type and prints its diagram"
   ]
  },
  {
   "cell_type": "code",
   "execution_count": null,
   "id": "05730958",
   "metadata": {},
   "outputs": [],
   "source": [
    "target_bell = wrapped_circuit.transpile(target)\n",
    "print(f\"{type(target_bell)}\\n\")\n",
    "draw(target_bell)"
   ]
  },
  {
   "cell_type": "markdown",
   "id": "cd00e85a",
   "metadata": {},
   "source": [
    "Next we'll verify that the unitary representation of the target circuit is correct.\n",
    "\n",
    "Here, we're using the sdk's `to_unitary` function, which interprets the type of the input circuit, calculates its unitary using methods from that circuits native module, and returns the resulting `numpy.ndarray`."
   ]
  },
  {
   "cell_type": "code",
   "execution_count": null,
   "id": "5b309280",
   "metadata": {},
   "outputs": [],
   "source": [
    "target_u = to_unitary(target_bell)\n",
    "np.allclose(target_u, expected_u)"
   ]
  },
  {
   "cell_type": "markdown",
   "id": "ac83d0b6",
   "metadata": {},
   "source": [
    "## Now, a non-trivial example"
   ]
  },
  {
   "cell_type": "code",
   "execution_count": null,
   "id": "d06d2c1a",
   "metadata": {},
   "outputs": [],
   "source": [
    "from qiskit import QuantumCircuit"
   ]
  },
  {
   "cell_type": "code",
   "execution_count": null,
   "id": "da3079f7",
   "metadata": {},
   "outputs": [],
   "source": [
    "def test_circuit():\n",
    "    circuit = QuantumCircuit(4)\n",
    "\n",
    "    circuit.h([0, 1, 2, 3])\n",
    "    circuit.x([0, 1])\n",
    "    circuit.y(2)\n",
    "    circuit.z(3)\n",
    "    circuit.s(0)\n",
    "    circuit.sdg(1)\n",
    "    circuit.t(2)\n",
    "    circuit.tdg(3)\n",
    "    circuit.rx(np.pi / 4, 0)\n",
    "    circuit.ry(np.pi / 2, 1)\n",
    "    circuit.rz(3 * np.pi / 4, 2)\n",
    "    circuit.p(np.pi / 8, 3)\n",
    "    circuit.sx(0)\n",
    "    circuit.sxdg(1)\n",
    "    circuit.iswap(2, 3)\n",
    "    circuit.swap([0, 1], [2, 3])\n",
    "    circuit.cx(0, 1)\n",
    "    circuit.cp(np.pi / 4, 2, 3)\n",
    "\n",
    "    return circuit"
   ]
  },
  {
   "cell_type": "markdown",
   "id": "a55cf255",
   "metadata": {},
   "source": [
    "We'll start with a 4-qubit qiskit circuit that uses 15 unique gates"
   ]
  },
  {
   "cell_type": "code",
   "execution_count": null,
   "id": "8710a671",
   "metadata": {},
   "outputs": [],
   "source": [
    "qiskit_circuit = test_circuit()\n",
    "print(f\"{type(qiskit_circuit)}\\n\")\n",
    "qiskit_circuit.draw()"
   ]
  },
  {
   "cell_type": "markdown",
   "id": "970c8b71",
   "metadata": {},
   "source": [
    "Applying the circuit wrapper and transpiling to braket and cirq"
   ]
  },
  {
   "cell_type": "code",
   "execution_count": null,
   "id": "fd0d8197",
   "metadata": {},
   "outputs": [],
   "source": [
    "wrapped_circuit = circuit_wrapper(qiskit_circuit)"
   ]
  },
  {
   "cell_type": "code",
   "execution_count": null,
   "id": "7f1ef479",
   "metadata": {},
   "outputs": [],
   "source": [
    "braket_circuit = wrapped_circuit.transpile(\"braket\")\n",
    "print(f\"{type(braket_circuit)}\\n\")\n",
    "print(braket_circuit)"
   ]
  },
  {
   "cell_type": "code",
   "execution_count": null,
   "id": "2a6eb7e7",
   "metadata": {},
   "outputs": [],
   "source": [
    "cirq_circuit = wrapped_circuit.transpile(\"cirq\")\n",
    "print(f\"{type(cirq_circuit)}\\n\")\n",
    "print(cirq_circuit)"
   ]
  },
  {
   "cell_type": "markdown",
   "id": "0963d29d",
   "metadata": {},
   "source": [
    "Qubit indexing varies between packages, so some circuit diagrams appear flipped, but the matrix representations are equivalent.\n",
    "\n",
    "To verify, we'll use the sdk's `circuits_allclose` function, which applies the qbraid `to_unitary` function mentioned above to each of two input circuits, and passes the matricies to `np.allclose`, and returns the result."
   ]
  },
  {
   "cell_type": "code",
   "execution_count": null,
   "id": "665c6c0b",
   "metadata": {},
   "outputs": [],
   "source": [
    "circuits_allclose(qiskit_circuit, braket_circuit) and circuits_allclose(\n",
    "    braket_circuit, cirq_circuit\n",
    ")"
   ]
  },
  {
   "cell_type": "markdown",
   "id": "5359d22b",
   "metadata": {},
   "source": [
    "## Stress-testing against randomly generated circuits"
   ]
  },
  {
   "cell_type": "markdown",
   "id": "31a3cbc8",
   "metadata": {},
   "source": [
    "As a final demo, we'll generate some even larger circuits, and do so randomly, to test the limits of the transpiler.\n",
    "\n",
    "The qbraid-SDK has its own `random_circuit` function that takes in any supported package as an argument, but to show that there's no pre-processing or filtering going on behind the scenes, I'll use functions from cirq's testing module to generate circuits and to check equivalance after transpiling."
   ]
  },
  {
   "cell_type": "code",
   "execution_count": null,
   "id": "afe95c34",
   "metadata": {},
   "outputs": [],
   "source": [
    "import cirq\n",
    "\n",
    "kwargs = {\n",
    "    \"qubits\": np.random.randint(8, 11),\n",
    "    \"n_moments\": np.random.randint(8, 11),\n",
    "    \"op_density\": np.random.randint(80, 100) / 100,\n",
    "    \"random_state\": np.random.randint(1, 11),\n",
    "}\n",
    "\n",
    "circuit_start = cirq.testing.random_circuit(**kwargs)\n",
    "start_u = circuit_start.unitary()\n",
    "print(\"num qubits:\", len(circuit_start.all_qubits()))\n",
    "print(\"num moments:\", len(circuit_start))\n",
    "print(\"op density:\", kwargs[\"op_density\"])\n",
    "print(f\"matrix dim: {start_u.shape}\\n\")\n",
    "print(circuit_start)"
   ]
  },
  {
   "cell_type": "markdown",
   "id": "5818071d",
   "metadata": {},
   "source": [
    "Starting with this randomly generated circuit, we'll repeatedly apply the qbraid circuit wrapper and transpile from one supported package to the next until we arrive all the way back at a cirq circuit."
   ]
  },
  {
   "cell_type": "code",
   "execution_count": null,
   "id": "bbe4be5f",
   "metadata": {},
   "outputs": [],
   "source": [
    "braket_circuit = circuit_wrapper(circuit_start).transpile(\"braket\")\n",
    "print(type(braket_circuit))\n",
    "# print(f\"\\n{braket_circuit}\")"
   ]
  },
  {
   "cell_type": "code",
   "execution_count": null,
   "id": "d2813ee0",
   "metadata": {},
   "outputs": [],
   "source": [
    "pyquil_circuit = circuit_wrapper(braket_circuit).transpile(\"pyquil\")\n",
    "print(type(pyquil_circuit))\n",
    "# print(f\"\\n{pyquil_circuit}\")"
   ]
  },
  {
   "cell_type": "code",
   "execution_count": null,
   "id": "fbb476fb",
   "metadata": {},
   "outputs": [],
   "source": [
    "qiskit_circuit = circuit_wrapper(pyquil_circuit).transpile(\"qiskit\")\n",
    "print(type(qiskit_circuit))\n",
    "# print(f\"\\n{qiskit_circuit}\")"
   ]
  },
  {
   "cell_type": "code",
   "execution_count": null,
   "id": "fc405e6e",
   "metadata": {},
   "outputs": [],
   "source": [
    "pennylane_circuit = circuit_wrapper(qiskit_circuit).transpile(\"pennylane\")\n",
    "print(type(pennylane_circuit))\n",
    "# print(f\"\\n{pennylane_circuit}\")"
   ]
  },
  {
   "cell_type": "code",
   "execution_count": null,
   "id": "072f6aeb",
   "metadata": {},
   "outputs": [],
   "source": [
    "circuit_finish = circuit_wrapper(pennylane_circuit).transpile(\"cirq\")\n",
    "print(type(circuit_finish))\n",
    "# print(f\"\\n{circuit_finish}\")"
   ]
  },
  {
   "cell_type": "markdown",
   "id": "b621daed",
   "metadata": {},
   "source": [
    "Computing the final unitary and checking its shape"
   ]
  },
  {
   "cell_type": "code",
   "execution_count": null,
   "id": "5f6f3633",
   "metadata": {},
   "outputs": [],
   "source": [
    "finish_u = circuit_finish.unitary()\n",
    "print(finish_u.shape)"
   ]
  },
  {
   "cell_type": "code",
   "execution_count": null,
   "id": "9f461918",
   "metadata": {},
   "outputs": [],
   "source": [
    "try:\n",
    "    cirq.testing.assert_allclose_up_to_global_phase(start_u, finish_u, atol=1e-7)\n",
    "    print(\"Test passed!\")\n",
    "except AssertionError:\n",
    "    print(\"Test failed\")"
   ]
  },
  {
   "cell_type": "code",
   "execution_count": null,
   "id": "910308d7",
   "metadata": {},
   "outputs": [],
   "source": [
    "runtime = round(time() - start_notebook, 2)\n",
    "print(f\"Notebook ran in {runtime}s\")"
   ]
  },
  {
   "cell_type": "code",
   "execution_count": null,
   "id": "f070d685-18d4-426f-9bf6-75afab0db8a8",
   "metadata": {},
   "outputs": [],
   "source": []
  }
 ],
 "metadata": {
  "kernelspec": {
   "display_name": "Python 3 [qBraid-SDK]",
   "language": "python",
   "name": "python3_qbraid_sdk_9j9sjy"
  },
  "language_info": {
   "codemirror_mode": {
    "name": "ipython",
    "version": 3
   },
   "file_extension": ".py",
   "mimetype": "text/x-python",
   "name": "python",
   "nbconvert_exporter": "python",
   "pygments_lexer": "ipython3",
   "version": "3.9.7"
  }
 },
 "nbformat": 4,
 "nbformat_minor": 5
}
