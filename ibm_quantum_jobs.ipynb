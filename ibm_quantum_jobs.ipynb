{
 "cells": [
  {
   "cell_type": "markdown",
   "id": "1969b173-5214-47c2-8692-cb41337d033a",
   "metadata": {},
   "source": [
    "# qBraid Quantum Jobs: Qiskit Environment"
   ]
  },
  {
   "cell_type": "code",
   "execution_count": 1,
   "id": "958a651c-bb83-4d3a-89ff-700aaa75cd97",
   "metadata": {},
   "outputs": [
    {
     "name": "stdout",
     "output_type": "stream",
     "text": [
      "\u001b[0;35mSuccessfully enabled qBraid Quantum Jobs in the \u001b[1;35mqiskit\u001b[0m\u001b[0;35m environment.\u001b[0m\n",
      "\u001b[0;35mEvery \u001b[1;35mIBM\u001b[0m\u001b[0;35m job you run will now be submitted through the qBraid API, so no access keys/tokens are necessary. \u001b[0m\n",
      "\n",
      "\u001b[0;35mTo disable, run:\u001b[0m `qbraid jobs disable qiskit`\n"
     ]
    }
   ],
   "source": [
    "# enable qBraid Quantum Jobs\n",
    "!qbraid jobs enable qiskit"
   ]
  },
  {
   "cell_type": "code",
   "execution_count": 2,
   "id": "fe51db06-d78b-4802-8ed3-ccebb06f9b4c",
   "metadata": {},
   "outputs": [],
   "source": [
    "import numpy as np\n",
    "\n",
    "from qiskit_ibm_provider import IBMProvider, least_busy\n",
    "from qiskit.circuit.random import random_circuit"
   ]
  },
  {
   "cell_type": "code",
   "execution_count": 3,
   "id": "b4c35474-b1a9-47ba-8672-2f8cfbe86d99",
   "metadata": {},
   "outputs": [
    {
     "data": {
      "text/plain": [
       "'ibmq_jakarta'"
      ]
     },
     "execution_count": 3,
     "metadata": {},
     "output_type": "execute_result"
    }
   ],
   "source": [
    "provider = IBMProvider()\n",
    "\n",
    "backends = provider.backends(simulator=False, operational=True)\n",
    "\n",
    "# choose IBMQ backend\n",
    "backend = least_busy(backends)\n",
    "\n",
    "backend.name"
   ]
  },
  {
   "cell_type": "code",
   "execution_count": 4,
   "id": "434c25bb-1329-4356-b1e7-c834858d2213",
   "metadata": {},
   "outputs": [
    {
     "data": {
      "text/html": [
       "<pre style=\"word-wrap: normal;white-space: pre;background: #fff0;line-height: 1.1;font-family: &quot;Courier New&quot;,Courier,monospace\">     ┌─────────────┐┌───┐┌────┐┌─────┐┌─┐\n",
       "  q: ┤ Rz(0.28792) ├┤ T ├┤ √X ├┤ Sdg ├┤M├\n",
       "     └─────────────┘└───┘└────┘└─────┘└╥┘\n",
       "c: 1/══════════════════════════════════╩═\n",
       "                                       0 </pre>"
      ],
      "text/plain": [
       "     ┌─────────────┐┌───┐┌────┐┌─────┐┌─┐\n",
       "  q: ┤ Rz(0.28792) ├┤ T ├┤ √X ├┤ Sdg ├┤M├\n",
       "     └─────────────┘└───┘└────┘└─────┘└╥┘\n",
       "c: 1/══════════════════════════════════╩═\n",
       "                                       0 "
      ]
     },
     "execution_count": 4,
     "metadata": {},
     "output_type": "execute_result"
    }
   ],
   "source": [
    "depth = np.random.randint(3, 6)\n",
    "num_qubits = np.random.randint(0, backend.num_qubits + 1)\n",
    "\n",
    "# create Qiskit circuit\n",
    "qc = random_circuit(num_qubits, depth, measure=True)\n",
    "\n",
    "qc.draw()"
   ]
  },
  {
   "cell_type": "code",
   "execution_count": 5,
   "id": "a56a8291-729d-4e39-926a-66c40dcd2b98",
   "metadata": {},
   "outputs": [
    {
     "data": {
      "text/plain": [
       "<JobStatus.QUEUED: 'job is queued'>"
      ]
     },
     "execution_count": 5,
     "metadata": {},
     "output_type": "execute_result"
    }
   ],
   "source": [
    "# run the circuit\n",
    "job = backend.run(qc)\n",
    "\n",
    "job.status()"
   ]
  }
 ],
 "metadata": {
  "kernelspec": {
   "display_name": "Python 3 [Qiskit]",
   "language": "python",
   "name": "python3_qiskit_9y9siy"
  },
  "language_info": {
   "codemirror_mode": {
    "name": "ipython",
    "version": 3
   },
   "file_extension": ".py",
   "mimetype": "text/x-python",
   "name": "python",
   "nbconvert_exporter": "python",
   "pygments_lexer": "ipython3",
   "version": "3.9.10"
  }
 },
 "nbformat": 4,
 "nbformat_minor": 5
}
