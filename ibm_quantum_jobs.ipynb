{
 "cells": [
  {
   "cell_type": "markdown",
   "id": "1969b173-5214-47c2-8692-cb41337d033a",
   "metadata": {},
   "source": [
    "# qBraid Quantum Jobs: IBM Devices + Qiskit"
   ]
  },
  {
   "cell_type": "code",
   "execution_count": 1,
   "id": "958a651c-bb83-4d3a-89ff-700aaa75cd97",
   "metadata": {},
   "outputs": [
    {
     "name": "stdout",
     "output_type": "stream",
     "text": [
      "\u001b[0;35mSuccessfully enabled qBraid Quantum Jobs in the \u001b[1;35mqiskit\u001b[0m\u001b[0;35m environment.\u001b[0m\n",
      "\u001b[0;35mEvery \u001b[1;35mIBM\u001b[0m\u001b[0;35m job you run will now be submitted through the qBraid API, so no access keys/tokens are necessary. \u001b[0m\n",
      "\n",
      "\u001b[0;35mTo disable, run:\u001b[0m `qbraid jobs disable qiskit`\n"
     ]
    }
   ],
   "source": [
    "# enable qBraid Quantum Jobs\n",
    "!qbraid jobs enable qiskit"
   ]
  },
  {
   "cell_type": "code",
   "execution_count": 2,
   "id": "7ad3a47c-c647-4121-9be5-5fe1ba501526",
   "metadata": {},
   "outputs": [
    {
     "name": "stdout",
     "output_type": "stream",
     "text": [
      "# installed environments:\n",
      "#\n",
      "qsharp                         /opt/.qbraid/environments/qsharp_b54crn\n",
      "default                  \u001b[0;31mjobs\u001b[0m  /opt/.qbraid/environments/qbraid_000000\n",
      "qiskit                   \u001b[0;32mjobs\u001b[0m  /home/jovyan/.qbraid/environments/qiskit_9y9siy\n",
      "amazon_braket            \u001b[0;31mjobs\u001b[0m  /home/jovyan/.qbraid/environments/aws_braket_kwx6dl\n",
      "intel                          /opt/.qbraid/environments/intel_zr7hfq\n",
      "qbraid_sdk               \u001b[0;31mjobs\u001b[0m  /home/jovyan/.qbraid/environments/qbraid_sdk_9j9sjy\n",
      "\n"
     ]
    }
   ],
   "source": [
    "# list installed environments, check jobs keyword is green\n",
    "!qbraid envs list"
   ]
  },
  {
   "cell_type": "code",
   "execution_count": 3,
   "id": "fe51db06-d78b-4802-8ed3-ccebb06f9b4c",
   "metadata": {},
   "outputs": [],
   "source": [
    "import numpy as np\n",
    "\n",
    "from qiskit import transpile\n",
    "from qiskit_ibm_provider import IBMProvider, least_busy\n",
    "from qiskit.circuit.random import random_circuit"
   ]
  },
  {
   "cell_type": "code",
   "execution_count": 4,
   "id": "b4c35474-b1a9-47ba-8672-2f8cfbe86d99",
   "metadata": {},
   "outputs": [
    {
     "data": {
      "text/plain": [
       "'ibmq_belem'"
      ]
     },
     "execution_count": 4,
     "metadata": {},
     "output_type": "execute_result"
    }
   ],
   "source": [
    "provider = IBMProvider()\n",
    "\n",
    "# backends = provider.backends(simulator=False, operational=True)\n",
    "\n",
    "# # choose IBMQ backend\n",
    "# backend = least_busy(backends)\n",
    "\n",
    "backend = provider.get_backend(\"ibmq_belem\")\n",
    "\n",
    "backend.name"
   ]
  },
  {
   "cell_type": "code",
   "execution_count": 5,
   "id": "434c25bb-1329-4356-b1e7-c834858d2213",
   "metadata": {},
   "outputs": [
    {
     "data": {
      "text/html": [
       "<pre style=\"word-wrap: normal;white-space: pre;background: #fff0;line-height: 1.1;font-family: &quot;Courier New&quot;,Courier,monospace\">                             ┌─────┐   ┌──────────────────────────┐┌─┐         \n",
       "q_0: ──■─────────────────────┤ Sdg ├───┤ U3(5.3846,1.2894,2.8685) ├┤M├─────────\n",
       "       │  ┌──────────────┐   └──┬──┘   ├─────────────────────────┬┘└╥┘┌─┐      \n",
       "q_1: ──┼──┤1             ├──────■──────┤0                        ├──╫─┤M├──────\n",
       "       │  │  Rzx(3.6777) │             │  {XX+YY}(1.8205,4.2939) │  ║ └╥┘┌─┐   \n",
       "q_2: ──┼──┤0             ├──────■──────┤1                        ├──╫──╫─┤M├───\n",
       "       │  └────┬───┬─────┘   ┌──┴──┐   └──────────┬───┬──────────┘  ║  ║ └╥┘┌─┐\n",
       "q_3: ──┼───────┤ S ├─────────┤ Sdg ├──────────────┤ T ├─────────────╫──╫──╫─┤M├\n",
       "     ┌─┴─┐    ┌┴───┴┐     ┌──┴─────┴──┐           └┬─┬┘             ║  ║  ║ └╥┘\n",
       "q_4: ┤ Y ├────┤ Tdg ├─────┤ P(1.5832) ├────────────┤M├──────────────╫──╫──╫──╫─\n",
       "     └───┘    └─────┘     └───────────┘            └╥┘              ║  ║  ║  ║ \n",
       "c: 5/═══════════════════════════════════════════════╩═══════════════╩══╩══╩══╩═\n",
       "                                                    4               0  1  2  3 </pre>"
      ],
      "text/plain": [
       "                             ┌─────┐   ┌──────────────────────────┐┌─┐         \n",
       "q_0: ──■─────────────────────┤ Sdg ├───┤ U3(5.3846,1.2894,2.8685) ├┤M├─────────\n",
       "       │  ┌──────────────┐   └──┬──┘   ├─────────────────────────┬┘└╥┘┌─┐      \n",
       "q_1: ──┼──┤1             ├──────■──────┤0                        ├──╫─┤M├──────\n",
       "       │  │  Rzx(3.6777) │             │  {XX+YY}(1.8205,4.2939) │  ║ └╥┘┌─┐   \n",
       "q_2: ──┼──┤0             ├──────■──────┤1                        ├──╫──╫─┤M├───\n",
       "       │  └────┬───┬─────┘   ┌──┴──┐   └──────────┬───┬──────────┘  ║  ║ └╥┘┌─┐\n",
       "q_3: ──┼───────┤ S ├─────────┤ Sdg ├──────────────┤ T ├─────────────╫──╫──╫─┤M├\n",
       "     ┌─┴─┐    ┌┴───┴┐     ┌──┴─────┴──┐           └┬─┬┘             ║  ║  ║ └╥┘\n",
       "q_4: ┤ Y ├────┤ Tdg ├─────┤ P(1.5832) ├────────────┤M├──────────────╫──╫──╫──╫─\n",
       "     └───┘    └─────┘     └───────────┘            └╥┘              ║  ║  ║  ║ \n",
       "c: 5/═══════════════════════════════════════════════╩═══════════════╩══╩══╩══╩═\n",
       "                                                    4               0  1  2  3 "
      ]
     },
     "execution_count": 5,
     "metadata": {},
     "output_type": "execute_result"
    }
   ],
   "source": [
    "depth = np.random.randint(3, 6)\n",
    "num_qubits = np.random.randint(0, backend.num_qubits + 1)\n",
    "\n",
    "# create Qiskit circuit\n",
    "circuit = random_circuit(num_qubits, depth, measure=True)\n",
    "\n",
    "circuit.draw()"
   ]
  },
  {
   "cell_type": "code",
   "execution_count": 6,
   "id": "a56a8291-729d-4e39-926a-66c40dcd2b98",
   "metadata": {},
   "outputs": [
    {
     "data": {
      "text/plain": [
       "<JobStatus.QUEUED: 'job is queued'>"
      ]
     },
     "execution_count": 6,
     "metadata": {},
     "output_type": "execute_result"
    }
   ],
   "source": [
    "# transpile and run the circuit\n",
    "transpiled = transpile(circuit, backend=backend)\n",
    "\n",
    "job = backend.run(transpiled)\n",
    "\n",
    "job.status()"
   ]
  },
  {
   "cell_type": "code",
   "execution_count": 7,
   "id": "48f2e61a-54de-4725-8711-64b04bb1c296",
   "metadata": {},
   "outputs": [],
   "source": [
    "# wait for job to finish\n",
    "job.wait_for_final_state()"
   ]
  },
  {
   "cell_type": "code",
   "execution_count": 8,
   "id": "6c5e3a07-b4fe-4984-bd70-1556d927b680",
   "metadata": {},
   "outputs": [
    {
     "data": {
      "text/plain": [
       "{'00000': 318,\n",
       " '00001': 83,\n",
       " '10000': 92,\n",
       " '10001': 19,\n",
       " '10010': 210,\n",
       " '10011': 73,\n",
       " '10100': 243,\n",
       " '10101': 95,\n",
       " '10110': 42,\n",
       " '10111': 17,\n",
       " '11000': 5,\n",
       " '11001': 2,\n",
       " '11010': 6,\n",
       " '11011': 4,\n",
       " '11100': 9,\n",
       " '11101': 4,\n",
       " '11110': 10,\n",
       " '11111': 2,\n",
       " '00010': 812,\n",
       " '00011': 250,\n",
       " '00100': 1080,\n",
       " '00101': 327,\n",
       " '00110': 104,\n",
       " '00111': 45,\n",
       " '01000': 13,\n",
       " '01001': 7,\n",
       " '01010': 21,\n",
       " '01011': 12,\n",
       " '01100': 48,\n",
       " '01101': 12,\n",
       " '01110': 22,\n",
       " '01111': 13}"
      ]
     },
     "execution_count": 8,
     "metadata": {},
     "output_type": "execute_result"
    }
   ],
   "source": [
    "# get the results\n",
    "result = job.result()\n",
    "\n",
    "result.get_counts()"
   ]
  }
 ],
 "metadata": {
  "kernelspec": {
   "display_name": "Python 3 [Qiskit]",
   "language": "python",
   "name": "python3_qiskit_9y9siy"
  },
  "language_info": {
   "codemirror_mode": {
    "name": "ipython",
    "version": 3
   },
   "file_extension": ".py",
   "mimetype": "text/x-python",
   "name": "python",
   "nbconvert_exporter": "python",
   "pygments_lexer": "ipython3",
   "version": "3.9.10"
  }
 },
 "nbformat": 4,
 "nbformat_minor": 5
}
