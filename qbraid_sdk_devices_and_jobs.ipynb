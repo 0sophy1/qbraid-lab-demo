{
 "cells": [
  {
   "cell_type": "markdown",
   "id": "48c31cc3-1c30-4f4d-80c8-72909ed44628",
   "metadata": {},
   "source": [
    "# qBraid-SDK: Devices and Jobs"
   ]
  },
  {
   "cell_type": "markdown",
   "id": "6b9cbc3c-3fed-45f3-882c-b41b4fba45be",
   "metadata": {},
   "source": [
    "Enable qBraid Quantum Jobs through the qBraid CLI, available only through https://lab.qbraid.com"
   ]
  },
  {
   "cell_type": "code",
   "execution_count": 1,
   "id": "9270dded-7f47-4764-8069-1e0589c01872",
   "metadata": {},
   "outputs": [
    {
     "name": "stdout",
     "output_type": "stream",
     "text": [
      "\u001b[0;35mSuccessfully enabled qBraid Quantum Jobs in the \u001b[1;35mqbraid_sdk\u001b[0m\u001b[0;35m environment.\u001b[0m\n",
      "\u001b[0;35mEvery \u001b[0m\u001b[1;35mAWS\u001b[0m\u001b[0;35m and \u001b[0m\u001b[1;35mIBMQ\u001b[0m\u001b[0;35m job you run will now be submitted through the qBraid API, so no access keys/tokens are necessary. \u001b[0m\n",
      "\n",
      "\u001b[0;35mTo disable, run:\u001b[0m `qbraid jobs disable -n qbraid_sdk`\n"
     ]
    }
   ],
   "source": [
    "!qbraid jobs enable -n qbraid_sdk"
   ]
  },
  {
   "cell_type": "code",
   "execution_count": 2,
   "id": "26d64ed6-9b25-43cd-8bce-319e45cd1ff3",
   "metadata": {},
   "outputs": [
    {
     "data": {
      "text/plain": [
       "'0.1.1'"
      ]
     },
     "execution_count": 2,
     "metadata": {},
     "output_type": "execute_result"
    }
   ],
   "source": [
    "import qbraid\n",
    "qbraid.__version__"
   ]
  },
  {
   "cell_type": "markdown",
   "id": "5cebe287-964a-4846-ba92-69994713ddc0",
   "metadata": {},
   "source": [
    "## Unified quantum device search"
   ]
  },
  {
   "cell_type": "markdown",
   "id": "3200ef8b-7223-4e99-8339-dfd0c10a3a52",
   "metadata": {},
   "source": [
    "There's no such function in Qiskit or Cirq, only tedious work-arounds that require you to look into the docs anyways. For Braket, it requires making an authenticated API request through Boto3, and only includes credentialed devices in the response."
   ]
  },
  {
   "cell_type": "markdown",
   "id": "bc6f0a6c-c6ab-439f-ab82-3f11a74d8eaf",
   "metadata": {},
   "source": [
    "The qBraid-SDK lists all available QPU's and simulators available through Qiskit, Cirq, and Braket, all in one place."
   ]
  },
  {
   "cell_type": "code",
   "execution_count": 3,
   "id": "e50d92e6-7b01-40db-8e19-38e33c23233d",
   "metadata": {},
   "outputs": [],
   "source": [
    "from qbraid import get_devices"
   ]
  },
  {
   "cell_type": "code",
   "execution_count": 4,
   "id": "683f5b55-2a78-40af-a2c0-e605fd0dedc1",
   "metadata": {},
   "outputs": [
    {
     "data": {
      "text/html": [
       "<h3>Supported Devices</h3><table><tr>\n",
       "    <th style='text-align:left'>Provider</th>\n",
       "    <th style='text-align:left'>Name</th>\n",
       "    <th style='text-align:left'>qBraid ID</th>\n",
       "    <th style='text-align:left'>Status</th></tr>\n",
       "    <tr>\n",
       "        <td style='text-align:left'>AWS</td>\n",
       "        <td style='text-align:left'>Braket Default Simulator</td>\n",
       "        <td style='text-align:left'><code>aws_braket_default_sim</code></td>\n",
       "        <td><span style='color:green'>●</span></td></tr>\n",
       "        <tr>\n",
       "        <td style='text-align:left'>AWS</td>\n",
       "        <td style='text-align:left'>Density Matrix Simulator</td>\n",
       "        <td style='text-align:left'><code>aws_dm_sim</code></td>\n",
       "        <td><span style='color:green'>●</span></td></tr>\n",
       "        <tr>\n",
       "        <td style='text-align:left'>AWS</td>\n",
       "        <td style='text-align:left'>State Vector Simulator</td>\n",
       "        <td style='text-align:left'><code>aws_sv_sim</code></td>\n",
       "        <td><span style='color:green'>●</span></td></tr>\n",
       "        <tr>\n",
       "        <td style='text-align:left'>AWS</td>\n",
       "        <td style='text-align:left'>Tensor Network Simulator</td>\n",
       "        <td style='text-align:left'><code>aws_tn_sim</code></td>\n",
       "        <td><span style='color:green'>●</span></td></tr>\n",
       "        <tr>\n",
       "        <td style='text-align:left'>D-Wave</td>\n",
       "        <td style='text-align:left'>Advantage_system4</td>\n",
       "        <td style='text-align:left'><code>aws_dwave_advantage_system4</code></td>\n",
       "        <td><span style='color:green'>●</span></td></tr>\n",
       "        <tr>\n",
       "        <td style='text-align:left'>D-Wave</td>\n",
       "        <td style='text-align:left'>DW_2000Q_6</td>\n",
       "        <td style='text-align:left'><code>aws_dwave_2000Q_6</code></td>\n",
       "        <td><span style='color:green'>●</span></td></tr>\n",
       "        <tr>\n",
       "        <td style='text-align:left'>Google</td>\n",
       "        <td style='text-align:left'>Bristlecone</td>\n",
       "        <td style='text-align:left'><code>google_bristlecone</code></td>\n",
       "        <td><span style='color:red'>○</span></td></tr>\n",
       "        <tr>\n",
       "        <td style='text-align:left'>Google</td>\n",
       "        <td style='text-align:left'>Cirq Density Matrix Simulator</td>\n",
       "        <td style='text-align:left'><code>google_cirq_dm_sim</code></td>\n",
       "        <td><span style='color:green'>●</span></td></tr>\n",
       "        <tr>\n",
       "        <td style='text-align:left'>Google</td>\n",
       "        <td style='text-align:left'>Cirq Sparse Simulator</td>\n",
       "        <td style='text-align:left'><code>google_cirq_sparse_sim</code></td>\n",
       "        <td><span style='color:green'>●</span></td></tr>\n",
       "        <tr>\n",
       "        <td style='text-align:left'>Google</td>\n",
       "        <td style='text-align:left'>Foxtail</td>\n",
       "        <td style='text-align:left'><code>google_foxtail</code></td>\n",
       "        <td><span style='color:red'>○</span></td></tr>\n",
       "        <tr>\n",
       "        <td style='text-align:left'>Google</td>\n",
       "        <td style='text-align:left'>Sycamore</td>\n",
       "        <td style='text-align:left'><code>google_sycamore</code></td>\n",
       "        <td><span style='color:red'>○</span></td></tr>\n",
       "        <tr>\n",
       "        <td style='text-align:left'>Google</td>\n",
       "        <td style='text-align:left'>Sycamore23</td>\n",
       "        <td style='text-align:left'><code>google_sycamore23</code></td>\n",
       "        <td><span style='color:red'>○</span></td></tr>\n",
       "        <tr>\n",
       "        <td style='text-align:left'>IBM</td>\n",
       "        <td style='text-align:left'>Aer Default Simulator</td>\n",
       "        <td style='text-align:left'><code>ibm_aer_default_sim</code></td>\n",
       "        <td><span style='color:green'>●</span></td></tr>\n",
       "        <tr>\n",
       "        <td style='text-align:left'>IBM</td>\n",
       "        <td style='text-align:left'>Aer Pulse Simulator</td>\n",
       "        <td style='text-align:left'><code>ibm_aer_pulse_sim</code></td>\n",
       "        <td><span style='color:green'>●</span></td></tr>\n",
       "        <tr>\n",
       "        <td style='text-align:left'>IBM</td>\n",
       "        <td style='text-align:left'>Aer QASM Simulator</td>\n",
       "        <td style='text-align:left'><code>ibm_aer_qasm_sim</code></td>\n",
       "        <td><span style='color:green'>●</span></td></tr>\n",
       "        <tr>\n",
       "        <td style='text-align:left'>IBM</td>\n",
       "        <td style='text-align:left'>Aer State Vector Simulator</td>\n",
       "        <td style='text-align:left'><code>ibm_aer_sv_sim</code></td>\n",
       "        <td><span style='color:green'>●</span></td></tr>\n",
       "        <tr>\n",
       "        <td style='text-align:left'>IBM</td>\n",
       "        <td style='text-align:left'>Aer Unitary Simulator</td>\n",
       "        <td style='text-align:left'><code>ibm_aer_unitary_sim</code></td>\n",
       "        <td><span style='color:green'>●</span></td></tr>\n",
       "        <tr>\n",
       "        <td style='text-align:left'>IBM</td>\n",
       "        <td style='text-align:left'>BasicAer QASM Simulator</td>\n",
       "        <td style='text-align:left'><code>ibm_basicaer_qasm_sim</code></td>\n",
       "        <td><span style='color:green'>●</span></td></tr>\n",
       "        <tr>\n",
       "        <td style='text-align:left'>IBM</td>\n",
       "        <td style='text-align:left'>BasicAer State Vector Simulator</td>\n",
       "        <td style='text-align:left'><code>ibm_basicaer_sv_sim</code></td>\n",
       "        <td><span style='color:green'>●</span></td></tr>\n",
       "        <tr>\n",
       "        <td style='text-align:left'>IBM</td>\n",
       "        <td style='text-align:left'>BasicAer Unitary Simulator</td>\n",
       "        <td style='text-align:left'><code>ibm_basicaer_unitary_sim</code></td>\n",
       "        <td><span style='color:green'>●</span></td></tr>\n",
       "        <tr>\n",
       "        <td style='text-align:left'>IBM</td>\n",
       "        <td style='text-align:left'>IBMQ Armonk</td>\n",
       "        <td style='text-align:left'><code>ibm_q_armonk</code></td>\n",
       "        <td><span style='color:green'>●</span></td></tr>\n",
       "        <tr>\n",
       "        <td style='text-align:left'>IBM</td>\n",
       "        <td style='text-align:left'>IBMQ Belem</td>\n",
       "        <td style='text-align:left'><code>ibm_q_belem</code></td>\n",
       "        <td><span style='color:green'>●</span></td></tr>\n",
       "        <tr>\n",
       "        <td style='text-align:left'>IBM</td>\n",
       "        <td style='text-align:left'>IBMQ Bogota</td>\n",
       "        <td style='text-align:left'><code>ibm_q_bogota</code></td>\n",
       "        <td><span style='color:red'>○</span></td></tr>\n",
       "        <tr>\n",
       "        <td style='text-align:left'>IBM</td>\n",
       "        <td style='text-align:left'>IBMQ Extended Stabilizer Simulator</td>\n",
       "        <td style='text-align:left'><code>ibm_q_ext_stabilizer_sim</code></td>\n",
       "        <td><span style='color:green'>●</span></td></tr>\n",
       "        <tr>\n",
       "        <td style='text-align:left'>IBM</td>\n",
       "        <td style='text-align:left'>IBMQ Least-Busy QPU</td>\n",
       "        <td style='text-align:left'><code>ibm_q_least_busy_qpu</code></td>\n",
       "        <td><span style='color:green'>●</span></td></tr>\n",
       "        <tr>\n",
       "        <td style='text-align:left'>IBM</td>\n",
       "        <td style='text-align:left'>IBMQ Lima</td>\n",
       "        <td style='text-align:left'><code>ibm_q_lima</code></td>\n",
       "        <td><span style='color:green'>●</span></td></tr>\n",
       "        <tr>\n",
       "        <td style='text-align:left'>IBM</td>\n",
       "        <td style='text-align:left'>IBMQ Matrix Product State Simulator</td>\n",
       "        <td style='text-align:left'><code>ibm_q_mps_sim</code></td>\n",
       "        <td><span style='color:green'>●</span></td></tr>\n",
       "        <tr>\n",
       "        <td style='text-align:left'>IBM</td>\n",
       "        <td style='text-align:left'>IBMQ QASM Simulator</td>\n",
       "        <td style='text-align:left'><code>ibm_q_qasm_sim</code></td>\n",
       "        <td><span style='color:green'>●</span></td></tr>\n",
       "        <tr>\n",
       "        <td style='text-align:left'>IBM</td>\n",
       "        <td style='text-align:left'>IBMQ Quito</td>\n",
       "        <td style='text-align:left'><code>ibm_q_quito</code></td>\n",
       "        <td><span style='color:green'>●</span></td></tr>\n",
       "        <tr>\n",
       "        <td style='text-align:left'>IBM</td>\n",
       "        <td style='text-align:left'>IBMQ Santiago</td>\n",
       "        <td style='text-align:left'><code>ibm_q_manila</code></td>\n",
       "        <td><span style='color:green'>●</span></td></tr>\n",
       "        <tr>\n",
       "        <td style='text-align:left'>IBM</td>\n",
       "        <td style='text-align:left'>IBMQ Santiago</td>\n",
       "        <td style='text-align:left'><code>ibm_q_santiago</code></td>\n",
       "        <td><span style='color:green'>●</span></td></tr>\n",
       "        <tr>\n",
       "        <td style='text-align:left'>IBM</td>\n",
       "        <td style='text-align:left'>IBMQ Stabilizer Simulator</td>\n",
       "        <td style='text-align:left'><code>ibm_q_stabilizer_sim</code></td>\n",
       "        <td><span style='color:green'>●</span></td></tr>\n",
       "        <tr>\n",
       "        <td style='text-align:left'>IBM</td>\n",
       "        <td style='text-align:left'>IBMQ State Vector Simulator</td>\n",
       "        <td style='text-align:left'><code>ibm_q_sv_sim</code></td>\n",
       "        <td><span style='color:green'>●</span></td></tr>\n",
       "        <tr>\n",
       "        <td style='text-align:left'>IonQ</td>\n",
       "        <td style='text-align:left'>IonQ Device</td>\n",
       "        <td style='text-align:left'><code>aws_ionq</code></td>\n",
       "        <td><span style='color:green'>●</span></td></tr>\n",
       "        <tr>\n",
       "        <td style='text-align:left'>OQC</td>\n",
       "        <td style='text-align:left'>Lucy</td>\n",
       "        <td style='text-align:left'><code>aws_oqc_lucy</code></td>\n",
       "        <td><span style='color:green'>●</span></td></tr>\n",
       "        <tr>\n",
       "        <td style='text-align:left'>Rigetti</td>\n",
       "        <td style='text-align:left'>Aspen-11</td>\n",
       "        <td style='text-align:left'><code>aws_rigetti_aspen_11</code></td>\n",
       "        <td><span style='color:red'>○</span></td></tr>\n",
       "        <tr>\n",
       "        <td style='text-align:left'>Rigetti</td>\n",
       "        <td style='text-align:left'>Aspen-M-1</td>\n",
       "        <td style='text-align:left'><code>aws_rigetti_aspen_m_1</code></td>\n",
       "        <td><span style='color:green'>●</span></td></tr>\n",
       "        <tr><td colspan='4'; style='text-align:right'>Device status updated 50 minutes ago</td></tr></table>"
      ],
      "text/plain": [
       "<IPython.core.display.HTML object>"
      ]
     },
     "metadata": {},
     "output_type": "display_data"
    }
   ],
   "source": [
    "get_devices()"
   ]
  },
  {
   "cell_type": "markdown",
   "id": "53f506ce-0c62-482b-bf06-db1846199f08",
   "metadata": {},
   "source": [
    "Filter your device search with many different advanced query options! \n",
    "\n",
    "For example, let's find simulators containing keyword \"State\" available through AWS or IBM:"
   ]
  },
  {
   "cell_type": "code",
   "execution_count": 5,
   "id": "e21fcabc-bed5-4038-a03b-b734540b11e9",
   "metadata": {},
   "outputs": [
    {
     "data": {
      "text/html": [
       "<h3>Supported Devices</h3><table><tr>\n",
       "    <th style='text-align:left'>Provider</th>\n",
       "    <th style='text-align:left'>Name</th>\n",
       "    <th style='text-align:left'>qBraid ID</th>\n",
       "    <th style='text-align:left'>Status</th></tr>\n",
       "    <tr>\n",
       "        <td style='text-align:left'>AWS</td>\n",
       "        <td style='text-align:left'>State Vector Simulator</td>\n",
       "        <td style='text-align:left'><code>aws_sv_sim</code></td>\n",
       "        <td><span style='color:green'>●</span></td></tr>\n",
       "        <tr>\n",
       "        <td style='text-align:left'>IBM</td>\n",
       "        <td style='text-align:left'>Aer State Vector Simulator</td>\n",
       "        <td style='text-align:left'><code>ibm_aer_sv_sim</code></td>\n",
       "        <td><span style='color:green'>●</span></td></tr>\n",
       "        <tr>\n",
       "        <td style='text-align:left'>IBM</td>\n",
       "        <td style='text-align:left'>BasicAer State Vector Simulator</td>\n",
       "        <td style='text-align:left'><code>ibm_basicaer_sv_sim</code></td>\n",
       "        <td><span style='color:green'>●</span></td></tr>\n",
       "        <tr>\n",
       "        <td style='text-align:left'>IBM</td>\n",
       "        <td style='text-align:left'>IBMQ Matrix Product State Simulator</td>\n",
       "        <td style='text-align:left'><code>ibm_q_mps_sim</code></td>\n",
       "        <td><span style='color:green'>●</span></td></tr>\n",
       "        <tr>\n",
       "        <td style='text-align:left'>IBM</td>\n",
       "        <td style='text-align:left'>IBMQ State Vector Simulator</td>\n",
       "        <td style='text-align:left'><code>ibm_q_sv_sim</code></td>\n",
       "        <td><span style='color:green'>●</span></td></tr>\n",
       "        <tr><td colspan='4'; style='text-align:right'>Device status updated 1 hour ago</td></tr></table>"
      ],
      "text/plain": [
       "<IPython.core.display.HTML object>"
      ]
     },
     "metadata": {},
     "output_type": "display_data"
    }
   ],
   "source": [
    "get_devices(\n",
    "    filters={\n",
    "        \"type\": \"Simulator\",\n",
    "        \"name\": {\"$regex\": \"State\"},\n",
    "        \"vendor\": {\"$in\": [\"AWS\", \"IBM\"]},\n",
    "    }\n",
    ")"
   ]
  },
  {
   "cell_type": "markdown",
   "id": "8c8738cc-91f5-48b2-82c0-d3457099b0b7",
   "metadata": {},
   "source": [
    "This time, let's search for all gate-based QPUs with at least 5 qubits that are online"
   ]
  },
  {
   "cell_type": "code",
   "execution_count": 6,
   "id": "45037c99-0c6d-4241-94c8-b941a14365ea",
   "metadata": {},
   "outputs": [
    {
     "data": {
      "text/html": [
       "<h3>Supported Devices</h3><table><tr>\n",
       "    <th style='text-align:left'>Provider</th>\n",
       "    <th style='text-align:left'>Name</th>\n",
       "    <th style='text-align:left'>qBraid ID</th>\n",
       "    <th style='text-align:left'>Status</th></tr>\n",
       "    <tr>\n",
       "        <td style='text-align:left'>IBM</td>\n",
       "        <td style='text-align:left'>IBMQ Belem</td>\n",
       "        <td style='text-align:left'><code>ibm_q_belem</code></td>\n",
       "        <td><span style='color:green'>●</span></td></tr>\n",
       "        <tr>\n",
       "        <td style='text-align:left'>IBM</td>\n",
       "        <td style='text-align:left'>IBMQ Lima</td>\n",
       "        <td style='text-align:left'><code>ibm_q_lima</code></td>\n",
       "        <td><span style='color:green'>●</span></td></tr>\n",
       "        <tr>\n",
       "        <td style='text-align:left'>IBM</td>\n",
       "        <td style='text-align:left'>IBMQ Quito</td>\n",
       "        <td style='text-align:left'><code>ibm_q_quito</code></td>\n",
       "        <td><span style='color:green'>●</span></td></tr>\n",
       "        <tr>\n",
       "        <td style='text-align:left'>IBM</td>\n",
       "        <td style='text-align:left'>IBMQ Santiago</td>\n",
       "        <td style='text-align:left'><code>ibm_q_manila</code></td>\n",
       "        <td><span style='color:green'>●</span></td></tr>\n",
       "        <tr>\n",
       "        <td style='text-align:left'>IBM</td>\n",
       "        <td style='text-align:left'>IBMQ Santiago</td>\n",
       "        <td style='text-align:left'><code>ibm_q_santiago</code></td>\n",
       "        <td><span style='color:green'>●</span></td></tr>\n",
       "        <tr>\n",
       "        <td style='text-align:left'>IonQ</td>\n",
       "        <td style='text-align:left'>IonQ Device</td>\n",
       "        <td style='text-align:left'><code>aws_ionq</code></td>\n",
       "        <td><span style='color:green'>●</span></td></tr>\n",
       "        <tr>\n",
       "        <td style='text-align:left'>OQC</td>\n",
       "        <td style='text-align:left'>Lucy</td>\n",
       "        <td style='text-align:left'><code>aws_oqc_lucy</code></td>\n",
       "        <td><span style='color:green'>●</span></td></tr>\n",
       "        <tr>\n",
       "        <td style='text-align:left'>Rigetti</td>\n",
       "        <td style='text-align:left'>Aspen-M-1</td>\n",
       "        <td style='text-align:left'><code>aws_rigetti_aspen_m_1</code></td>\n",
       "        <td><span style='color:green'>●</span></td></tr>\n",
       "        <tr><td colspan='4'; style='text-align:right'>Device status updated 1 hour ago</td></tr></table>"
      ],
      "text/plain": [
       "<IPython.core.display.HTML object>"
      ]
     },
     "metadata": {},
     "output_type": "display_data"
    }
   ],
   "source": [
    "get_devices(\n",
    "    filters={\n",
    "        \"paradigm\": \"gate-based\",\n",
    "        \"type\": \"QPU\",\n",
    "        \"numberQubits\": {\"$gte\": 5},\n",
    "        \"status\": \"ONLINE\",\n",
    "    }\n",
    ")"
   ]
  },
  {
   "cell_type": "markdown",
   "id": "d4742d46-0181-4e51-ac4c-44f519b0958b",
   "metadata": {},
   "source": [
    "Recently added the ability to search by preferred software package, for instance"
   ]
  },
  {
   "cell_type": "code",
   "execution_count": 7,
   "id": "6b8bc16d-aa43-4011-b109-c0d45307d660",
   "metadata": {},
   "outputs": [
    {
     "data": {
      "text/html": [
       "<h3>Supported Devices</h3><table><tr>\n",
       "    <th style='text-align:left'>Provider</th>\n",
       "    <th style='text-align:left'>Name</th>\n",
       "    <th style='text-align:left'>qBraid ID</th>\n",
       "    <th style='text-align:left'>Status</th></tr>\n",
       "    <tr>\n",
       "        <td style='text-align:left'>IBM</td>\n",
       "        <td style='text-align:left'>Aer Default Simulator</td>\n",
       "        <td style='text-align:left'><code>ibm_aer_default_sim</code></td>\n",
       "        <td><span style='color:green'>●</span></td></tr>\n",
       "        <tr>\n",
       "        <td style='text-align:left'>IBM</td>\n",
       "        <td style='text-align:left'>Aer Pulse Simulator</td>\n",
       "        <td style='text-align:left'><code>ibm_aer_pulse_sim</code></td>\n",
       "        <td><span style='color:green'>●</span></td></tr>\n",
       "        <tr>\n",
       "        <td style='text-align:left'>IBM</td>\n",
       "        <td style='text-align:left'>Aer QASM Simulator</td>\n",
       "        <td style='text-align:left'><code>ibm_aer_qasm_sim</code></td>\n",
       "        <td><span style='color:green'>●</span></td></tr>\n",
       "        <tr>\n",
       "        <td style='text-align:left'>IBM</td>\n",
       "        <td style='text-align:left'>Aer State Vector Simulator</td>\n",
       "        <td style='text-align:left'><code>ibm_aer_sv_sim</code></td>\n",
       "        <td><span style='color:green'>●</span></td></tr>\n",
       "        <tr>\n",
       "        <td style='text-align:left'>IBM</td>\n",
       "        <td style='text-align:left'>Aer Unitary Simulator</td>\n",
       "        <td style='text-align:left'><code>ibm_aer_unitary_sim</code></td>\n",
       "        <td><span style='color:green'>●</span></td></tr>\n",
       "        <tr>\n",
       "        <td style='text-align:left'>IBM</td>\n",
       "        <td style='text-align:left'>BasicAer QASM Simulator</td>\n",
       "        <td style='text-align:left'><code>ibm_basicaer_qasm_sim</code></td>\n",
       "        <td><span style='color:green'>●</span></td></tr>\n",
       "        <tr>\n",
       "        <td style='text-align:left'>IBM</td>\n",
       "        <td style='text-align:left'>BasicAer State Vector Simulator</td>\n",
       "        <td style='text-align:left'><code>ibm_basicaer_sv_sim</code></td>\n",
       "        <td><span style='color:green'>●</span></td></tr>\n",
       "        <tr>\n",
       "        <td style='text-align:left'>IBM</td>\n",
       "        <td style='text-align:left'>BasicAer Unitary Simulator</td>\n",
       "        <td style='text-align:left'><code>ibm_basicaer_unitary_sim</code></td>\n",
       "        <td><span style='color:green'>●</span></td></tr>\n",
       "        <tr><td colspan='4'; style='text-align:right'>Device status updated 1 hour ago</td></tr></table>"
      ],
      "text/plain": [
       "<IPython.core.display.HTML object>"
      ]
     },
     "metadata": {},
     "output_type": "display_data"
    }
   ],
   "source": [
    "get_devices(filters={\"runPackage\": \"qiskit\", \"requiresCred\": \"false\"})"
   ]
  },
  {
   "cell_type": "markdown",
   "id": "4f9f246f-32a8-40ae-b962-48390ea80efc",
   "metadata": {},
   "source": [
    "## Run circuits on any device"
   ]
  },
  {
   "cell_type": "code",
   "execution_count": 8,
   "id": "880dd3e0-82a7-48aa-907f-a5bf4b148956",
   "metadata": {},
   "outputs": [],
   "source": [
    "from qbraid import device_wrapper, job_wrapper, get_jobs\n",
    "from qbraid.api import ibmq_least_busy_qpu"
   ]
  },
  {
   "cell_type": "markdown",
   "id": "73978ad9-ab16-4195-a4ef-210002714144",
   "metadata": {},
   "source": [
    "Copy the desired Device ID into the device wrapper function and you're on your way."
   ]
  },
  {
   "cell_type": "code",
   "execution_count": 9,
   "id": "5e9f68fd-162a-45a9-80d6-47716504f9bf",
   "metadata": {},
   "outputs": [
    {
     "data": {
      "text/plain": [
       "{'numberQubits': None,\n",
       " 'visibility': 'public',\n",
       " 'connectivityGraph': [],\n",
       " 'qbraid_id': 'ibm_aer_qasm_sim',\n",
       " 'name': 'Aer QASM Simulator',\n",
       " 'provider': 'IBM',\n",
       " 'paradigm': 'gate-based',\n",
       " 'type': 'Simulator',\n",
       " 'vendor': 'IBM',\n",
       " 'runPackage': 'qiskit',\n",
       " 'status': 'ONLINE',\n",
       " 'calibrationData': [],\n",
       " 'publishedStudies': [],\n",
       " 'createdAt': '2022-03-10T04:08:18.968Z',\n",
       " 'updatedAt': '2022-06-13T19:24:55.242Z',\n",
       " '__v': 0}"
      ]
     },
     "execution_count": 9,
     "metadata": {},
     "output_type": "execute_result"
    }
   ],
   "source": [
    "qbraid_device = device_wrapper(\"ibm_aer_qasm_sim\")\n",
    "qbraid_device.info"
   ]
  },
  {
   "cell_type": "code",
   "execution_count": 10,
   "id": "f17d8f90-d639-4071-bfcd-e197b036ecd0",
   "metadata": {},
   "outputs": [
    {
     "data": {
      "text/plain": [
       "'ibm_q_belem'"
      ]
     },
     "execution_count": 10,
     "metadata": {},
     "output_type": "execute_result"
    }
   ],
   "source": [
    "least_busy = ibmq_least_busy_qpu()\n",
    "least_busy"
   ]
  },
  {
   "cell_type": "code",
   "execution_count": 11,
   "id": "d7abe92c-f73e-4b7a-8304-ed0737852968",
   "metadata": {},
   "outputs": [
    {
     "data": {
      "text/plain": [
       "<IBMQBackend('ibmq_belem') from IBMQ(hub='ibm-q-startup', group='qbraid', project='main')>"
      ]
     },
     "execution_count": 11,
     "metadata": {},
     "output_type": "execute_result"
    }
   ],
   "source": [
    "qbraid_ibmq_device = device_wrapper(least_busy) # IBMQ credential handled by qBraid Quantum Jobs\n",
    "qbraid_ibmq_device.vendor_dlo"
   ]
  },
  {
   "cell_type": "code",
   "execution_count": 12,
   "id": "2320a9d5-5d4f-4c84-bd49-7c1d02b62906",
   "metadata": {},
   "outputs": [
    {
     "data": {
      "text/html": [
       "<pre style=\"word-wrap: normal;white-space: pre;background: #fff0;line-height: 1.1;font-family: &quot;Courier New&quot;,Courier,monospace\">     ┌───┐┌─────────┐┌─────────┐┌─┐\n",
       "  q: ┤ H ├┤ Ry(π/4) ├┤ Rz(π/2) ├┤M├\n",
       "     └───┘└─────────┘└─────────┘└╥┘\n",
       "c: 1/════════════════════════════╩═\n",
       "                                 0 </pre>"
      ],
      "text/plain": [
       "     ┌───┐┌─────────┐┌─────────┐┌─┐\n",
       "  q: ┤ H ├┤ Ry(π/4) ├┤ Rz(π/2) ├┤M├\n",
       "     └───┘└─────────┘└─────────┘└╥┘\n",
       "c: 1/════════════════════════════╩═\n",
       "                                 0 "
      ]
     },
     "execution_count": 12,
     "metadata": {},
     "output_type": "execute_result"
    }
   ],
   "source": [
    "from qiskit import QuantumCircuit\n",
    "import numpy as np\n",
    "\n",
    "qiskit_circuit = QuantumCircuit(1, 1)\n",
    "\n",
    "qiskit_circuit.h(0)\n",
    "qiskit_circuit.ry(np.pi / 4, 0)\n",
    "qiskit_circuit.rz(np.pi / 2, 0)\n",
    "qiskit_circuit.measure(0, 0)\n",
    "\n",
    "qiskit_circuit.draw()"
   ]
  },
  {
   "cell_type": "markdown",
   "id": "0b1979a2-0d9a-4624-8f9a-9b7330500e99",
   "metadata": {},
   "source": [
    "Initialize quantum jobs and collect results, with the ability to extract wrapped objects at any step"
   ]
  },
  {
   "cell_type": "code",
   "execution_count": 13,
   "id": "0926b76d-6f08-4361-b36c-918e61bd5abb",
   "metadata": {},
   "outputs": [
    {
     "data": {
      "text/plain": [
       "<JobStatus.COMPLETED: 6>"
      ]
     },
     "execution_count": 13,
     "metadata": {},
     "output_type": "execute_result"
    }
   ],
   "source": [
    "shots = 2**10\n",
    "\n",
    "qbraid_ibm_job = qbraid_device.run(qiskit_circuit, shots=shots)\n",
    "qbraid_ibm_job.status()"
   ]
  },
  {
   "cell_type": "markdown",
   "id": "db36fad9-9fb8-40b3-af38-0435db164163",
   "metadata": {},
   "source": [
    "Submit quantum jobs to any supported device through the same simple and consistent protocol"
   ]
  },
  {
   "cell_type": "code",
   "execution_count": 14,
   "id": "75263e91-6f07-4f4c-828f-9a9a8dd8998a",
   "metadata": {},
   "outputs": [],
   "source": [
    "qbraid_google_device = device_wrapper(\"google_cirq_dm_sim\")\n",
    "qbraid_aws_device = device_wrapper(\"aws_dm_sim\")  # AWS credential handled by qBraid Quantum Jobs"
   ]
  },
  {
   "cell_type": "code",
   "execution_count": 15,
   "id": "9bed97bc-c5b9-4b4b-8cb0-4af8ee7a3689",
   "metadata": {},
   "outputs": [],
   "source": [
    "qbraid_google_job = qbraid_google_device.run(qiskit_circuit, shots=shots)\n",
    "qbraid_aws_job = qbraid_aws_device.run(qiskit_circuit, shots=shots)"
   ]
  },
  {
   "cell_type": "markdown",
   "id": "8a1f0e06-d3e9-42ce-8816-36efd36b8a57",
   "metadata": {
    "tags": []
   },
   "source": [
    "## Monitor and manage your jobs from one location"
   ]
  },
  {
   "cell_type": "code",
   "execution_count": 16,
   "id": "79be0111-589a-4f78-b152-85eb9f5742b6",
   "metadata": {},
   "outputs": [
    {
     "data": {
      "text/html": [
       "<h3>Quantum Jobs</h3><table><tr>\n",
       "    <th style='text-align:left'>qBraid ID</th>\n",
       "    <th style='text-align:left'>Submitted</th>\n",
       "    <th style='text-align:left'>Status</th></tr>\n",
       "    <tr>\n",
       "        <td style='text-align:left'>aws_dm_sim-user123-qjob-5fu28egmfd7avtscfu1t</td>\n",
       "        <td style='text-align:left'>2022-06-13T20:27:56.527Z</td>\n",
       "        <td style='text-align:left'><span style='color:green'>COMPLETED</span></td></tr>\n",
       "        <tr>\n",
       "        <td style='text-align:left'>ibm_aer_qasm_sim-user123-qjob-jemesn6rulgibzschoht</td>\n",
       "        <td style='text-align:left'>2022-06-13T20:27:49.984Z</td>\n",
       "        <td style='text-align:left'><span style='color:green'>COMPLETED</span></td></tr>\n",
       "        <tr><td colspan='4'; style='text-align:right'>Displaying 2/2 jobs matching query</td></tr></table>"
      ],
      "text/plain": [
       "<IPython.core.display.HTML object>"
      ]
     },
     "metadata": {},
     "output_type": "display_data"
    }
   ],
   "source": [
    "get_jobs()"
   ]
  },
  {
   "cell_type": "code",
   "execution_count": 17,
   "id": "959d4516-47fb-4465-a2a8-55f98092ec76",
   "metadata": {},
   "outputs": [],
   "source": [
    "qbraid_google_result = qbraid_google_job.result()\n",
    "qbraid_aws_result = qbraid_aws_job.result()\n",
    "qbraid_ibm_result = qbraid_ibm_job.result()"
   ]
  },
  {
   "cell_type": "markdown",
   "id": "259b35b2-b1b7-4585-a08d-f4f99af641ff",
   "metadata": {},
   "source": [
    "## Easily compare results"
   ]
  },
  {
   "cell_type": "code",
   "execution_count": 18,
   "id": "23568dfe-8ec2-4f02-9b92-95b62e610656",
   "metadata": {},
   "outputs": [
    {
     "name": "stdout",
     "output_type": "stream",
     "text": [
      "google device counts: {'1': 856, '0': 168}\n",
      "aws device counts: {'1': 865, '0': 159}\n",
      "ibm device counts: {'0': 155, '1': 869}\n"
     ]
    }
   ],
   "source": [
    "print(f\"google device counts: {qbraid_google_result.measurement_counts()}\")\n",
    "print(f\"aws device counts: {qbraid_aws_result.measurement_counts()}\")\n",
    "print(f\"ibm device counts: {qbraid_ibm_result.measurement_counts()}\")"
   ]
  },
  {
   "cell_type": "code",
   "execution_count": 19,
   "id": "69da0b26-62b2-422d-ba4a-19f1505a5c5c",
   "metadata": {},
   "outputs": [
    {
     "data": {
      "image/png": "[encoded data removed]",
      "text/plain": [
       "<Figure size 504x360 with 1 Axes>"
      ]
     },
     "execution_count": 19,
     "metadata": {},
     "output_type": "execute_result"
    }
   ],
   "source": [
    "qbraid_google_result.plot_counts()"
   ]
  },
  {
   "cell_type": "code",
   "execution_count": 20,
   "id": "55ad65fb-3983-45d4-ad42-864f0a40fa83",
   "metadata": {},
   "outputs": [
    {
     "data": {
      "image/png": "[encoded data removed]",
      "text/plain": [
       "<Figure size 504x360 with 1 Axes>"
      ]
     },
     "execution_count": 20,
     "metadata": {},
     "output_type": "execute_result"
    }
   ],
   "source": [
    "qbraid_aws_result.plot_counts()"
   ]
  },
  {
   "cell_type": "code",
   "execution_count": 21,
   "id": "2390301c-f838-4261-8d18-93f463e698bc",
   "metadata": {},
   "outputs": [
    {
     "data": {
      "image/png": "[encoded data removed]",
      "text/plain": [
       "<Figure size 504x360 with 1 Axes>"
      ]
     },
     "execution_count": 21,
     "metadata": {},
     "output_type": "execute_result"
    }
   ],
   "source": [
    "qbraid_ibm_result.plot_counts()"
   ]
  }
 ],
 "metadata": {
  "kernelspec": {
   "display_name": "Python 3 [qBraid-SDK]",
   "language": "python",
   "name": "python3_qbraid_sdk_9j9sjy"
  },
  "language_info": {
   "codemirror_mode": {
    "name": "ipython",
    "version": 3
   },
   "file_extension": ".py",
   "mimetype": "text/x-python",
   "name": "python",
   "nbconvert_exporter": "python",
   "pygments_lexer": "ipython3",
   "version": "3.9.10"
  }
 },
 "nbformat": 4,
 "nbformat_minor": 5
}
