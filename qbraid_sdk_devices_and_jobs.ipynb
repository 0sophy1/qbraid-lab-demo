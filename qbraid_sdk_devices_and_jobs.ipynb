{
 "cells": [
  {
   "cell_type": "markdown",
   "id": "48c31cc3-1c30-4f4d-80c8-72909ed44628",
   "metadata": {},
   "source": [
    "# qBraid-SDK: Devices and Jobs"
   ]
  },
  {
   "cell_type": "markdown",
   "id": "6b9cbc3c-3fed-45f3-882c-b41b4fba45be",
   "metadata": {},
   "source": [
    "Enable [qBraid Quantum Jobs](https://docs.qbraid.com/en/latest/lab/quantumjobs.html) through the [qBraid CLI](https://docs.qbraid.com/en/latest/cli/qbraid.html):"
   ]
  },
  {
   "cell_type": "code",
   "execution_count": 1,
   "id": "422c2c40-7088-45ca-a250-84ae6e5389d8",
   "metadata": {},
   "outputs": [
    {
     "name": "stdout",
     "output_type": "stream",
     "text": [
      "\u001b[0;35mSuccessfully enabled qBraid Quantum Jobs in the \u001b[1;35mqbraid_sdk\u001b[0m\u001b[0;35m environment.\u001b[0m\n",
      "\u001b[0;35mEvery \u001b[1;35mAWS + IBM\u001b[0m\u001b[0;35m job you run will now be submitted through the qBraid API, so no access keys/tokens are necessary. \u001b[0m\n",
      "\n",
      "\u001b[0;35mTo disable, run:\u001b[0m `qbraid jobs disable qbraid_sdk`\n"
     ]
    }
   ],
   "source": [
    "!qbraid jobs enable qbraid_sdk"
   ]
  },
  {
   "cell_type": "markdown",
   "id": "66d21c67-bc36-4e74-ad81-3f54e1c4f5c5",
   "metadata": {},
   "source": [
    "You can check that the `jobs` keyword next to the qBraid SDK environment is now green."
   ]
  },
  {
   "cell_type": "code",
   "execution_count": 2,
   "id": "9270dded-7f47-4764-8069-1e0589c01872",
   "metadata": {},
   "outputs": [
    {
     "name": "stdout",
     "output_type": "stream",
     "text": [
      "# installed environments:\n",
      "#\n",
      "qsharp                         /opt/.qbraid/environments/qsharp_b54crn\n",
      "default                  \u001b[0;31mjobs\u001b[0m  /opt/.qbraid/environments/qbraid_000000\n",
      "qiskit                   \u001b[0;31mjobs\u001b[0m  /home/jovyan/.qbraid/environments/qiskit_9y9siy\n",
      "amazon_braket            \u001b[0;31mjobs\u001b[0m  /home/jovyan/.qbraid/environments/aws_braket_kwx6dl\n",
      "intel                          /opt/.qbraid/environments/intel_zr7hfq\n",
      "qbraid_sdk               \u001b[0;32mjobs\u001b[0m  /home/jovyan/.qbraid/environments/qbraid_sdk_9j9sjy\n",
      "\n"
     ]
    }
   ],
   "source": [
    "!qbraid envs list"
   ]
  },
  {
   "cell_type": "markdown",
   "id": "e26a9357-b992-4c78-85b5-b9a4fff59be4",
   "metadata": {},
   "source": [
    "It's important to import the qBraid SDK only *after* you have enabled quantum jobs."
   ]
  },
  {
   "cell_type": "code",
   "execution_count": 3,
   "id": "26d64ed6-9b25-43cd-8bce-319e45cd1ff3",
   "metadata": {},
   "outputs": [
    {
     "data": {
      "text/plain": [
       "'0.3.0'"
      ]
     },
     "execution_count": 3,
     "metadata": {},
     "output_type": "execute_result"
    }
   ],
   "source": [
    "import qbraid\n",
    "\n",
    "qbraid.__version__"
   ]
  },
  {
   "cell_type": "markdown",
   "id": "5cebe287-964a-4846-ba92-69994713ddc0",
   "metadata": {},
   "source": [
    "## Unified quantum device search"
   ]
  },
  {
   "cell_type": "markdown",
   "id": "bc6f0a6c-c6ab-439f-ab82-3f11a74d8eaf",
   "metadata": {},
   "source": [
    "List all of the 20+ QPUs and on-demand simulators available through qBraid Quantum Jobs."
   ]
  },
  {
   "cell_type": "code",
   "execution_count": 4,
   "id": "e50d92e6-7b01-40db-8e19-38e33c23233d",
   "metadata": {},
   "outputs": [],
   "source": [
    "from qbraid import get_devices"
   ]
  },
  {
   "cell_type": "code",
   "execution_count": 5,
   "id": "683f5b55-2a78-40af-a2c0-e605fd0dedc1",
   "metadata": {},
   "outputs": [
    {
     "data": {
      "text/html": [
       "<h3>Supported Devices</h3><table><tr>\n",
       "    <th style='text-align:left'>Provider</th>\n",
       "    <th style='text-align:left'>Name</th>\n",
       "    <th style='text-align:left'>qBraid ID</th>\n",
       "    <th style='text-align:left'>Status</th></tr>\n",
       "    <tr>\n",
       "        <td style='text-align:left'>AWS</td>\n",
       "        <td style='text-align:left'>DM1</td>\n",
       "        <td style='text-align:left'><code>aws_dm_sim</code></td>\n",
       "        <td><span style='color:green'>●</span></td></tr>\n",
       "        <tr>\n",
       "        <td style='text-align:left'>AWS</td>\n",
       "        <td style='text-align:left'>SV1</td>\n",
       "        <td style='text-align:left'><code>aws_sv_sim</code></td>\n",
       "        <td><span style='color:green'>●</span></td></tr>\n",
       "        <tr>\n",
       "        <td style='text-align:left'>AWS</td>\n",
       "        <td style='text-align:left'>TN1</td>\n",
       "        <td style='text-align:left'><code>aws_tn_sim</code></td>\n",
       "        <td><span style='color:green'>●</span></td></tr>\n",
       "        <tr>\n",
       "        <td style='text-align:left'>IBM</td>\n",
       "        <td style='text-align:left'>Belem</td>\n",
       "        <td style='text-align:left'><code>ibm_q_belem</code></td>\n",
       "        <td><span style='color:green'>●</span></td></tr>\n",
       "        <tr>\n",
       "        <td style='text-align:left'>IBM</td>\n",
       "        <td style='text-align:left'>Ext. stabilizer simulator</td>\n",
       "        <td style='text-align:left'><code>ibm_q_ext_stabilizer_sim</code></td>\n",
       "        <td><span style='color:green'>●</span></td></tr>\n",
       "        <tr>\n",
       "        <td style='text-align:left'>IBM</td>\n",
       "        <td style='text-align:left'>Jakarta</td>\n",
       "        <td style='text-align:left'><code>ibm_q_jakarta</code></td>\n",
       "        <td><span style='color:green'>●</span></td></tr>\n",
       "        <tr>\n",
       "        <td style='text-align:left'>IBM</td>\n",
       "        <td style='text-align:left'>Lagos</td>\n",
       "        <td style='text-align:left'><code>ibm_q_lagos</code></td>\n",
       "        <td><span style='color:green'>●</span></td></tr>\n",
       "        <tr>\n",
       "        <td style='text-align:left'>IBM</td>\n",
       "        <td style='text-align:left'>Lima</td>\n",
       "        <td style='text-align:left'><code>ibm_q_lima</code></td>\n",
       "        <td><span style='color:green'>●</span></td></tr>\n",
       "        <tr>\n",
       "        <td style='text-align:left'>IBM</td>\n",
       "        <td style='text-align:left'>MPS simulator</td>\n",
       "        <td style='text-align:left'><code>ibm_q_mps_sim</code></td>\n",
       "        <td><span style='color:green'>●</span></td></tr>\n",
       "        <tr>\n",
       "        <td style='text-align:left'>IBM</td>\n",
       "        <td style='text-align:left'>Manila</td>\n",
       "        <td style='text-align:left'><code>ibm_q_manila</code></td>\n",
       "        <td><span style='color:red'>○</span></td></tr>\n",
       "        <tr>\n",
       "        <td style='text-align:left'>IBM</td>\n",
       "        <td style='text-align:left'>Nairobi</td>\n",
       "        <td style='text-align:left'><code>ibm_q_nairobi</code></td>\n",
       "        <td><span style='color:green'>●</span></td></tr>\n",
       "        <tr>\n",
       "        <td style='text-align:left'>IBM</td>\n",
       "        <td style='text-align:left'>Oslo</td>\n",
       "        <td style='text-align:left'><code>ibm_q_oslo</code></td>\n",
       "        <td><span style='color:green'>●</span></td></tr>\n",
       "        <tr>\n",
       "        <td style='text-align:left'>IBM</td>\n",
       "        <td style='text-align:left'>Perth</td>\n",
       "        <td style='text-align:left'><code>ibm_q_perth</code></td>\n",
       "        <td><span style='color:green'>●</span></td></tr>\n",
       "        <tr>\n",
       "        <td style='text-align:left'>IBM</td>\n",
       "        <td style='text-align:left'>QASM simulator</td>\n",
       "        <td style='text-align:left'><code>ibm_q_qasm_sim</code></td>\n",
       "        <td><span style='color:green'>●</span></td></tr>\n",
       "        <tr>\n",
       "        <td style='text-align:left'>IBM</td>\n",
       "        <td style='text-align:left'>Quito</td>\n",
       "        <td style='text-align:left'><code>ibm_q_quito</code></td>\n",
       "        <td><span style='color:green'>●</span></td></tr>\n",
       "        <tr>\n",
       "        <td style='text-align:left'>IBM</td>\n",
       "        <td style='text-align:left'>Stabilizer simulator</td>\n",
       "        <td style='text-align:left'><code>ibm_q_stabilizer_sim</code></td>\n",
       "        <td><span style='color:green'>●</span></td></tr>\n",
       "        <tr>\n",
       "        <td style='text-align:left'>IBM</td>\n",
       "        <td style='text-align:left'>State vector simulator</td>\n",
       "        <td style='text-align:left'><code>ibm_q_sv_sim</code></td>\n",
       "        <td><span style='color:green'>●</span></td></tr>\n",
       "        <tr>\n",
       "        <td style='text-align:left'>IonQ</td>\n",
       "        <td style='text-align:left'>IonQ Device</td>\n",
       "        <td style='text-align:left'><code>aws_ionq</code></td>\n",
       "        <td><span style='color:green'>●</span></td></tr>\n",
       "        <tr>\n",
       "        <td style='text-align:left'>OQC</td>\n",
       "        <td style='text-align:left'>Lucy</td>\n",
       "        <td style='text-align:left'><code>aws_oqc_lucy</code></td>\n",
       "        <td><span style='color:red'>○</span></td></tr>\n",
       "        <tr>\n",
       "        <td style='text-align:left'>QuEra</td>\n",
       "        <td style='text-align:left'>Aquila</td>\n",
       "        <td style='text-align:left'><code>aws_quera_aquila</code></td>\n",
       "        <td><span style='color:red'>○</span></td></tr>\n",
       "        <tr>\n",
       "        <td style='text-align:left'>Rigetti</td>\n",
       "        <td style='text-align:left'>Aspen-M-2</td>\n",
       "        <td style='text-align:left'><code>aws_rigetti_aspen_m2</code></td>\n",
       "        <td><span style='color:red'>○</span></td></tr>\n",
       "        <tr>\n",
       "        <td style='text-align:left'>Rigetti</td>\n",
       "        <td style='text-align:left'>Aspen-M-3</td>\n",
       "        <td style='text-align:left'><code>aws_rigetti_aspen_m3</code></td>\n",
       "        <td><span style='color:red'>○</span></td></tr>\n",
       "        <tr>\n",
       "        <td style='text-align:left'>Xanadu</td>\n",
       "        <td style='text-align:left'>Borealis</td>\n",
       "        <td style='text-align:left'><code>aws_xanadu_borealis</code></td>\n",
       "        <td><span style='color:red'>○</span></td></tr>\n",
       "        <tr><td colspan='4'; style='text-align:right'>Device status updated 0 minutes ago</td></tr></table>"
      ],
      "text/plain": [
       "<IPython.core.display.HTML object>"
      ]
     },
     "metadata": {},
     "output_type": "display_data"
    }
   ],
   "source": [
    "get_devices()"
   ]
  },
  {
   "cell_type": "markdown",
   "id": "53f506ce-0c62-482b-bf06-db1846199f08",
   "metadata": {},
   "source": [
    "Filter your device search with many different advanced query options! \n",
    "\n",
    "For example, let's find all gate-based QPUs that use at least 7 qubits:"
   ]
  },
  {
   "cell_type": "code",
   "execution_count": 6,
   "id": "e21fcabc-bed5-4038-a03b-b734540b11e9",
   "metadata": {},
   "outputs": [
    {
     "data": {
      "text/html": [
       "<h3>Supported Devices</h3><table><tr>\n",
       "    <th style='text-align:left'>Provider</th>\n",
       "    <th style='text-align:left'>Name</th>\n",
       "    <th style='text-align:left'>qBraid ID</th>\n",
       "    <th style='text-align:left'>Status</th></tr>\n",
       "    <tr>\n",
       "        <td style='text-align:left'>IBM</td>\n",
       "        <td style='text-align:left'>Jakarta</td>\n",
       "        <td style='text-align:left'><code>ibm_q_jakarta</code></td>\n",
       "        <td><span style='color:green'>●</span></td></tr>\n",
       "        <tr>\n",
       "        <td style='text-align:left'>IBM</td>\n",
       "        <td style='text-align:left'>Lagos</td>\n",
       "        <td style='text-align:left'><code>ibm_q_lagos</code></td>\n",
       "        <td><span style='color:green'>●</span></td></tr>\n",
       "        <tr>\n",
       "        <td style='text-align:left'>IBM</td>\n",
       "        <td style='text-align:left'>Nairobi</td>\n",
       "        <td style='text-align:left'><code>ibm_q_nairobi</code></td>\n",
       "        <td><span style='color:green'>●</span></td></tr>\n",
       "        <tr>\n",
       "        <td style='text-align:left'>IBM</td>\n",
       "        <td style='text-align:left'>Oslo</td>\n",
       "        <td style='text-align:left'><code>ibm_q_oslo</code></td>\n",
       "        <td><span style='color:green'>●</span></td></tr>\n",
       "        <tr>\n",
       "        <td style='text-align:left'>IBM</td>\n",
       "        <td style='text-align:left'>Perth</td>\n",
       "        <td style='text-align:left'><code>ibm_q_perth</code></td>\n",
       "        <td><span style='color:green'>●</span></td></tr>\n",
       "        <tr>\n",
       "        <td style='text-align:left'>IonQ</td>\n",
       "        <td style='text-align:left'>IonQ Device</td>\n",
       "        <td style='text-align:left'><code>aws_ionq</code></td>\n",
       "        <td><span style='color:green'>●</span></td></tr>\n",
       "        <tr>\n",
       "        <td style='text-align:left'>OQC</td>\n",
       "        <td style='text-align:left'>Lucy</td>\n",
       "        <td style='text-align:left'><code>aws_oqc_lucy</code></td>\n",
       "        <td><span style='color:red'>○</span></td></tr>\n",
       "        <tr>\n",
       "        <td style='text-align:left'>Rigetti</td>\n",
       "        <td style='text-align:left'>Aspen-M-2</td>\n",
       "        <td style='text-align:left'><code>aws_rigetti_aspen_m2</code></td>\n",
       "        <td><span style='color:red'>○</span></td></tr>\n",
       "        <tr>\n",
       "        <td style='text-align:left'>Rigetti</td>\n",
       "        <td style='text-align:left'>Aspen-M-3</td>\n",
       "        <td style='text-align:left'><code>aws_rigetti_aspen_m3</code></td>\n",
       "        <td><span style='color:red'>○</span></td></tr>\n",
       "        <tr><td colspan='4'; style='text-align:right'>Device status updated 0 minutes ago</td></tr></table>"
      ],
      "text/plain": [
       "<IPython.core.display.HTML object>"
      ]
     },
     "metadata": {},
     "output_type": "display_data"
    }
   ],
   "source": [
    "get_devices(\n",
    "    filters={\n",
    "        \"paradigm\": \"gate-based\",\n",
    "        \"type\": \"QPU\",\n",
    "        \"numberQubits\": {\"$gte\": 7},\n",
    "    }\n",
    ")"
   ]
  },
  {
   "cell_type": "markdown",
   "id": "8c8738cc-91f5-48b2-82c0-d3457099b0b7",
   "metadata": {},
   "source": [
    "For more query examples, see [Unified Device Search](https://docs.qbraid.com/en/latest/sdk/devices.html#unified-device-search) in the user guide."
   ]
  },
  {
   "cell_type": "markdown",
   "id": "4f9f246f-32a8-40ae-b962-48390ea80efc",
   "metadata": {},
   "source": [
    "## Create quantum circuit"
   ]
  },
  {
   "cell_type": "markdown",
   "id": "49e834f3-6e0a-402b-94f1-36245e684069",
   "metadata": {},
   "source": [
    "Create a quantum circuit using any of one the qBraid support program types:"
   ]
  },
  {
   "cell_type": "code",
   "execution_count": 7,
   "id": "880dd3e0-82a7-48aa-907f-a5bf4b148956",
   "metadata": {},
   "outputs": [
    {
     "data": {
      "text/plain": [
       "['braket.circuits.circuit.Circuit',\n",
       " 'cirq.circuits.circuit.Circuit',\n",
       " 'qiskit.circuit.quantumcircuit.QuantumCircuit',\n",
       " 'pyquil.quil.Program',\n",
       " 'pytket._tket.circuit.Circuit']"
      ]
     },
     "execution_count": 7,
     "metadata": {},
     "output_type": "execute_result"
    }
   ],
   "source": [
    "from qbraid import QPROGRAM_TYPES\n",
    "from qbraid.interface import random_circuit\n",
    "\n",
    "QPROGRAM_TYPES"
   ]
  },
  {
   "cell_type": "markdown",
   "id": "b2f77aa7-8e59-4a8d-9431-279e191c98d4",
   "metadata": {},
   "source": [
    "In this example, we'll use a randomly generated Cirq circuit:"
   ]
  },
  {
   "cell_type": "code",
   "execution_count": 8,
   "id": "a9b99449-f97c-4c61-bc5f-117d03d483fa",
   "metadata": {},
   "outputs": [
    {
     "name": "stdout",
     "output_type": "stream",
     "text": [
      "      ┌──┐       ┌──┐\n",
      "0: ─────@────@─────@────×───\n",
      "        │    │     │    │\n",
      "1: ────×┼────┼────Y┼────×───\n",
      "       ││    │     │\n",
      "2: ────┼@────@─────@────Y───\n",
      "       │\n",
      "3: ────×─────Y────Y─────────\n",
      "      └──┘       └──┘\n"
     ]
    }
   ],
   "source": [
    "cirq_circuit = random_circuit(\"cirq\", num_qubits=4, depth=4)\n",
    "\n",
    "print(cirq_circuit)"
   ]
  },
  {
   "cell_type": "markdown",
   "id": "2b46d0bc-1025-406d-974c-612654989ecd",
   "metadata": {},
   "source": [
    "## Run circuit on any supported device"
   ]
  },
  {
   "cell_type": "markdown",
   "id": "bd6b094f-754a-446d-95d6-5cb057fd1a3f",
   "metadata": {},
   "source": [
    "Copy the desired Device ID into the device wrapper function and you're on your way."
   ]
  },
  {
   "cell_type": "code",
   "execution_count": 9,
   "id": "5e9f68fd-162a-45a9-80d6-47716504f9bf",
   "metadata": {},
   "outputs": [],
   "source": [
    "from qbraid import device_wrapper\n",
    "from qbraid.devices.ibm import ibm_least_busy_qpu"
   ]
  },
  {
   "cell_type": "code",
   "execution_count": 10,
   "id": "e5fcddf2-38a0-4a6a-b791-7a788c32c230",
   "metadata": {},
   "outputs": [
    {
     "data": {
      "text/plain": [
       "<DeviceStatus.ONLINE: 0>"
      ]
     },
     "execution_count": 10,
     "metadata": {},
     "output_type": "execute_result"
    }
   ],
   "source": [
    "aws_ionq_id = \"aws_ionq\"\n",
    "\n",
    "qbraid_aws_device = device_wrapper(\"aws_ionq\")\n",
    "qbraid_aws_device.status"
   ]
  },
  {
   "cell_type": "code",
   "execution_count": 11,
   "id": "f17d8f90-d639-4071-bfcd-e197b036ecd0",
   "metadata": {},
   "outputs": [
    {
     "data": {
      "text/plain": [
       "5"
      ]
     },
     "execution_count": 11,
     "metadata": {},
     "output_type": "execute_result"
    }
   ],
   "source": [
    "ibm_qpu_id = ibm_least_busy_qpu()\n",
    "\n",
    "qbraid_ibm_device = device_wrapper(\"ibm_q_belem\")\n",
    "qbraid_ibm_device.num_qubits"
   ]
  },
  {
   "cell_type": "markdown",
   "id": "0b1979a2-0d9a-4624-8f9a-9b7330500e99",
   "metadata": {},
   "source": [
    "Initialize quantum jobs and collect results on any device through the same simple and consistent protocols. In this example, we'll compare results from running our bell circuit on the AWS and IBM state vector simulators:"
   ]
  },
  {
   "cell_type": "code",
   "execution_count": 12,
   "id": "80776a3e-8a01-41ef-a2a2-24b0263b48d1",
   "metadata": {},
   "outputs": [
    {
     "data": {
      "text/html": [
       "<h3>Supported Devices</h3><table><tr>\n",
       "    <th style='text-align:left'>Provider</th>\n",
       "    <th style='text-align:left'>Name</th>\n",
       "    <th style='text-align:left'>qBraid ID</th>\n",
       "    <th style='text-align:left'>Status</th></tr>\n",
       "    <tr>\n",
       "        <td style='text-align:left'>AWS</td>\n",
       "        <td style='text-align:left'>SV1</td>\n",
       "        <td style='text-align:left'><code>aws_sv_sim</code></td>\n",
       "        <td><span style='color:green'>●</span></td></tr>\n",
       "        <tr>\n",
       "        <td style='text-align:left'>IBM</td>\n",
       "        <td style='text-align:left'>State vector simulator</td>\n",
       "        <td style='text-align:left'><code>ibm_q_sv_sim</code></td>\n",
       "        <td><span style='color:green'>●</span></td></tr>\n",
       "        <tr><td colspan='4'; style='text-align:right'>Device status updated 1 minutes ago</td></tr></table>"
      ],
      "text/plain": [
       "<IPython.core.display.HTML object>"
      ]
     },
     "metadata": {},
     "output_type": "display_data"
    }
   ],
   "source": [
    "get_devices(filters={\"qbraid_id\": {\"$regex\": \"sv\"}})"
   ]
  },
  {
   "cell_type": "code",
   "execution_count": 1,
   "id": "0926b76d-6f08-4361-b36c-918e61bd5abb",
   "metadata": {},
   "outputs": [],
   "source": [
    "aws_sv_sim = device_wrapper(\"aws_sv_sim\")\n",
    "ibm_sv_sim = device_wrapper(\"ibm_q_sv_sim\")\n",
    "\n",
    "qbraid_aws_job = aws_sv_sim.run(cirq_circuit, shots=100)\n",
    "qbraid_ibm_job = ibm_sv_sim.run(cirq_circuit, shots=100)\n",
    "\n",
    "qbraid_ibm_job.status"
   ]
  },
  {
   "cell_type": "markdown",
   "id": "8a1f0e06-d3e9-42ce-8816-36efd36b8a57",
   "metadata": {
    "tags": []
   },
   "source": [
    "## Monitor and manage your jobs from one location"
   ]
  },
  {
   "cell_type": "code",
   "execution_count": 14,
   "id": "79be0111-589a-4f78-b152-85eb9f5742b6",
   "metadata": {},
   "outputs": [],
   "source": [
    "from qbraid import get_jobs"
   ]
  },
  {
   "cell_type": "code",
   "execution_count": 15,
   "id": "4346477c-345e-4430-a0c8-8d3498d8b565",
   "metadata": {},
   "outputs": [
    {
     "data": {
      "text/html": [
       "<h3>Quantum Jobs</h3><table><tr>\n",
       "    <th style='text-align:left'>qBraid ID</th>\n",
       "    <th style='text-align:left'>Submitted</th>\n",
       "    <th style='text-align:left'>Status</th></tr>\n",
       "    <tr>\n",
       "        <td style='text-align:left'>aws_sv_sim-ryanjh88-qjob-f9d7kt1hw90q2dflr8nf</td>\n",
       "        <td style='text-align:left'>2023-04-20T22:45:25.026Z</td>\n",
       "        <td style='text-align:left'><span style='color:green'>COMPLETED</span></td></tr>\n",
       "        <tr>\n",
       "        <td style='text-align:left'>aws_sv_sim-ryanjh88-qjob-qjo8hvgybnuss37r74xo</td>\n",
       "        <td style='text-align:left'>2023-04-20T22:23:25.903Z</td>\n",
       "        <td style='text-align:left'><span style='color:green'>COMPLETED</span></td></tr>\n",
       "        <tr>\n",
       "        <td style='text-align:left'>ibm_q_sv_sim-ryanjh88-qjob-ffifddpi00bi3vgxp701</td>\n",
       "        <td style='text-align:left'>2023-04-20T22:23:23.729Z</td>\n",
       "        <td style='text-align:left'><span style='color:green'>COMPLETED</span></td></tr>\n",
       "        <tr>\n",
       "        <td style='text-align:left'>aws_dm_sim-ryanjh88-qjob-80fu1prgbxxbdcsaywmp</td>\n",
       "        <td style='text-align:left'>2023-04-20T22:23:09.779Z</td>\n",
       "        <td style='text-align:left'><span style='color:green'>COMPLETED</span></td></tr>\n",
       "        <tr>\n",
       "        <td style='text-align:left'>ibm_q_sv_sim-ryanjh88-qjob-lw2sv8ooy4t3lqrbxvkl</td>\n",
       "        <td style='text-align:left'>2023-04-20T22:22:55.692Z</td>\n",
       "        <td style='text-align:left'><span style='color:green'>COMPLETED</span></td></tr>\n",
       "        <tr>\n",
       "        <td style='text-align:left'>aws_sv_sim-ryanjh88-qjob-ljqolzju4qpdpkf07pkh</td>\n",
       "        <td style='text-align:left'>2023-04-20T22:22:44.859Z</td>\n",
       "        <td style='text-align:left'><span style='color:green'>COMPLETED</span></td></tr>\n",
       "        <tr>\n",
       "        <td style='text-align:left'>aws_sv_sim-ryanjh88-qjob-hzrur7urczi1plak6a3j</td>\n",
       "        <td style='text-align:left'>2023-04-20T22:22:43.591Z</td>\n",
       "        <td style='text-align:left'><span style='color:green'>COMPLETED</span></td></tr>\n",
       "        <tr>\n",
       "        <td style='text-align:left'>aws_sv_sim-ryanjh88-qjob-ne4eqj9jz0x2n83jaesn</td>\n",
       "        <td style='text-align:left'>2023-04-20T22:22:42.305Z</td>\n",
       "        <td style='text-align:left'><span style='color:green'>COMPLETED</span></td></tr>\n",
       "        <tr>\n",
       "        <td style='text-align:left'>aws_sv_sim-ryanjh88-qjob-p2nt5cve64sfzsc4ag2z</td>\n",
       "        <td style='text-align:left'>2023-04-20T22:22:40.750Z</td>\n",
       "        <td style='text-align:left'><span style='color:green'>COMPLETED</span></td></tr>\n",
       "        <tr>\n",
       "        <td style='text-align:left'>ibm_q_qasm_sim-ryanjh88-qjob-l213l2854ibxh3o80a5q</td>\n",
       "        <td style='text-align:left'>2023-04-20T22:22:39.026Z</td>\n",
       "        <td style='text-align:left'><span style='color:green'>COMPLETED</span></td></tr>\n",
       "        <tr><td colspan='4'; style='text-align:right'>Displaying 10 most recent jobs</td></tr></table>"
      ],
      "text/plain": [
       "<IPython.core.display.HTML object>"
      ]
     },
     "metadata": {},
     "output_type": "display_data"
    }
   ],
   "source": [
    "get_jobs()"
   ]
  },
  {
   "cell_type": "code",
   "execution_count": null,
   "id": "959d4516-47fb-4465-a2a8-55f98092ec76",
   "metadata": {},
   "outputs": [],
   "source": [
    "aws_result = qbraid_aws_job.result()\n",
    "ibm_result = qbraid_ibm_job.result()"
   ]
  },
  {
   "cell_type": "markdown",
   "id": "259b35b2-b1b7-4585-a08d-f4f99af641ff",
   "metadata": {},
   "source": [
    "## Easily compare results"
   ]
  },
  {
   "cell_type": "code",
   "execution_count": null,
   "id": "32ef5f4d-02eb-46ec-b2a4-12e9c3df4936",
   "metadata": {},
   "outputs": [],
   "source": [
    "aws_counts = aws_result.measurement_counts()\n",
    "ibm_counts = ibm_result.measurement_counts()\n",
    "\n",
    "print(aws_sv_sim.name)\n",
    "print(f\"counts: {aws_counts}\\n\")\n",
    "\n",
    "print(ibm_sv_sim.name)\n",
    "print(f\"counts: {ibm_counts}\\n\")"
   ]
  },
  {
   "cell_type": "code",
   "execution_count": null,
   "id": "ad004f85-6d1a-4a9f-b941-3685392ca226",
   "metadata": {},
   "outputs": [],
   "source": [
    "aws_result.plot_counts()"
   ]
  },
  {
   "cell_type": "code",
   "execution_count": null,
   "id": "9fa9c218-577c-4c02-a8bf-9fe6c5427753",
   "metadata": {},
   "outputs": [],
   "source": [
    "ibm_result.plot_counts()"
   ]
  }
 ],
 "metadata": {
  "kernelspec": {
   "display_name": "Python 3 [Qiskit]",
   "language": "python",
   "name": "python3_qiskit_9y9siy"
  },
  "language_info": {
   "codemirror_mode": {
    "name": "ipython",
    "version": 3
   },
   "file_extension": ".py",
   "mimetype": "text/x-python",
   "name": "python",
   "nbconvert_exporter": "python",
   "pygments_lexer": "ipython3",
   "version": "3.9.10"
  }
 },
 "nbformat": 4,
 "nbformat_minor": 5
}
