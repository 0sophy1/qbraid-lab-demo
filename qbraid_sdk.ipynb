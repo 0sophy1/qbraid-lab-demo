{
 "cells": [
  {
   "cell_type": "markdown",
   "id": "8bedcde3-4e86-4172-83cc-566e876745ca",
   "metadata": {},
   "source": [
    "## Getting started with local simulators"
   ]
  },
  {
   "cell_type": "markdown",
   "id": "1e0e187c-6b41-4691-84c7-eea34cbea295",
   "metadata": {},
   "source": [
    "#### Braket"
   ]
  },
  {
   "cell_type": "code",
   "execution_count": 85,
   "id": "54b667e9-c4b4-438e-898f-2816ddc74b3a",
   "metadata": {},
   "outputs": [],
   "source": [
    "from braket import circuits as bk_circuits\n",
    "from braket import devices as bk_devices\n",
    "\n",
    "import numpy as np"
   ]
  },
  {
   "cell_type": "code",
   "execution_count": 86,
   "id": "ad581b5c-03ce-48a1-85b6-e64da8c6af68",
   "metadata": {},
   "outputs": [],
   "source": [
    "bk_sim = bk_devices.LocalSimulator(backend=\"braket_dm\") "
   ]
  },
  {
   "cell_type": "code",
   "execution_count": 100,
   "id": "7c9087e8-e899-4126-b482-94df26db4ab8",
   "metadata": {},
   "outputs": [
    {
     "name": "stdout",
     "output_type": "stream",
     "text": [
      "T  : |0|    1    |   2    |\n",
      "                           \n",
      "q0 : -H-Ry(0.785)-Ry(2.36)-\n",
      "                           \n",
      "q1 : -H-Rz(1.57)--Rz(3.14)-\n",
      "\n",
      "T  : |0|    1    |   2    |\n"
     ]
    }
   ],
   "source": [
    "bk_circuit = bk_circuits.Circuit()\n",
    "\n",
    "theta = [np.pi/4, np.pi/2, 3*np.pi/4, np.pi]\n",
    "\n",
    "bk_circuit.h([0, 1])\n",
    "bk_circuit.ry(0, theta[0])\n",
    "bk_circuit.rz(1, theta[1])\n",
    "bk_circuit.ry(0, theta[2])\n",
    "bk_circuit.rz(1, theta[3])\n",
    "\n",
    "print(bk_circuit)"
   ]
  },
  {
   "cell_type": "code",
   "execution_count": 101,
   "id": "b54dc879-a315-4ea0-8d3f-209620103d2d",
   "metadata": {},
   "outputs": [],
   "source": [
    "bk_unitary = bk_circuits.unitary_calculation.calculate_unitary(bk_circuit.qubit_count, bk_circuit.instructions)"
   ]
  },
  {
   "cell_type": "code",
   "execution_count": 102,
   "id": "857eb84f-931c-4a53-9688-c72c5d75ea0f",
   "metadata": {},
   "outputs": [],
   "source": [
    "bk_sim_result = bk_dm.run(bk_circuit, shots=1024).result()"
   ]
  },
  {
   "cell_type": "code",
   "execution_count": 151,
   "id": "99ac69cd-cdaa-49f0-b11e-f04f2dab12e3",
   "metadata": {},
   "outputs": [
    {
     "name": "stdout",
     "output_type": "stream",
     "text": [
      "Help on GateModelQuantumTaskResult in module braket.tasks.gate_model_quantum_task_result object:\n",
      "\n",
      "class GateModelQuantumTaskResult(builtins.object)\n",
      " |  GateModelQuantumTaskResult(task_metadata: 'TaskMetadata', additional_metadata: 'AdditionalMetadata', result_types: 'List[ResultTypeValue]' = None, values: 'List[Any]' = None, measurements: 'np.ndarray' = None, measured_qubits: 'List[int]' = None, measurement_counts: 'Counter' = None, measurement_probabilities: 'Dict[str, float]' = None, measurements_copied_from_device: 'bool' = None, measurement_counts_copied_from_device: 'bool' = None, measurement_probabilities_copied_from_device: 'bool' = None, _result_types_indices: 'Dict[str, int]' = None) -> None\n",
      " |  \n",
      " |  Result of a gate model quantum task execution. This class is intended\n",
      " |  to be initialized by a QuantumTask class.\n",
      " |  \n",
      " |  Args:\n",
      " |      task_metadata (TaskMetadata): Task metadata.\n",
      " |      additional_metadata (AdditionalMetadata): Additional metadata about the task\n",
      " |      result_types (List[Dict[str, Any]]): List of dictionaries where each dictionary\n",
      " |          has two keys: 'Type' (the result type in IR JSON form) and\n",
      " |          'Value' (the result value for this result type).\n",
      " |          This can be an empty list if no result types are specified in the IR.\n",
      " |          This is calculated from `measurements` and\n",
      " |          the IR of the circuit program when `shots>0`.\n",
      " |      values (List[Any]): The values for result types requested in the circuit.\n",
      " |          This can be an empty list if no result types are specified in the IR.\n",
      " |          This is calculated from `measurements` and\n",
      " |          the IR of the circuit program when `shots>0`.\n",
      " |      measurements (numpy.ndarray, optional): 2d array - row is shot and column is qubit.\n",
      " |          Default is None. Only available when shots > 0. The qubits in `measurements`\n",
      " |          are the ones in `GateModelQuantumTaskResult.measured_qubits`.\n",
      " |      measured_qubits (List[int], optional): The indices of the measured qubits. Default\n",
      " |          is None. Only available when shots > 0. Indicates which qubits are in\n",
      " |          `measurements`.\n",
      " |      measurement_counts (Counter, optional): A `Counter` of measurements. Key is the measurements\n",
      " |          in a big endian binary string. Value is the number of times that measurement occurred.\n",
      " |          Default is None. Only available when shots > 0. Note that the keys in `Counter` are\n",
      " |          unordered.\n",
      " |      measurement_probabilities (Dict[str, float], optional):\n",
      " |          A dictionary of probabilistic results.\n",
      " |          Key is the measurements in a big endian binary string.\n",
      " |          Value is the probability the measurement occurred.\n",
      " |          Default is None. Only available when shots > 0.\n",
      " |      measurements_copied_from_device (bool, optional): flag whether `measurements`\n",
      " |          were copied from device. If false, `measurements` are calculated from device data.\n",
      " |          Default is None. Only available when shots > 0.\n",
      " |      measurement_counts_copied_from_device (bool, optional): flag whether `measurement_counts`\n",
      " |          were copied from device. If False, `measurement_counts` are calculated from device data.\n",
      " |          Default is None. Only available when shots > 0.\n",
      " |      measurement_probabilities_copied_from_device (bool, optional): flag whether\n",
      " |          `measurement_probabilities` were copied from device. If false,\n",
      " |          `measurement_probabilities` are calculated from device data. Default is None.\n",
      " |          Only available when shots > 0.\n",
      " |  \n",
      " |  Methods defined here:\n",
      " |  \n",
      " |  __eq__(self, other) -> 'bool'\n",
      " |      Return self==value.\n",
      " |  \n",
      " |  __init__(self, task_metadata: 'TaskMetadata', additional_metadata: 'AdditionalMetadata', result_types: 'List[ResultTypeValue]' = None, values: 'List[Any]' = None, measurements: 'np.ndarray' = None, measured_qubits: 'List[int]' = None, measurement_counts: 'Counter' = None, measurement_probabilities: 'Dict[str, float]' = None, measurements_copied_from_device: 'bool' = None, measurement_counts_copied_from_device: 'bool' = None, measurement_probabilities_copied_from_device: 'bool' = None, _result_types_indices: 'Dict[str, int]' = None) -> None\n",
      " |  \n",
      " |  __post_init__(self)\n",
      " |  \n",
      " |  __repr__(self)\n",
      " |  \n",
      " |  get_value_by_result_type(self, result_type: 'ResultType') -> 'Any'\n",
      " |      Get value by result type. The result type must have already been\n",
      " |      requested in the circuit sent to the device for this task result.\n",
      " |      \n",
      " |      Args:\n",
      " |          result_type (ResultType): result type requested\n",
      " |      \n",
      " |      Returns:\n",
      " |          Any: value of the result corresponding to the result type\n",
      " |      \n",
      " |      Raises:\n",
      " |          ValueError: If result type is not found in result.\n",
      " |              Result types must be added to the circuit before the circuit is run on a device.\n",
      " |  \n",
      " |  ----------------------------------------------------------------------\n",
      " |  Static methods defined here:\n",
      " |  \n",
      " |  cast_result_types(gate_model_task_result: 'GateModelTaskResult') -> 'None'\n",
      " |      Casts the result types to the types expected by the SDK.\n",
      " |      \n",
      " |      Args:\n",
      " |          gate_model_task_result (GateModelTaskResult): GateModelTaskResult representing the\n",
      " |              results.\n",
      " |  \n",
      " |  from_object(result: 'GateModelTaskResult')\n",
      " |      Create GateModelQuantumTaskResult from GateModelTaskResult object.\n",
      " |      \n",
      " |      Args:\n",
      " |          result (GateModelTaskResult): GateModelTaskResult object\n",
      " |      \n",
      " |      Returns:\n",
      " |          GateModelQuantumTaskResult: A GateModelQuantumTaskResult based on the given dict\n",
      " |      \n",
      " |      Raises:\n",
      " |          ValueError: If neither \"Measurements\" nor \"MeasurementProbabilities\" is a key\n",
      " |              in the result dict\n",
      " |  \n",
      " |  from_string(result: 'str') -> 'GateModelQuantumTaskResult'\n",
      " |      Create GateModelQuantumTaskResult from string.\n",
      " |      \n",
      " |      Args:\n",
      " |          result (str): JSON object string, with GateModelQuantumTaskResult attributes as keys.\n",
      " |      \n",
      " |      Returns:\n",
      " |          GateModelQuantumTaskResult: A GateModelQuantumTaskResult based on the given string\n",
      " |      \n",
      " |      Raises:\n",
      " |          ValueError: If neither \"Measurements\" nor \"MeasurementProbabilities\" is a key\n",
      " |              in the result dict\n",
      " |  \n",
      " |  measurement_counts_from_measurements(measurements: 'np.ndarray') -> 'Counter'\n",
      " |      Creates measurement counts from measurements\n",
      " |      \n",
      " |      Args:\n",
      " |          measurements (numpy.ndarray): 2d array - row is shot and column is qubit.\n",
      " |      \n",
      " |      Returns:\n",
      " |          Counter: A Counter of measurements. Key is the measurements in a big endian binary\n",
      " |              string. Value is the number of times that measurement occurred.\n",
      " |  \n",
      " |  measurement_probabilities_from_measurement_counts(measurement_counts: 'Counter') -> 'Dict[str, float]'\n",
      " |      Creates measurement probabilities from measurement counts\n",
      " |      \n",
      " |      Args:\n",
      " |          measurement_counts (Counter): A Counter of measurements. Key is the measurements\n",
      " |              in a big endian binary string. Value is the number of times that measurement\n",
      " |              occurred.\n",
      " |      \n",
      " |      Returns:\n",
      " |          Dict[str, float]: A dictionary of probabilistic results. Key is the measurements\n",
      " |              in a big endian binary string. Value is the probability the measurement occurred.\n",
      " |  \n",
      " |  measurements_from_measurement_probabilities(measurement_probabilities: 'Dict[str, float]', shots: 'int') -> 'np.ndarray'\n",
      " |      Creates measurements from measurement probabilities\n",
      " |      \n",
      " |      Args:\n",
      " |          measurement_probabilities (Dict[str, float]): A dictionary of probabilistic results.\n",
      " |              Key is the measurements in a big endian binary string.\n",
      " |              Value is the probability the measurement occurred.\n",
      " |          shots (int): number of iterations on device\n",
      " |      \n",
      " |      Returns:\n",
      " |          Dict[str, float]: A dictionary of probabilistic results.\n",
      " |              Key is the measurements in a big endian binary string.\n",
      " |              Value is the probability the measurement occurred.\n",
      " |  \n",
      " |  ----------------------------------------------------------------------\n",
      " |  Data descriptors defined here:\n",
      " |  \n",
      " |  __dict__\n",
      " |      dictionary for instance variables (if defined)\n",
      " |  \n",
      " |  __weakref__\n",
      " |      list of weak references to the object (if defined)\n",
      " |  \n",
      " |  ----------------------------------------------------------------------\n",
      " |  Data and other attributes defined here:\n",
      " |  \n",
      " |  __annotations__ = {'_result_types_indices': 'Dict[str, int]', 'additio...\n",
      " |  \n",
      " |  __dataclass_fields__ = {'_result_types_indices': Field(name='_result_t...\n",
      " |  \n",
      " |  __dataclass_params__ = _DataclassParams(init=True,repr=True,eq=True,or...\n",
      " |  \n",
      " |  __hash__ = None\n",
      " |  \n",
      " |  measured_qubits = None\n",
      " |  \n",
      " |  measurement_counts = None\n",
      " |  \n",
      " |  measurement_counts_copied_from_device = None\n",
      " |  \n",
      " |  measurement_probabilities = None\n",
      " |  \n",
      " |  measurement_probabilities_copied_from_device = None\n",
      " |  \n",
      " |  measurements = None\n",
      " |  \n",
      " |  measurements_copied_from_device = None\n",
      " |  \n",
      " |  result_types = None\n",
      " |  \n",
      " |  values = None\n",
      "\n"
     ]
    }
   ],
   "source": [
    "help(bk_sim_result)"
   ]
  },
  {
   "cell_type": "code",
   "execution_count": 163,
   "id": "5e473a2a-ecbe-40c6-b2eb-072a336f6e2b",
   "metadata": {},
   "outputs": [
    {
     "data": {
      "text/plain": [
       "array([[0, 0],\n",
       "       [1, 0],\n",
       "       [0, 0],\n",
       "       ...,\n",
       "       [1, 1],\n",
       "       [1, 1],\n",
       "       [0, 1]])"
      ]
     },
     "execution_count": 163,
     "metadata": {},
     "output_type": "execute_result"
    }
   ],
   "source": [
    "bk_sim_result.measurements\n",
    "# bk_sim_result.measurement_counts\n",
    "# bk_sim_result.measurement_probabilities"
   ]
  },
  {
   "cell_type": "markdown",
   "id": "756c609d-cfb6-4b0d-81f9-254721be1c8e",
   "metadata": {},
   "source": [
    "#### Cirq"
   ]
  },
  {
   "cell_type": "code",
   "execution_count": 98,
   "id": "f89ba248-3107-402d-977b-c1383f1d1677",
   "metadata": {},
   "outputs": [],
   "source": [
    "import cirq"
   ]
  },
  {
   "cell_type": "code",
   "execution_count": 111,
   "id": "15a1fb13-097d-4902-8e8a-09d176987140",
   "metadata": {},
   "outputs": [],
   "source": [
    "cirq_sim = cirq.DensityMatrixSimulator()"
   ]
  },
  {
   "cell_type": "code",
   "execution_count": 142,
   "id": "995d706b-4183-4d18-986f-eded4bcefc67",
   "metadata": {},
   "outputs": [
    {
     "name": "stdout",
     "output_type": "stream",
     "text": [
      "0: ───H───Ry(0.25π)───Ry(0.75π)───M───\n",
      "\n",
      "1: ───H───Rz(0.5π)────Rz(π)───────M───\n"
     ]
    }
   ],
   "source": [
    "qs = cirq.LineQubit.range(2)\n",
    "# qs.reverse()\n",
    "\n",
    "cirq_circuit = cirq.Circuit(\n",
    "    cirq.H(q0),\n",
    "    cirq.H(q1),\n",
    "    cirq.ry(rads=theta[0])(qs[0]),\n",
    "    cirq.rz(rads=theta[1])(qs[1]),\n",
    "    cirq.ry(rads=theta[2])(qs[0]),\n",
    "    cirq.rz(rads=theta[3])(qs[1]),\n",
    "    cirq.measure(q0, key=str(qs[0].x)),\n",
    "    cirq.measure(q1, key=str(qs[1].x)),\n",
    ")\n",
    "\n",
    "print(cirq_circuit)"
   ]
  },
  {
   "cell_type": "code",
   "execution_count": 127,
   "id": "eb199276-2b61-4d16-8e44-8ca2e246fd5a",
   "metadata": {},
   "outputs": [],
   "source": [
    "cirq_unitary = cirq_circuit.unitary()"
   ]
  },
  {
   "cell_type": "code",
   "execution_count": 156,
   "id": "7ffd8974-eb30-4517-a183-fca19705cc6a",
   "metadata": {},
   "outputs": [],
   "source": [
    "cirq_sim_result = cirq_sim.run(cirq_circuit, repetitions=1024)"
   ]
  },
  {
   "cell_type": "code",
   "execution_count": 164,
   "id": "a0ada1e8-5318-4247-90a8-f9fd949fa930",
   "metadata": {},
   "outputs": [
    {
     "data": {
      "text/plain": [
       "{'0': array([[0],\n",
       "        [0],\n",
       "        [1],\n",
       "        ...,\n",
       "        [0],\n",
       "        [0],\n",
       "        [1]], dtype=int8),\n",
       " '1': array([[1],\n",
       "        [1],\n",
       "        [0],\n",
       "        ...,\n",
       "        [1],\n",
       "        [1],\n",
       "        [0]], dtype=int8)}"
      ]
     },
     "execution_count": 164,
     "metadata": {},
     "output_type": "execute_result"
    }
   ],
   "source": [
    "cirq_sim_result.measurements\n",
    "# cirq_sim_result.data\n",
    "# cirq_sim_result.histogram\n",
    "# cirq_sim_result.multi_measurement_histogram(keys=cirq_sim_result.measurements.keys())"
   ]
  },
  {
   "cell_type": "code",
   "execution_count": 138,
   "id": "7221e07b-0504-4930-b7dc-fafc8200ec0a",
   "metadata": {},
   "outputs": [
    {
     "data": {
      "text/plain": [
       "Counter({(1, 1): 261, (0, 1): 257, (0, 0): 263, (1, 0): 243})"
      ]
     },
     "execution_count": 138,
     "metadata": {},
     "output_type": "execute_result"
    }
   ],
   "source": []
  },
  {
   "cell_type": "code",
   "execution_count": 132,
   "id": "c6edfe3a-4265-405c-bcb0-2e849ea54f99",
   "metadata": {},
   "outputs": [
    {
     "name": "stdout",
     "output_type": "stream",
     "text": [
      "Help on Result in module cirq.study.result object:\n",
      "\n",
      "class Result(builtins.object)\n",
      " |  Result(*, params: cirq.study.resolver.ParamResolver, measurements: Dict[str, numpy.ndarray]) -> None\n",
      " |  \n",
      " |  The results of multiple executions of a circuit with fixed parameters.\n",
      " |  Stored as a Pandas DataFrame that can be accessed through the \"data\"\n",
      " |  attribute. The repetition number is the row index and measurement keys\n",
      " |  are the columns of the DataFrame. Each element is a big endian integer\n",
      " |  representation of measurement outcomes for the measurement key in that\n",
      " |  repetition.  See `cirq.big_endian_int_to_bits` and similar functions\n",
      " |  for how to convert this integer into bits.\n",
      " |  \n",
      " |  Attributes:\n",
      " |      params: A ParamResolver of settings used when sampling result.\n",
      " |  \n",
      " |  Methods defined here:\n",
      " |  \n",
      " |  __add__(self, other: 'cirq.Result') -> 'cirq.Result'\n",
      " |  \n",
      " |  __eq__(self, other)\n",
      " |      Return self==value.\n",
      " |  \n",
      " |  __init__(self, *, params: cirq.study.resolver.ParamResolver, measurements: Dict[str, numpy.ndarray]) -> None\n",
      " |      Inits Result.\n",
      " |      \n",
      " |      Args:\n",
      " |          params: A ParamResolver of settings used for this result.\n",
      " |          measurements: A dictionary from measurement gate key to measurement\n",
      " |              results. The value for each key is a 2-D array of booleans,\n",
      " |              with the first index running over the repetitions, and the\n",
      " |              second index running over the qubits for the corresponding\n",
      " |              measurements.\n",
      " |  \n",
      " |  __repr__(self) -> str\n",
      " |      Return repr(self).\n",
      " |  \n",
      " |  __str__(self) -> str\n",
      " |      Return str(self).\n",
      " |  \n",
      " |  histogram(self, *, key: Union[str, ForwardRef('cirq.Qid'), Iterable[ForwardRef('cirq.Qid')]], fold_func: Callable[[Tuple], ~T] = <function big_endian_bits_to_int at 0x7f36d5b1aca0>) -> collections.Counter\n",
      " |      Counts the number of times a measurement result occurred.\n",
      " |      \n",
      " |      For example, suppose that:\n",
      " |      \n",
      " |          - fold_func is not specified\n",
      " |          - key='abc'\n",
      " |          - the measurement with key 'abc' measures qubits a, b, and c.\n",
      " |          - the circuit was sampled 3 times.\n",
      " |          - the sampled measurement values were:\n",
      " |              1. a=1 b=0 c=0\n",
      " |              2. a=0 b=1 c=0\n",
      " |              3. a=1 b=0 c=0\n",
      " |      \n",
      " |      Then the counter returned by this method will be:\n",
      " |      \n",
      " |          collections.Counter({\n",
      " |              0b100: 2,\n",
      " |              0b010: 1\n",
      " |          })\n",
      " |      \n",
      " |      Where '0b100' is binary for '4' and '0b010' is binary for '2'. Notice\n",
      " |      that the bits are combined in a big-endian way by default, with the\n",
      " |      first measured qubit determining the highest-value bit.\n",
      " |      \n",
      " |      Args:\n",
      " |          key: Keys of measurements to include in the histogram.\n",
      " |          fold_func: A function used to convert a sampled measurement result\n",
      " |              into a countable value. The input is a list of bits sampled\n",
      " |              together by a measurement. If this argument is not specified,\n",
      " |              it defaults to interpreting the bits as a big endian\n",
      " |              integer.\n",
      " |      \n",
      " |      Returns:\n",
      " |          A counter indicating how often a measurement sampled various\n",
      " |          results.\n",
      " |  \n",
      " |  multi_measurement_histogram(self, *, keys: Iterable[Union[str, ForwardRef('cirq.Qid'), Iterable[ForwardRef('cirq.Qid')]]], fold_func: Callable[[Tuple], ~T] = <function _tuple_of_big_endian_int at 0x7f36d30115e0>) -> collections.Counter\n",
      " |      Counts the number of times combined measurement results occurred.\n",
      " |      \n",
      " |      This is a more general version of the 'histogram' method. Instead of\n",
      " |      only counting how often results occurred for one specific measurement,\n",
      " |      this method tensors multiple measurement results together and counts\n",
      " |      how often the combined results occurred.\n",
      " |      \n",
      " |      For example, suppose that:\n",
      " |      \n",
      " |          - fold_func is not specified\n",
      " |          - keys=['abc', 'd']\n",
      " |          - the measurement with key 'abc' measures qubits a, b, and c.\n",
      " |          - the measurement with key 'd' measures qubit d.\n",
      " |          - the circuit was sampled 3 times.\n",
      " |          - the sampled measurement values were:\n",
      " |              1. a=1 b=0 c=0 d=0\n",
      " |              2. a=0 b=1 c=0 d=1\n",
      " |              3. a=1 b=0 c=0 d=0\n",
      " |      \n",
      " |      Then the counter returned by this method will be:\n",
      " |      \n",
      " |          collections.Counter({\n",
      " |              (0b100, 0): 2,\n",
      " |              (0b010, 1): 1\n",
      " |          })\n",
      " |      \n",
      " |      \n",
      " |      Where '0b100' is binary for '4' and '0b010' is binary for '2'. Notice\n",
      " |      that the bits are combined in a big-endian way by default, with the\n",
      " |      first measured qubit determining the highest-value bit.\n",
      " |      \n",
      " |      Args:\n",
      " |          fold_func: A function used to convert sampled measurement results\n",
      " |              into countable values. The input is a tuple containing the\n",
      " |              list of bits measured by each measurement specified by the\n",
      " |              keys argument. If this argument is not specified, it defaults\n",
      " |              to returning tuples of integers, where each integer is the big\n",
      " |              endian interpretation of the bits a measurement sampled.\n",
      " |          keys: Keys of measurements to include in the histogram.\n",
      " |      \n",
      " |      Returns:\n",
      " |          A counter indicating how often measurements sampled various\n",
      " |          results.\n",
      " |  \n",
      " |  ----------------------------------------------------------------------\n",
      " |  Static methods defined here:\n",
      " |  \n",
      " |  from_single_parameter_set(*, params: cirq.study.resolver.ParamResolver, measurements: Dict[str, numpy.ndarray]) -> 'Result'\n",
      " |      Packages runs of a single parameterized circuit into a Result.\n",
      " |      \n",
      " |      Args:\n",
      " |          params: A ParamResolver of settings used for this result.\n",
      " |          measurements: A dictionary from measurement gate key to measurement\n",
      " |              results. The value for each key is a 2-D array of booleans,\n",
      " |              with the first index running over the repetitions, and the\n",
      " |              second index running over the qubits for the corresponding\n",
      " |              measurements.\n",
      " |  \n",
      " |  ----------------------------------------------------------------------\n",
      " |  Readonly properties defined here:\n",
      " |  \n",
      " |  data\n",
      " |  \n",
      " |  measurements\n",
      " |  \n",
      " |  repetitions\n",
      " |  \n",
      " |  ----------------------------------------------------------------------\n",
      " |  Data descriptors defined here:\n",
      " |  \n",
      " |  __dict__\n",
      " |      dictionary for instance variables (if defined)\n",
      " |  \n",
      " |  __weakref__\n",
      " |      list of weak references to the object (if defined)\n",
      " |  \n",
      " |  ----------------------------------------------------------------------\n",
      " |  Data and other attributes defined here:\n",
      " |  \n",
      " |  __hash__ = None\n",
      "\n"
     ]
    }
   ],
   "source": [
    "help(cirq_sim_result)"
   ]
  },
  {
   "cell_type": "code",
   "execution_count": 129,
   "id": "2996defe-324b-4325-ad1c-f41cc6d921e8",
   "metadata": {},
   "outputs": [],
   "source": [
    "cirq_sim_meas = cirq_sim_result.measurements"
   ]
  },
  {
   "cell_type": "code",
   "execution_count": 130,
   "id": "c4d98503-b139-4e98-833e-4650c8f17e16",
   "metadata": {},
   "outputs": [
    {
     "name": "stdout",
     "output_type": "stream",
     "text": [
      "{'0': array([[0],\n",
      "       [1],\n",
      "       [1],\n",
      "       ...,\n",
      "       [0],\n",
      "       [0],\n",
      "       [0]], dtype=int8), '1': array([[1],\n",
      "       [0],\n",
      "       [1],\n",
      "       ...,\n",
      "       [0],\n",
      "       [1],\n",
      "       [0]], dtype=int8)}\n"
     ]
    }
   ],
   "source": [
    "print(cirq_sim_meas)"
   ]
  },
  {
   "cell_type": "code",
   "execution_count": null,
   "id": "7cd95bff-cabc-4aec-99b4-29de72cbdaeb",
   "metadata": {},
   "outputs": [],
   "source": []
  },
  {
   "cell_type": "code",
   "execution_count": null,
   "id": "3ec59710-f3b9-47e1-a161-71a0792cfd30",
   "metadata": {},
   "outputs": [],
   "source": []
  },
  {
   "cell_type": "code",
   "execution_count": null,
   "id": "65e11316-bfe3-4ce2-a8ce-b40f18250832",
   "metadata": {},
   "outputs": [],
   "source": []
  },
  {
   "cell_type": "markdown",
   "id": "5deaddf7-c72a-42c2-bea2-68a0a466afd2",
   "metadata": {},
   "source": [
    "## What are the available quantum backends?"
   ]
  },
  {
   "cell_type": "markdown",
   "id": "3e0208e0-df60-4a9a-919c-8c27ce08e363",
   "metadata": {},
   "source": [
    "#### Braket QPU"
   ]
  },
  {
   "cell_type": "markdown",
   "id": "5f7bce5d-f5df-4fd2-86c4-5f8ca8a7c3b1",
   "metadata": {
    "jp-MarkdownHeadingCollapsed": true,
    "tags": []
   },
   "source": [
    "Note: To interact with the Braket API in Python, you must first `pip install boto3`, and create local credential/config files using authentication from your AWS account, see [Boto3 Docs](https://boto3.amazonaws.com/v1/documentation/api/latest/guide/quickstart.html#configuration)."
   ]
  },
  {
   "cell_type": "code",
   "execution_count": 1,
   "id": "7ff6c2ac-b8a5-4a79-9394-4e9abcf25426",
   "metadata": {},
   "outputs": [],
   "source": [
    "import boto3"
   ]
  },
  {
   "cell_type": "code",
   "execution_count": 2,
   "id": "6e0005b8-9dc1-41b5-8fe1-ee0fb4cd6393",
   "metadata": {},
   "outputs": [],
   "source": [
    "client = boto3.client('braket')"
   ]
  },
  {
   "cell_type": "code",
   "execution_count": 3,
   "id": "4dda1cef-6ecd-40f6-b477-77c98b8924c6",
   "metadata": {},
   "outputs": [
    {
     "data": {
      "text/plain": [
       "{'ResponseMetadata': {'RequestId': '122c1474-fea0-4ea4-a5ef-db2fc3a4fb35',\n",
       "  'HTTPStatusCode': 200,\n",
       "  'HTTPHeaders': {'date': 'Fri, 28 Jan 2022 19:55:49 GMT',\n",
       "   'content-type': 'application/json',\n",
       "   'content-length': '25091',\n",
       "   'connection': 'keep-alive',\n",
       "   'x-amzn-requestid': '122c1474-fea0-4ea4-a5ef-db2fc3a4fb35',\n",
       "   'access-control-allow-origin': '*',\n",
       "   'strict-transport-security': 'max-age=63072000; includeSubDomains; preload',\n",
       "   'access-control-allow-headers': '*,authorization,date,x-amz-date,x-amz-security-token,x-amz-target,content-type,x-amz-content-sha256,x-amz-user-agent,x-amzn-platform-id,x-amzn-trace-id',\n",
       "   'x-amz-apigw-id': 'MrCK8ErMIAMFucg=',\n",
       "   'access-control-allow-methods': 'OPTIONS,GET,PUT,POST,DELETE',\n",
       "   'access-control-expose-headers': 'x-amzn-errortype,x-amzn-requestid,x-amzn-errormessage,x-amzn-trace-id,x-amz-apigw-id,date',\n",
       "   'x-amzn-trace-id': 'Root=1-61f44a45-2eb4c0e93447054271e705a4'},\n",
       "  'RetryAttempts': 0},\n",
       " 'devices': [{'deviceArn': 'arn:aws:braket:::device/qpu/ionq/ionQdevice',\n",
       "   'deviceName': 'IonQ Device',\n",
       "   'deviceStatus': 'ONLINE',\n",
       "   'deviceType': 'QPU',\n",
       "   'providerName': 'IonQ'},\n",
       "  {'deviceArn': 'arn:aws:braket:::device/quantum-simulator/amazon/tn1',\n",
       "   'deviceName': 'TN1',\n",
       "   'deviceStatus': 'ONLINE',\n",
       "   'deviceType': 'SIMULATOR',\n",
       "   'providerName': 'Amazon Braket'},\n",
       "  {'deviceArn': 'arn:aws:braket:::device/quantum-simulator/amazon/sv1',\n",
       "   'deviceName': 'SV1',\n",
       "   'deviceStatus': 'ONLINE',\n",
       "   'deviceType': 'SIMULATOR',\n",
       "   'providerName': 'Amazon Braket'},\n",
       "  {'deviceArn': 'arn:aws:braket:::device/quantum-simulator/amazon/dm1',\n",
       "   'deviceName': 'dm1',\n",
       "   'deviceStatus': 'ONLINE',\n",
       "   'deviceType': 'SIMULATOR',\n",
       "   'providerName': 'Amazon Braket'}]}"
      ]
     },
     "execution_count": 3,
     "metadata": {},
     "output_type": "execute_result"
    }
   ],
   "source": [
    "client.search_devices(filters=[])"
   ]
  },
  {
   "cell_type": "code",
   "execution_count": 11,
   "id": "9d576704-054f-4970-9007-a3b5798be2c7",
   "metadata": {},
   "outputs": [],
   "source": [
    "from braket.circuits import Circuit as BkCircuit\n",
    "from braket.devices import LocalSimulator as BkSimulator\n",
    "from braket.aws import AwsDevice\n",
    "\n",
    "import numpy as np"
   ]
  },
  {
   "cell_type": "code",
   "execution_count": 20,
   "id": "01137ccc-1e2e-4be2-863b-200db16a088d",
   "metadata": {},
   "outputs": [
    {
     "name": "stdout",
     "output_type": "stream",
     "text": [
      "T  : |0|     1      | 2 | 3  |\n",
      "                              \n",
      "q0 : -H-Rx(0.785)----C--------\n",
      "                     |        \n",
      "q1 : -H-Ry(1.57)-----|-C-SWAP-\n",
      "                     | | |    \n",
      "q2 : -H-Rz(2.36)-----X-|-SWAP-\n",
      "                       |      \n",
      "q3 : -H-PHASE(0.393)---X------\n",
      "\n",
      "T  : |0|     1      | 2 | 3  |\n"
     ]
    }
   ],
   "source": [
    "bk_circuit = BraketCircuit()\n",
    "\n",
    "bk_circuit.h([0, 1, 2, 3])\n",
    "bk_circuit.rx(0, np.pi / 4)\n",
    "bk_circuit.ry(1, np.pi / 2)\n",
    "bk_circuit.rz(2, 3 * np.pi / 4)\n",
    "bk_circuit.phaseshift(3, np.pi / 8)\n",
    "bk_circuit.cnot(0, 2)\n",
    "bk_circuit.cnot(1, 3)\n",
    "bk_circuit.swap(1, 2)\n",
    "\n",
    "print(bk_circuit)"
   ]
  },
  {
   "cell_type": "code",
   "execution_count": 44,
   "id": "d3adb556-6639-43fb-87de-b0a4a656f741",
   "metadata": {},
   "outputs": [],
   "source": [
    "aws_dm1 = AwsDevice(\"arn:aws:braket:::device/quantum-simulator/amazon/dm1\")"
   ]
  },
  {
   "cell_type": "code",
   "execution_count": 45,
   "id": "6724c062-e0be-40c4-b670-4364d277fb27",
   "metadata": {},
   "outputs": [],
   "source": [
    "# Please enter the S3 bucket you created during onboarding in the code below\n",
    "\n",
    "my_bucket = os.environ[\"s3_bucket\"]\n",
    "my_prefix = os.environ[\"s3_prefix\"]\n",
    "\n",
    "# my_bucket = \"amazon-braket-Your-Bucket-Name\" # the name of the bucket\n",
    "# my_prefix = \"Your-Folder-Name\" # the name of the folder in the bucket\n",
    "\n",
    "s3_folder = (my_bucket, my_prefix)"
   ]
  },
  {
   "cell_type": "code",
   "execution_count": 46,
   "id": "fd6b6ad7-c7c2-4573-84f5-729e70afe6e8",
   "metadata": {},
   "outputs": [],
   "source": [
    "aws_dm1_job = aws_dm_sim.run(bk_circuit, s3_folder, shots=1024)"
   ]
  },
  {
   "cell_type": "code",
   "execution_count": 47,
   "id": "bcb1680a-d27c-44e1-b8b3-6177005a93a4",
   "metadata": {},
   "outputs": [
    {
     "data": {
      "text/plain": [
       "'CREATED'"
      ]
     },
     "execution_count": 47,
     "metadata": {},
     "output_type": "execute_result"
    }
   ],
   "source": [
    "aws_dm1_job.metadata()[\"status\" ]"
   ]
  },
  {
   "cell_type": "code",
   "execution_count": 48,
   "id": "ac7713fb-a613-480c-8273-686643db38d3",
   "metadata": {},
   "outputs": [],
   "source": [
    "aws_dm1_result = job.result()"
   ]
  },
  {
   "cell_type": "code",
   "execution_count": 49,
   "id": "4af9b539-bbf3-4c42-96f1-5ef5dc30c315",
   "metadata": {},
   "outputs": [],
   "source": [
    "aws_dm1_counts = aws_dm1_result.measurement_counts"
   ]
  },
  {
   "cell_type": "code",
   "execution_count": 58,
   "id": "aa7e8047-cd10-4558-9f88-f6a7a84a3c5e",
   "metadata": {},
   "outputs": [
    {
     "name": "stdout",
     "output_type": "stream",
     "text": [
      "Counter({'1011': 138, '0011': 134, '1110': 128, '0110': 127, '1111': 127, '0111': 124, '1010': 124, '0010': 122})\n"
     ]
    }
   ],
   "source": [
    "print(aws_dm1_counts) # <class 'collections.Counter'>"
   ]
  },
  {
   "cell_type": "code",
   "execution_count": 24,
   "id": "b68d7f75-a8ff-4c52-a16d-0acf98ef6dcb",
   "metadata": {},
   "outputs": [],
   "source": [
    "import qbraid"
   ]
  },
  {
   "cell_type": "code",
   "execution_count": 59,
   "id": "facf8a02-2eb9-4e3f-aea0-9e13c2a52033",
   "metadata": {},
   "outputs": [
    {
     "data": {
      "text/html": [
       "<h3>Supported Devices</h3><table><tr>\n",
       "    <th style='text-align:left'>Provider</th>\n",
       "    <th style='text-align:left'>Name</th>\n",
       "    <th style='text-align:left'>qBraid ID</th>\n",
       "    <th style='text-align:left'>Status</th></tr>\n",
       "    <tr>\n",
       "        <td style='text-align:left'>AWS</td>\n",
       "        <td style='text-align:left'>Braket Default Simulator</td>\n",
       "        <td style='text-align:left'><code>aws_braket_default_sim</code></td>\n",
       "        <td><span style='color:green'>●</span></td></tr>\n",
       "        <tr>\n",
       "        <td style='text-align:left'>AWS</td>\n",
       "        <td style='text-align:left'>Density Matrix Simulator</td>\n",
       "        <td style='text-align:left'><code>aws_dm_sim</code></td>\n",
       "        <td><span style='color:green'>●</span></td></tr>\n",
       "        <tr>\n",
       "        <td style='text-align:left'>AWS</td>\n",
       "        <td style='text-align:left'>State Vector Simulator</td>\n",
       "        <td style='text-align:left'><code>aws_sv_sim</code></td>\n",
       "        <td><span style='color:green'>●</span></td></tr>\n",
       "        <tr>\n",
       "        <td style='text-align:left'>AWS</td>\n",
       "        <td style='text-align:left'>Tensor Network Simulator</td>\n",
       "        <td style='text-align:left'><code>aws_tn_sim</code></td>\n",
       "        <td><span style='color:green'>●</span></td></tr>\n",
       "        <tr>\n",
       "        <td style='text-align:left'>D-Wave</td>\n",
       "        <td style='text-align:left'>Advantage_system4</td>\n",
       "        <td style='text-align:left'><code>aws_dwave_advantage_system4</code></td>\n",
       "        <td><span style='color:green'>●</span></td></tr>\n",
       "        <tr>\n",
       "        <td style='text-align:left'>D-Wave</td>\n",
       "        <td style='text-align:left'>DW_2000Q_6</td>\n",
       "        <td style='text-align:left'><code>aws_dwave_2000Q_6</code></td>\n",
       "        <td><span style='color:green'>●</span></td></tr>\n",
       "        <tr>\n",
       "        <td style='text-align:left'>Google</td>\n",
       "        <td style='text-align:left'>Bristlecone</td>\n",
       "        <td style='text-align:left'><code>google_bristlecone</code></td>\n",
       "        <td><span style='color:red'>○</span></td></tr>\n",
       "        <tr>\n",
       "        <td style='text-align:left'>Google</td>\n",
       "        <td style='text-align:left'>Cirq Density Matrix Simulator</td>\n",
       "        <td style='text-align:left'><code>google_cirq_dm_sim</code></td>\n",
       "        <td><span style='color:green'>●</span></td></tr>\n",
       "        <tr>\n",
       "        <td style='text-align:left'>Google</td>\n",
       "        <td style='text-align:left'>Cirq Sparse Simulator</td>\n",
       "        <td style='text-align:left'><code>google_cirq_sparse_sim</code></td>\n",
       "        <td><span style='color:green'>●</span></td></tr>\n",
       "        <tr>\n",
       "        <td style='text-align:left'>Google</td>\n",
       "        <td style='text-align:left'>Foxtail</td>\n",
       "        <td style='text-align:left'><code>google_foxtail</code></td>\n",
       "        <td><span style='color:red'>○</span></td></tr>\n",
       "        <tr>\n",
       "        <td style='text-align:left'>Google</td>\n",
       "        <td style='text-align:left'>Sycamore</td>\n",
       "        <td style='text-align:left'><code>google_sycamore</code></td>\n",
       "        <td><span style='color:red'>○</span></td></tr>\n",
       "        <tr>\n",
       "        <td style='text-align:left'>Google</td>\n",
       "        <td style='text-align:left'>Sycamore23</td>\n",
       "        <td style='text-align:left'><code>google_sycamore23</code></td>\n",
       "        <td><span style='color:red'>○</span></td></tr>\n",
       "        <tr>\n",
       "        <td style='text-align:left'>IBM</td>\n",
       "        <td style='text-align:left'>Aer Default Simulator</td>\n",
       "        <td style='text-align:left'><code>ibm_aer_default_sim</code></td>\n",
       "        <td><span style='color:green'>●</span></td></tr>\n",
       "        <tr>\n",
       "        <td style='text-align:left'>IBM</td>\n",
       "        <td style='text-align:left'>Aer Pulse Simulator</td>\n",
       "        <td style='text-align:left'><code>ibm_aer_pulse_sim</code></td>\n",
       "        <td><span style='color:green'>●</span></td></tr>\n",
       "        <tr>\n",
       "        <td style='text-align:left'>IBM</td>\n",
       "        <td style='text-align:left'>Aer QASM Simulator</td>\n",
       "        <td style='text-align:left'><code>ibm_aer_qasm_sim</code></td>\n",
       "        <td><span style='color:green'>●</span></td></tr>\n",
       "        <tr>\n",
       "        <td style='text-align:left'>IBM</td>\n",
       "        <td style='text-align:left'>Aer State Vector Simulator</td>\n",
       "        <td style='text-align:left'><code>ibm_aer_sv_sim</code></td>\n",
       "        <td><span style='color:green'>●</span></td></tr>\n",
       "        <tr>\n",
       "        <td style='text-align:left'>IBM</td>\n",
       "        <td style='text-align:left'>Aer Unitary Simulator</td>\n",
       "        <td style='text-align:left'><code>ibm_aer_unitary_sim</code></td>\n",
       "        <td><span style='color:green'>●</span></td></tr>\n",
       "        <tr>\n",
       "        <td style='text-align:left'>IBM</td>\n",
       "        <td style='text-align:left'>BasicAer QASM Simulator</td>\n",
       "        <td style='text-align:left'><code>ibm_basicaer_qasm_sim</code></td>\n",
       "        <td><span style='color:green'>●</span></td></tr>\n",
       "        <tr>\n",
       "        <td style='text-align:left'>IBM</td>\n",
       "        <td style='text-align:left'>BasicAer State Vector Simulator</td>\n",
       "        <td style='text-align:left'><code>ibm_basicaer_sv_sim</code></td>\n",
       "        <td><span style='color:green'>●</span></td></tr>\n",
       "        <tr>\n",
       "        <td style='text-align:left'>IBM</td>\n",
       "        <td style='text-align:left'>BasicAer Unitary Simulator</td>\n",
       "        <td style='text-align:left'><code>ibm_basicaer_unitary_sim</code></td>\n",
       "        <td><span style='color:green'>●</span></td></tr>\n",
       "        <tr>\n",
       "        <td style='text-align:left'>IBM</td>\n",
       "        <td style='text-align:left'>IBMQ Armonk</td>\n",
       "        <td style='text-align:left'><code>ibm_q_armonk</code></td>\n",
       "        <td><span style='color:green'>●</span></td></tr>\n",
       "        <tr>\n",
       "        <td style='text-align:left'>IBM</td>\n",
       "        <td style='text-align:left'>IBMQ Belem</td>\n",
       "        <td style='text-align:left'><code>ibm_q_belem</code></td>\n",
       "        <td><span style='color:green'>●</span></td></tr>\n",
       "        <tr>\n",
       "        <td style='text-align:left'>IBM</td>\n",
       "        <td style='text-align:left'>IBMQ Bogota</td>\n",
       "        <td style='text-align:left'><code>ibm_q_bogota</code></td>\n",
       "        <td><span style='color:red'>○</span></td></tr>\n",
       "        <tr>\n",
       "        <td style='text-align:left'>IBM</td>\n",
       "        <td style='text-align:left'>IBMQ Extended Stabilizer Simulator</td>\n",
       "        <td style='text-align:left'><code>ibm_q_ext_stabilizer_sim</code></td>\n",
       "        <td><span style='color:green'>●</span></td></tr>\n",
       "        <tr>\n",
       "        <td style='text-align:left'>IBM</td>\n",
       "        <td style='text-align:left'>IBMQ Least-Busy QPU</td>\n",
       "        <td style='text-align:left'><code>ibm_q_least_busy_qpu</code></td>\n",
       "        <td><span style='color:green'>●</span></td></tr>\n",
       "        <tr>\n",
       "        <td style='text-align:left'>IBM</td>\n",
       "        <td style='text-align:left'>IBMQ Lima</td>\n",
       "        <td style='text-align:left'><code>ibm_q_lima</code></td>\n",
       "        <td><span style='color:green'>●</span></td></tr>\n",
       "        <tr>\n",
       "        <td style='text-align:left'>IBM</td>\n",
       "        <td style='text-align:left'>IBMQ Matrix Product State Simulator</td>\n",
       "        <td style='text-align:left'><code>ibm_q_mps_sim</code></td>\n",
       "        <td><span style='color:green'>●</span></td></tr>\n",
       "        <tr>\n",
       "        <td style='text-align:left'>IBM</td>\n",
       "        <td style='text-align:left'>IBMQ QASM Simulator</td>\n",
       "        <td style='text-align:left'><code>ibm_q_qasm_sim</code></td>\n",
       "        <td><span style='color:green'>●</span></td></tr>\n",
       "        <tr>\n",
       "        <td style='text-align:left'>IBM</td>\n",
       "        <td style='text-align:left'>IBMQ Quito</td>\n",
       "        <td style='text-align:left'><code>ibm_q_quito</code></td>\n",
       "        <td><span style='color:green'>●</span></td></tr>\n",
       "        <tr>\n",
       "        <td style='text-align:left'>IBM</td>\n",
       "        <td style='text-align:left'>IBMQ Santiago</td>\n",
       "        <td style='text-align:left'><code>ibm_q_manila</code></td>\n",
       "        <td><span style='color:green'>●</span></td></tr>\n",
       "        <tr>\n",
       "        <td style='text-align:left'>IBM</td>\n",
       "        <td style='text-align:left'>IBMQ Santiago</td>\n",
       "        <td style='text-align:left'><code>ibm_q_santiago</code></td>\n",
       "        <td><span style='color:red'>○</span></td></tr>\n",
       "        <tr>\n",
       "        <td style='text-align:left'>IBM</td>\n",
       "        <td style='text-align:left'>IBMQ Stabilizer Simulator</td>\n",
       "        <td style='text-align:left'><code>ibm_q_stabilizer_sim</code></td>\n",
       "        <td><span style='color:green'>●</span></td></tr>\n",
       "        <tr>\n",
       "        <td style='text-align:left'>IBM</td>\n",
       "        <td style='text-align:left'>IBMQ State Vector Simulator</td>\n",
       "        <td style='text-align:left'><code>ibm_q_sv_sim</code></td>\n",
       "        <td><span style='color:green'>●</span></td></tr>\n",
       "        <tr>\n",
       "        <td style='text-align:left'>IonQ</td>\n",
       "        <td style='text-align:left'>IonQ Device</td>\n",
       "        <td style='text-align:left'><code>aws_ionq</code></td>\n",
       "        <td><span style='color:green'>●</span></td></tr>\n",
       "        <tr>\n",
       "        <td style='text-align:left'>Rigetti</td>\n",
       "        <td style='text-align:left'>Aspen-11</td>\n",
       "        <td style='text-align:left'><code>aws_rigetti_aspen_11</code></td>\n",
       "        <td><span style='color:green'>●</span></td></tr>\n",
       "        </table>"
      ],
      "text/plain": [
       "<IPython.core.display.HTML object>"
      ]
     },
     "metadata": {},
     "output_type": "display_data"
    }
   ],
   "source": [
    "qbraid.get_devices()"
   ]
  },
  {
   "cell_type": "code",
   "execution_count": 26,
   "id": "de3619b6-b838-4bc8-a88b-7d6ab81e0a37",
   "metadata": {},
   "outputs": [],
   "source": [
    "aws_device = device_wrapper(\"aws_dm_sim\")"
   ]
  },
  {
   "cell_type": "code",
   "execution_count": 29,
   "id": "edbb59f4-b651-4e3b-9e97-e1ab8b18db5d",
   "metadata": {},
   "outputs": [
    {
     "data": {
      "text/plain": [
       "('amazon-braket-592242689881', 'simulator-output')"
      ]
     },
     "execution_count": 29,
     "metadata": {},
     "output_type": "execute_result"
    }
   ],
   "source": [
    "aws_device._s3_location"
   ]
  },
  {
   "cell_type": "code",
   "execution_count": 30,
   "id": "cc4807e8-59d6-4f5f-8961-12c56ff949b1",
   "metadata": {},
   "outputs": [],
   "source": [
    "import os\n",
    " = 'amazon-braket-592242689881'\n",
    " = 'simulator-output'"
   ]
  },
  {
   "cell_type": "code",
   "execution_count": null,
   "id": "331a496f",
   "metadata": {},
   "outputs": [],
   "source": [
    "from qbraid import (\n",
    "    get_devices, \n",
    "    refresh_devices, \n",
    "    random_circuit, \n",
    "    device_wrapper, \n",
    ")"
   ]
  },
  {
   "cell_type": "markdown",
   "id": "cb5fd782",
   "metadata": {},
   "source": [
    "Get a complete list of devices available through qBraid using the get_devices function"
   ]
  },
  {
   "cell_type": "code",
   "execution_count": null,
   "id": "46da3cb6",
   "metadata": {},
   "outputs": [],
   "source": [
    "get_devices()"
   ]
  },
  {
   "cell_type": "markdown",
   "id": "b6881bc0",
   "metadata": {},
   "source": [
    "All device status's are updated every hour. To manually refresh device status's, use refresh_devices"
   ]
  },
  {
   "cell_type": "code",
   "execution_count": null,
   "id": "99f670f5",
   "metadata": {},
   "outputs": [],
   "source": [
    "refresh_devices()"
   ]
  },
  {
   "cell_type": "markdown",
   "id": "2ac5ee70",
   "metadata": {},
   "source": [
    "Filter your device search with many different advanced query options! \n",
    "\n",
    "For example, let's find all gate-based QPUs with at least 5 qubits that are online:"
   ]
  },
  {
   "cell_type": "code",
   "execution_count": null,
   "id": "d472ad75",
   "metadata": {},
   "outputs": [],
   "source": [
    "get_devices({\"paradigm\": \"gate-based\", \"type\": \"QPU\", \"qubits\": {\"$gte\": 5}, \"status\": \"ONLINE\"})"
   ]
  },
  {
   "cell_type": "markdown",
   "id": "052fd5f9",
   "metadata": {},
   "source": [
    "This time, let's search for state vector simulators available through AWS or IBM"
   ]
  },
  {
   "cell_type": "code",
   "execution_count": null,
   "id": "dca2b958",
   "metadata": {},
   "outputs": [],
   "source": [
    "get_devices({\"type\": \"Simulator\", \"name\": {\"$regex\": \"Density Matrix\"}, \"vendor\": {\"$in\": [\"AWS\", \"Google\"]}})"
   ]
  },
  {
   "cell_type": "markdown",
   "id": "d949ae2f",
   "metadata": {},
   "source": [
    "The qBraid SDK makes running quantum circuits on any device extremely easy. \n",
    "\n",
    "Simply copy the desired qBraid ID into the device wrapper function and your on your way"
   ]
  },
  {
   "cell_type": "code",
   "execution_count": null,
   "id": "c4e4d068",
   "metadata": {
    "scrolled": true
   },
   "outputs": [],
   "source": [
    "aws_device = device_wrapper(\"aws_dm_sim\")"
   ]
  },
  {
   "cell_type": "code",
   "execution_count": null,
   "id": "977e8aed",
   "metadata": {},
   "outputs": [],
   "source": [
    "google_device = device_wrapper(\"google_cirq_dm_sim\")"
   ]
  },
  {
   "cell_type": "code",
   "execution_count": null,
   "id": "e3ed253e",
   "metadata": {},
   "outputs": [],
   "source": [
    "ibm_device = device_wrapper(\"ibm_q_lima\") "
   ]
  },
  {
   "cell_type": "code",
   "execution_count": null,
   "id": "05e31f26",
   "metadata": {},
   "outputs": [],
   "source": [
    "ibm_device.info"
   ]
  },
  {
   "cell_type": "code",
   "execution_count": null,
   "id": "db7cbb75",
   "metadata": {},
   "outputs": [],
   "source": [
    "circuit = random_circuit(\"qiskit\", num_qubits=3, depth=5, measure=True)\n",
    "print(circuit)"
   ]
  },
  {
   "cell_type": "code",
   "execution_count": null,
   "id": "ee87fc5c",
   "metadata": {},
   "outputs": [],
   "source": [
    "shots=1000"
   ]
  },
  {
   "cell_type": "code",
   "execution_count": null,
   "id": "97c76456",
   "metadata": {},
   "outputs": [],
   "source": [
    "aws_job = aws_device.run(circuit, shots=shots)"
   ]
  },
  {
   "cell_type": "code",
   "execution_count": null,
   "id": "e438c305",
   "metadata": {},
   "outputs": [],
   "source": [
    "google_job = google_device.run(circuit, shots=shots)"
   ]
  },
  {
   "cell_type": "code",
   "execution_count": null,
   "id": "a2218f43",
   "metadata": {},
   "outputs": [],
   "source": [
    "ibm_job = ibm_device.run(circuit, shots=shots)"
   ]
  },
  {
   "cell_type": "code",
   "execution_count": null,
   "id": "6c68880b",
   "metadata": {},
   "outputs": [],
   "source": [
    "aws_job.id"
   ]
  },
  {
   "cell_type": "code",
   "execution_count": null,
   "id": "d64c1bf0",
   "metadata": {},
   "outputs": [],
   "source": [
    "# ibm_job.device.pending_jobs()\n",
    "ibm_job.status()"
   ]
  },
  {
   "cell_type": "code",
   "execution_count": null,
   "id": "7bc12a29",
   "metadata": {},
   "outputs": [],
   "source": [
    "ibm_result = ibm_job.result()"
   ]
  },
  {
   "cell_type": "code",
   "execution_count": null,
   "id": "620b6fad",
   "metadata": {},
   "outputs": [],
   "source": [
    "google_result = google_job.result()"
   ]
  },
  {
   "cell_type": "code",
   "execution_count": null,
   "id": "313f579e",
   "metadata": {},
   "outputs": [],
   "source": [
    "aws_result = aws_job.result()"
   ]
  },
  {
   "cell_type": "code",
   "execution_count": null,
   "id": "bb644983",
   "metadata": {},
   "outputs": [],
   "source": [
    "aws_result.measurement_counts()"
   ]
  },
  {
   "cell_type": "code",
   "execution_count": null,
   "id": "b015d8f1",
   "metadata": {},
   "outputs": [],
   "source": [
    "google_result.measurement_counts()"
   ]
  },
  {
   "cell_type": "code",
   "execution_count": null,
   "id": "b9263002",
   "metadata": {},
   "outputs": [],
   "source": [
    "ibm_result.measurement_counts()"
   ]
  },
  {
   "cell_type": "code",
   "execution_count": null,
   "id": "7bf141e6",
   "metadata": {},
   "outputs": [],
   "source": [
    "ibm_result.plot_counts()"
   ]
  },
  {
   "cell_type": "code",
   "execution_count": null,
   "id": "482dac72",
   "metadata": {},
   "outputs": [],
   "source": [
    "aws_result.plot_counts()"
   ]
  },
  {
   "cell_type": "code",
   "execution_count": null,
   "id": "e65d5c93",
   "metadata": {},
   "outputs": [],
   "source": [
    "google_result.plot_counts()"
   ]
  },
  {
   "cell_type": "code",
   "execution_count": null,
   "id": "80082fe7",
   "metadata": {},
   "outputs": [],
   "source": []
  }
 ],
 "metadata": {
  "kernelspec": {
   "display_name": "Python 3 [qBraid-SDK]",
   "language": "python",
   "name": "python3_qbraid_sdk_9j9sjy"
  },
  "language_info": {
   "codemirror_mode": {
    "name": "ipython",
    "version": 3
   },
   "file_extension": ".py",
   "mimetype": "text/x-python",
   "name": "python",
   "nbconvert_exporter": "python",
   "pygments_lexer": "ipython3",
   "version": "3.9.7"
  }
 },
 "nbformat": 4,
 "nbformat_minor": 5
}
