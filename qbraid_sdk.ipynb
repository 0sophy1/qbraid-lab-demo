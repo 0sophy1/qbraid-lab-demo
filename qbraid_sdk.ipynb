{
 "cells": [
  {
   "cell_type": "markdown",
   "id": "8bedcde3-4e86-4172-83cc-566e876745ca",
   "metadata": {},
   "source": [
    "## All the packages you need, working out-of-the-box"
   ]
  },
  {
   "cell_type": "markdown",
   "id": "f2c6b1f7-7747-41b2-91dc-7c609b6f4d40",
   "metadata": {},
   "source": [
    "#### Qiskit"
   ]
  },
  {
   "cell_type": "code",
   "execution_count": 131,
   "id": "74aa27bf-743b-41b8-8d37-58f869ee863c",
   "metadata": {},
   "outputs": [],
   "source": [
    "from qiskit import QuantumCircuit, Aer\n",
    "import numpy as np"
   ]
  },
  {
   "cell_type": "code",
   "execution_count": 50,
   "id": "81f14662-95cf-44e9-aa5f-7195d1084abf",
   "metadata": {},
   "outputs": [],
   "source": [
    "theta = [np.pi/4, np.pi/2, 3*np.pi/4, np.pi]"
   ]
  },
  {
   "cell_type": "code",
   "execution_count": 51,
   "id": "34f8acdc-33bd-49a3-a2b7-32b2bb61e728",
   "metadata": {},
   "outputs": [
    {
     "data": {
      "text/html": [
       "<pre style=\"word-wrap: normal;white-space: pre;background: #fff0;line-height: 1.1;font-family: &quot;Courier New&quot;,Courier,monospace\">     ┌───┐┌─────────┐┌──────────┐\n",
       "q_0: ┤ H ├┤ Ry(π/4) ├┤ Ry(3π/4) ├\n",
       "     ├───┤├─────────┤└┬───────┬─┘\n",
       "q_1: ┤ H ├┤ Rz(π/2) ├─┤ Rz(π) ├──\n",
       "     └───┘└─────────┘ └───────┘  </pre>"
      ],
      "text/plain": [
       "     ┌───┐┌─────────┐┌──────────┐\n",
       "q_0: ┤ H ├┤ Ry(π/4) ├┤ Ry(3π/4) ├\n",
       "     ├───┤├─────────┤└┬───────┬─┘\n",
       "q_1: ┤ H ├┤ Rz(π/2) ├─┤ Rz(π) ├──\n",
       "     └───┘└─────────┘ └───────┘  "
      ]
     },
     "execution_count": 51,
     "metadata": {},
     "output_type": "execute_result"
    }
   ],
   "source": [
    "qskt_circuit = QuantumCircuit(2)\n",
    "\n",
    "qskt_circuit.h([0, 1])\n",
    "qskt_circuit.ry(theta[0], 0)\n",
    "qskt_circuit.rz(theta[1], 1)\n",
    "qskt_circuit.ry(theta[2], 0)\n",
    "qskt_circuit.rz(theta[3], 1)\n",
    "\n",
    "qskt_circuit.draw()"
   ]
  },
  {
   "cell_type": "code",
   "execution_count": 119,
   "id": "fb1907e8-0a6c-4b61-8830-a7ab631b44d7",
   "metadata": {},
   "outputs": [],
   "source": [
    "# qskt_sim = Aer.get_backend('statevector_simulator')\n",
    "# qskt_sim_job = qskt_sim.run(qskt_circuit)\n",
    "# qskt_sim_result = qskt_sim_job.result()\n",
    "# qskt_sim_result.get_counts()"
   ]
  },
  {
   "cell_type": "markdown",
   "id": "1e0e187c-6b41-4691-84c7-eea34cbea295",
   "metadata": {},
   "source": [
    "#### Braket"
   ]
  },
  {
   "cell_type": "code",
   "execution_count": 54,
   "id": "54b667e9-c4b4-438e-898f-2816ddc74b3a",
   "metadata": {},
   "outputs": [],
   "source": [
    "from braket import circuits as bk_circuits\n",
    "from braket import devices as bk_devices"
   ]
  },
  {
   "cell_type": "code",
   "execution_count": 55,
   "id": "7c9087e8-e899-4126-b482-94df26db4ab8",
   "metadata": {},
   "outputs": [
    {
     "name": "stdout",
     "output_type": "stream",
     "text": [
      "T  : |0|    1    |   2    |\n",
      "                           \n",
      "q0 : -H-Ry(0.785)-Ry(2.36)-\n",
      "                           \n",
      "q1 : -H-Rz(1.57)--Rz(3.14)-\n",
      "\n",
      "T  : |0|    1    |   2    |\n"
     ]
    }
   ],
   "source": [
    "bk_circuit = bk_circuits.Circuit()\n",
    "\n",
    "theta = [np.pi/4, np.pi/2, 3*np.pi/4, np.pi]\n",
    "\n",
    "bk_circuit.h([0, 1])\n",
    "bk_circuit.ry(0, theta[0])\n",
    "bk_circuit.rz(1, theta[1])\n",
    "bk_circuit.ry(0, theta[2])\n",
    "bk_circuit.rz(1, theta[3])\n",
    "\n",
    "print(bk_circuit)"
   ]
  },
  {
   "cell_type": "code",
   "execution_count": 120,
   "id": "35a44eb2-ee2e-42ca-a4c4-4c9d82cb273f",
   "metadata": {},
   "outputs": [],
   "source": [
    "# bk_sim = bk_devices.LocalSimulator(backend=\"braket_sv\")\n",
    "# bk_sim_job = bk_sim.run(bk_circuit, shots=1024)\n",
    "# bk_sim_result = bk_sim_job.result()\n",
    "# bk_sim_result.measurement_counts"
   ]
  },
  {
   "cell_type": "markdown",
   "id": "5cebe287-964a-4846-ba92-69994713ddc0",
   "metadata": {},
   "source": [
    "## What devices are available to me?"
   ]
  },
  {
   "cell_type": "markdown",
   "id": "c99a29c9-79ec-4a32-9f95-e019003e6826",
   "metadata": {},
   "source": [
    "#### Qiskit"
   ]
  },
  {
   "cell_type": "code",
   "execution_count": 121,
   "id": "a9148b7e-82d4-4204-a4ba-dc91ded30a2d",
   "metadata": {},
   "outputs": [],
   "source": [
    "from qiskit import IBMQ"
   ]
  },
  {
   "cell_type": "code",
   "execution_count": 80,
   "id": "f8ba64ef-694e-4173-8929-3e3c401d7ce1",
   "metadata": {},
   "outputs": [],
   "source": [
    "# IBMQ.load_account()"
   ]
  },
  {
   "cell_type": "code",
   "execution_count": 122,
   "id": "e4e5d09f-ec77-4268-a50a-6d789e47b607",
   "metadata": {},
   "outputs": [
    {
     "name": "stdout",
     "output_type": "stream",
     "text": [
      "ibmq_qasm_simulator\n",
      "ibmq_armonk\n",
      "ibmq_santiago\n",
      "ibmq_bogota\n",
      "ibmq_lima\n",
      "ibmq_belem\n",
      "ibmq_quito\n",
      "simulator_statevector\n",
      "simulator_mps\n",
      "simulator_extended_stabilizer\n",
      "simulator_stabilizer\n",
      "ibmq_manila\n"
     ]
    }
   ],
   "source": [
    "qskt_backends = []\n",
    "provider = IBMQ.get_provider(hub='ibm-q', group='open', project='main')\n",
    "for backend in provider.backends():\n",
    "    print(backend)"
   ]
  },
  {
   "cell_type": "code",
   "execution_count": 123,
   "id": "eb62c5ec-55ab-49f2-ab7a-009f1be70746",
   "metadata": {},
   "outputs": [
    {
     "name": "stdout",
     "output_type": "stream",
     "text": [
      "aer_simulator\n",
      "aer_simulator_statevector\n",
      "aer_simulator_density_matrix\n",
      "aer_simulator_stabilizer\n",
      "aer_simulator_matrix_product_state\n",
      "aer_simulator_extended_stabilizer\n",
      "aer_simulator_unitary\n",
      "aer_simulator_superop\n",
      "qasm_simulator\n",
      "statevector_simulator\n",
      "unitary_simulator\n",
      "pulse_simulator\n"
     ]
    }
   ],
   "source": [
    "for backend in Aer.backends():\n",
    "    print(backend)"
   ]
  },
  {
   "cell_type": "markdown",
   "id": "979873ea-25e3-4311-b9c0-febdc180001c",
   "metadata": {},
   "source": [
    "#### Braket"
   ]
  },
  {
   "cell_type": "code",
   "execution_count": 124,
   "id": "ae09a7f8-5500-4812-b62c-78b7a78d83a7",
   "metadata": {},
   "outputs": [],
   "source": [
    "import boto3"
   ]
  },
  {
   "cell_type": "code",
   "execution_count": 125,
   "id": "5bf5a934-8628-4cb1-a7aa-8e76a72af46f",
   "metadata": {},
   "outputs": [],
   "source": [
    "client = boto3.client('braket')"
   ]
  },
  {
   "cell_type": "code",
   "execution_count": 126,
   "id": "558a8ab2-8f93-4758-95d6-f433c32227f0",
   "metadata": {},
   "outputs": [
    {
     "data": {
      "text/plain": [
       "{'ResponseMetadata': {'RequestId': 'bc021c0b-d7cb-4f06-bc56-732e328f149c',\n",
       "  'HTTPStatusCode': 200,\n",
       "  'HTTPHeaders': {'date': 'Fri, 28 Jan 2022 23:56:02 GMT',\n",
       "   'content-type': 'application/json',\n",
       "   'content-length': '25091',\n",
       "   'connection': 'keep-alive',\n",
       "   'x-amzn-requestid': 'bc021c0b-d7cb-4f06-bc56-732e328f149c',\n",
       "   'access-control-allow-origin': '*',\n",
       "   'strict-transport-security': 'max-age=63072000; includeSubDomains; preload',\n",
       "   'access-control-allow-headers': '*,authorization,date,x-amz-date,x-amz-security-token,x-amz-target,content-type,x-amz-content-sha256,x-amz-user-agent,x-amzn-platform-id,x-amzn-trace-id',\n",
       "   'x-amz-apigw-id': 'MrlW1FhZoAMFpLQ=',\n",
       "   'access-control-allow-methods': 'OPTIONS,GET,PUT,POST,DELETE',\n",
       "   'access-control-expose-headers': 'x-amzn-errortype,x-amzn-requestid,x-amzn-errormessage,x-amzn-trace-id,x-amz-apigw-id,date',\n",
       "   'x-amzn-trace-id': 'Root=1-61f48291-095a164b5e3145706bf85ada'},\n",
       "  'RetryAttempts': 0},\n",
       " 'devices': [{'deviceArn': 'arn:aws:braket:::device/qpu/ionq/ionQdevice',\n",
       "   'deviceName': 'IonQ Device',\n",
       "   'deviceStatus': 'ONLINE',\n",
       "   'deviceType': 'QPU',\n",
       "   'providerName': 'IonQ'},\n",
       "  {'deviceArn': 'arn:aws:braket:::device/quantum-simulator/amazon/tn1',\n",
       "   'deviceName': 'TN1',\n",
       "   'deviceStatus': 'ONLINE',\n",
       "   'deviceType': 'SIMULATOR',\n",
       "   'providerName': 'Amazon Braket'},\n",
       "  {'deviceArn': 'arn:aws:braket:::device/quantum-simulator/amazon/sv1',\n",
       "   'deviceName': 'SV1',\n",
       "   'deviceStatus': 'ONLINE',\n",
       "   'deviceType': 'SIMULATOR',\n",
       "   'providerName': 'Amazon Braket'},\n",
       "  {'deviceArn': 'arn:aws:braket:::device/quantum-simulator/amazon/dm1',\n",
       "   'deviceName': 'dm1',\n",
       "   'deviceStatus': 'ONLINE',\n",
       "   'deviceType': 'SIMULATOR',\n",
       "   'providerName': 'Amazon Braket'}]}"
      ]
     },
     "execution_count": 126,
     "metadata": {},
     "output_type": "execute_result"
    }
   ],
   "source": [
    "client.search_devices(filters=[])"
   ]
  },
  {
   "cell_type": "markdown",
   "id": "6d886023-f08f-4158-8147-63e97d5006a8",
   "metadata": {},
   "source": [
    "## qBraid-SDK"
   ]
  },
  {
   "cell_type": "code",
   "execution_count": 132,
   "id": "e50d92e6-7b01-40db-8e19-38e33c23233d",
   "metadata": {},
   "outputs": [],
   "source": [
    "from qbraid import get_devices"
   ]
  },
  {
   "cell_type": "code",
   "execution_count": 134,
   "id": "683f5b55-2a78-40af-a2c0-e605fd0dedc1",
   "metadata": {},
   "outputs": [
    {
     "data": {
      "text/html": [
       "<h3>Supported Devices</h3><table><tr>\n",
       "    <th style='text-align:left'>Provider</th>\n",
       "    <th style='text-align:left'>Name</th>\n",
       "    <th style='text-align:left'>qBraid ID</th>\n",
       "    <th style='text-align:left'>Status</th></tr>\n",
       "    <tr>\n",
       "        <td style='text-align:left'>AWS</td>\n",
       "        <td style='text-align:left'>Braket Default Simulator</td>\n",
       "        <td style='text-align:left'><code>aws_braket_default_sim</code></td>\n",
       "        <td><span style='color:green'>●</span></td></tr>\n",
       "        <tr>\n",
       "        <td style='text-align:left'>AWS</td>\n",
       "        <td style='text-align:left'>Density Matrix Simulator</td>\n",
       "        <td style='text-align:left'><code>aws_dm_sim</code></td>\n",
       "        <td><span style='color:green'>●</span></td></tr>\n",
       "        <tr>\n",
       "        <td style='text-align:left'>AWS</td>\n",
       "        <td style='text-align:left'>State Vector Simulator</td>\n",
       "        <td style='text-align:left'><code>aws_sv_sim</code></td>\n",
       "        <td><span style='color:green'>●</span></td></tr>\n",
       "        <tr>\n",
       "        <td style='text-align:left'>AWS</td>\n",
       "        <td style='text-align:left'>Tensor Network Simulator</td>\n",
       "        <td style='text-align:left'><code>aws_tn_sim</code></td>\n",
       "        <td><span style='color:green'>●</span></td></tr>\n",
       "        <tr>\n",
       "        <td style='text-align:left'>D-Wave</td>\n",
       "        <td style='text-align:left'>Advantage_system4</td>\n",
       "        <td style='text-align:left'><code>aws_dwave_advantage_system4</code></td>\n",
       "        <td><span style='color:green'>●</span></td></tr>\n",
       "        <tr>\n",
       "        <td style='text-align:left'>D-Wave</td>\n",
       "        <td style='text-align:left'>DW_2000Q_6</td>\n",
       "        <td style='text-align:left'><code>aws_dwave_2000Q_6</code></td>\n",
       "        <td><span style='color:green'>●</span></td></tr>\n",
       "        <tr>\n",
       "        <td style='text-align:left'>Google</td>\n",
       "        <td style='text-align:left'>Bristlecone</td>\n",
       "        <td style='text-align:left'><code>google_bristlecone</code></td>\n",
       "        <td><span style='color:red'>○</span></td></tr>\n",
       "        <tr>\n",
       "        <td style='text-align:left'>Google</td>\n",
       "        <td style='text-align:left'>Cirq Density Matrix Simulator</td>\n",
       "        <td style='text-align:left'><code>google_cirq_dm_sim</code></td>\n",
       "        <td><span style='color:green'>●</span></td></tr>\n",
       "        <tr>\n",
       "        <td style='text-align:left'>Google</td>\n",
       "        <td style='text-align:left'>Cirq Sparse Simulator</td>\n",
       "        <td style='text-align:left'><code>google_cirq_sparse_sim</code></td>\n",
       "        <td><span style='color:green'>●</span></td></tr>\n",
       "        <tr>\n",
       "        <td style='text-align:left'>Google</td>\n",
       "        <td style='text-align:left'>Foxtail</td>\n",
       "        <td style='text-align:left'><code>google_foxtail</code></td>\n",
       "        <td><span style='color:red'>○</span></td></tr>\n",
       "        <tr>\n",
       "        <td style='text-align:left'>Google</td>\n",
       "        <td style='text-align:left'>Sycamore</td>\n",
       "        <td style='text-align:left'><code>google_sycamore</code></td>\n",
       "        <td><span style='color:red'>○</span></td></tr>\n",
       "        <tr>\n",
       "        <td style='text-align:left'>Google</td>\n",
       "        <td style='text-align:left'>Sycamore23</td>\n",
       "        <td style='text-align:left'><code>google_sycamore23</code></td>\n",
       "        <td><span style='color:red'>○</span></td></tr>\n",
       "        <tr>\n",
       "        <td style='text-align:left'>IBM</td>\n",
       "        <td style='text-align:left'>Aer Default Simulator</td>\n",
       "        <td style='text-align:left'><code>ibm_aer_default_sim</code></td>\n",
       "        <td><span style='color:green'>●</span></td></tr>\n",
       "        <tr>\n",
       "        <td style='text-align:left'>IBM</td>\n",
       "        <td style='text-align:left'>Aer Pulse Simulator</td>\n",
       "        <td style='text-align:left'><code>ibm_aer_pulse_sim</code></td>\n",
       "        <td><span style='color:green'>●</span></td></tr>\n",
       "        <tr>\n",
       "        <td style='text-align:left'>IBM</td>\n",
       "        <td style='text-align:left'>Aer QASM Simulator</td>\n",
       "        <td style='text-align:left'><code>ibm_aer_qasm_sim</code></td>\n",
       "        <td><span style='color:green'>●</span></td></tr>\n",
       "        <tr>\n",
       "        <td style='text-align:left'>IBM</td>\n",
       "        <td style='text-align:left'>Aer State Vector Simulator</td>\n",
       "        <td style='text-align:left'><code>ibm_aer_sv_sim</code></td>\n",
       "        <td><span style='color:green'>●</span></td></tr>\n",
       "        <tr>\n",
       "        <td style='text-align:left'>IBM</td>\n",
       "        <td style='text-align:left'>Aer Unitary Simulator</td>\n",
       "        <td style='text-align:left'><code>ibm_aer_unitary_sim</code></td>\n",
       "        <td><span style='color:green'>●</span></td></tr>\n",
       "        <tr>\n",
       "        <td style='text-align:left'>IBM</td>\n",
       "        <td style='text-align:left'>BasicAer QASM Simulator</td>\n",
       "        <td style='text-align:left'><code>ibm_basicaer_qasm_sim</code></td>\n",
       "        <td><span style='color:green'>●</span></td></tr>\n",
       "        <tr>\n",
       "        <td style='text-align:left'>IBM</td>\n",
       "        <td style='text-align:left'>BasicAer State Vector Simulator</td>\n",
       "        <td style='text-align:left'><code>ibm_basicaer_sv_sim</code></td>\n",
       "        <td><span style='color:green'>●</span></td></tr>\n",
       "        <tr>\n",
       "        <td style='text-align:left'>IBM</td>\n",
       "        <td style='text-align:left'>BasicAer Unitary Simulator</td>\n",
       "        <td style='text-align:left'><code>ibm_basicaer_unitary_sim</code></td>\n",
       "        <td><span style='color:green'>●</span></td></tr>\n",
       "        <tr>\n",
       "        <td style='text-align:left'>IBM</td>\n",
       "        <td style='text-align:left'>IBMQ Armonk</td>\n",
       "        <td style='text-align:left'><code>ibm_q_armonk</code></td>\n",
       "        <td><span style='color:green'>●</span></td></tr>\n",
       "        <tr>\n",
       "        <td style='text-align:left'>IBM</td>\n",
       "        <td style='text-align:left'>IBMQ Belem</td>\n",
       "        <td style='text-align:left'><code>ibm_q_belem</code></td>\n",
       "        <td><span style='color:green'>●</span></td></tr>\n",
       "        <tr>\n",
       "        <td style='text-align:left'>IBM</td>\n",
       "        <td style='text-align:left'>IBMQ Bogota</td>\n",
       "        <td style='text-align:left'><code>ibm_q_bogota</code></td>\n",
       "        <td><span style='color:red'>○</span></td></tr>\n",
       "        <tr>\n",
       "        <td style='text-align:left'>IBM</td>\n",
       "        <td style='text-align:left'>IBMQ Extended Stabilizer Simulator</td>\n",
       "        <td style='text-align:left'><code>ibm_q_ext_stabilizer_sim</code></td>\n",
       "        <td><span style='color:green'>●</span></td></tr>\n",
       "        <tr>\n",
       "        <td style='text-align:left'>IBM</td>\n",
       "        <td style='text-align:left'>IBMQ Least-Busy QPU</td>\n",
       "        <td style='text-align:left'><code>ibm_q_least_busy_qpu</code></td>\n",
       "        <td><span style='color:green'>●</span></td></tr>\n",
       "        <tr>\n",
       "        <td style='text-align:left'>IBM</td>\n",
       "        <td style='text-align:left'>IBMQ Lima</td>\n",
       "        <td style='text-align:left'><code>ibm_q_lima</code></td>\n",
       "        <td><span style='color:green'>●</span></td></tr>\n",
       "        <tr>\n",
       "        <td style='text-align:left'>IBM</td>\n",
       "        <td style='text-align:left'>IBMQ Matrix Product State Simulator</td>\n",
       "        <td style='text-align:left'><code>ibm_q_mps_sim</code></td>\n",
       "        <td><span style='color:green'>●</span></td></tr>\n",
       "        <tr>\n",
       "        <td style='text-align:left'>IBM</td>\n",
       "        <td style='text-align:left'>IBMQ QASM Simulator</td>\n",
       "        <td style='text-align:left'><code>ibm_q_qasm_sim</code></td>\n",
       "        <td><span style='color:green'>●</span></td></tr>\n",
       "        <tr>\n",
       "        <td style='text-align:left'>IBM</td>\n",
       "        <td style='text-align:left'>IBMQ Quito</td>\n",
       "        <td style='text-align:left'><code>ibm_q_quito</code></td>\n",
       "        <td><span style='color:green'>●</span></td></tr>\n",
       "        <tr>\n",
       "        <td style='text-align:left'>IBM</td>\n",
       "        <td style='text-align:left'>IBMQ Santiago</td>\n",
       "        <td style='text-align:left'><code>ibm_q_manila</code></td>\n",
       "        <td><span style='color:green'>●</span></td></tr>\n",
       "        <tr>\n",
       "        <td style='text-align:left'>IBM</td>\n",
       "        <td style='text-align:left'>IBMQ Santiago</td>\n",
       "        <td style='text-align:left'><code>ibm_q_santiago</code></td>\n",
       "        <td><span style='color:red'>○</span></td></tr>\n",
       "        <tr>\n",
       "        <td style='text-align:left'>IBM</td>\n",
       "        <td style='text-align:left'>IBMQ Stabilizer Simulator</td>\n",
       "        <td style='text-align:left'><code>ibm_q_stabilizer_sim</code></td>\n",
       "        <td><span style='color:green'>●</span></td></tr>\n",
       "        <tr>\n",
       "        <td style='text-align:left'>IBM</td>\n",
       "        <td style='text-align:left'>IBMQ State Vector Simulator</td>\n",
       "        <td style='text-align:left'><code>ibm_q_sv_sim</code></td>\n",
       "        <td><span style='color:green'>●</span></td></tr>\n",
       "        <tr>\n",
       "        <td style='text-align:left'>IonQ</td>\n",
       "        <td style='text-align:left'>IonQ Device</td>\n",
       "        <td style='text-align:left'><code>aws_ionq</code></td>\n",
       "        <td><span style='color:green'>●</span></td></tr>\n",
       "        <tr>\n",
       "        <td style='text-align:left'>Rigetti</td>\n",
       "        <td style='text-align:left'>Aspen-11</td>\n",
       "        <td style='text-align:left'><code>aws_rigetti_aspen_11</code></td>\n",
       "        <td><span style='color:green'>●</span></td></tr>\n",
       "        </table>"
      ],
      "text/plain": [
       "<IPython.core.display.HTML object>"
      ]
     },
     "metadata": {},
     "output_type": "display_data"
    }
   ],
   "source": [
    "get_devices()"
   ]
  },
  {
   "cell_type": "code",
   "execution_count": 135,
   "id": "9130ff01-ed08-4288-947f-030e0517670a",
   "metadata": {},
   "outputs": [
    {
     "data": {
      "text/html": [
       "<h3>Supported Devices</h3><table><tr>\n",
       "    <th style='text-align:left'>Provider</th>\n",
       "    <th style='text-align:left'>Name</th>\n",
       "    <th style='text-align:left'>qBraid ID</th>\n",
       "    <th style='text-align:left'>Status</th></tr>\n",
       "    <tr>\n",
       "        <td style='text-align:left'>IBM</td>\n",
       "        <td style='text-align:left'>IBMQ Belem</td>\n",
       "        <td style='text-align:left'><code>ibm_q_belem</code></td>\n",
       "        <td><span style='color:green'>●</span></td></tr>\n",
       "        <tr>\n",
       "        <td style='text-align:left'>IBM</td>\n",
       "        <td style='text-align:left'>IBMQ Lima</td>\n",
       "        <td style='text-align:left'><code>ibm_q_lima</code></td>\n",
       "        <td><span style='color:green'>●</span></td></tr>\n",
       "        <tr>\n",
       "        <td style='text-align:left'>IBM</td>\n",
       "        <td style='text-align:left'>IBMQ Quito</td>\n",
       "        <td style='text-align:left'><code>ibm_q_quito</code></td>\n",
       "        <td><span style='color:green'>●</span></td></tr>\n",
       "        <tr>\n",
       "        <td style='text-align:left'>IBM</td>\n",
       "        <td style='text-align:left'>IBMQ Santiago</td>\n",
       "        <td style='text-align:left'><code>ibm_q_manila</code></td>\n",
       "        <td><span style='color:green'>●</span></td></tr>\n",
       "        <tr>\n",
       "        <td style='text-align:left'>IonQ</td>\n",
       "        <td style='text-align:left'>IonQ Device</td>\n",
       "        <td style='text-align:left'><code>aws_ionq</code></td>\n",
       "        <td><span style='color:green'>●</span></td></tr>\n",
       "        <tr>\n",
       "        <td style='text-align:left'>Rigetti</td>\n",
       "        <td style='text-align:left'>Aspen-11</td>\n",
       "        <td style='text-align:left'><code>aws_rigetti_aspen_11</code></td>\n",
       "        <td><span style='color:green'>●</span></td></tr>\n",
       "        </table>"
      ],
      "text/plain": [
       "<IPython.core.display.HTML object>"
      ]
     },
     "metadata": {},
     "output_type": "display_data"
    }
   ],
   "source": [
    "get_devices({\"paradigm\": \"gate-based\", \"type\": \"QPU\", \"qubits\": {\"$gte\": 5}, \"status\": \"ONLINE\"})"
   ]
  },
  {
   "cell_type": "code",
   "execution_count": 101,
   "id": "b54dc879-a315-4ea0-8d3f-209620103d2d",
   "metadata": {},
   "outputs": [],
   "source": [
    "bk_unitary = bk_circuits.unitary_calculation.calculate_unitary(bk_circuit.qubit_count, bk_circuit.instructions)"
   ]
  },
  {
   "cell_type": "code",
   "execution_count": 102,
   "id": "857eb84f-931c-4a53-9688-c72c5d75ea0f",
   "metadata": {},
   "outputs": [],
   "source": [
    "bk_sim_result = bk_dm.run(bk_circuit, shots=1024).result()"
   ]
  },
  {
   "cell_type": "code",
   "execution_count": 163,
   "id": "5e473a2a-ecbe-40c6-b2eb-072a336f6e2b",
   "metadata": {},
   "outputs": [
    {
     "data": {
      "text/plain": [
       "array([[0, 0],\n",
       "       [1, 0],\n",
       "       [0, 0],\n",
       "       ...,\n",
       "       [1, 1],\n",
       "       [1, 1],\n",
       "       [0, 1]])"
      ]
     },
     "execution_count": 163,
     "metadata": {},
     "output_type": "execute_result"
    }
   ],
   "source": [
    "bk_sim_result.measurements\n",
    "# bk_sim_result.measurement_counts\n",
    "# bk_sim_result.measurement_probabilities"
   ]
  },
  {
   "cell_type": "markdown",
   "id": "756c609d-cfb6-4b0d-81f9-254721be1c8e",
   "metadata": {},
   "source": [
    "#### Cirq"
   ]
  },
  {
   "cell_type": "code",
   "execution_count": 98,
   "id": "f89ba248-3107-402d-977b-c1383f1d1677",
   "metadata": {},
   "outputs": [],
   "source": [
    "import cirq"
   ]
  },
  {
   "cell_type": "code",
   "execution_count": 111,
   "id": "15a1fb13-097d-4902-8e8a-09d176987140",
   "metadata": {},
   "outputs": [],
   "source": [
    "cirq_sim = cirq.DensityMatrixSimulator()"
   ]
  },
  {
   "cell_type": "code",
   "execution_count": 142,
   "id": "995d706b-4183-4d18-986f-eded4bcefc67",
   "metadata": {},
   "outputs": [
    {
     "name": "stdout",
     "output_type": "stream",
     "text": [
      "0: ───H───Ry(0.25π)───Ry(0.75π)───M───\n",
      "\n",
      "1: ───H───Rz(0.5π)────Rz(π)───────M───\n"
     ]
    }
   ],
   "source": [
    "qs = cirq.LineQubit.range(2)\n",
    "# qs.reverse()\n",
    "\n",
    "cirq_circuit = cirq.Circuit(\n",
    "    cirq.H(q0),\n",
    "    cirq.H(q1),\n",
    "    cirq.ry(rads=theta[0])(qs[0]),\n",
    "    cirq.rz(rads=theta[1])(qs[1]),\n",
    "    cirq.ry(rads=theta[2])(qs[0]),\n",
    "    cirq.rz(rads=theta[3])(qs[1]),\n",
    "    cirq.measure(q0, key=str(qs[0].x)),\n",
    "    cirq.measure(q1, key=str(qs[1].x)),\n",
    ")\n",
    "\n",
    "print(cirq_circuit)"
   ]
  },
  {
   "cell_type": "code",
   "execution_count": 127,
   "id": "eb199276-2b61-4d16-8e44-8ca2e246fd5a",
   "metadata": {},
   "outputs": [],
   "source": [
    "cirq_unitary = cirq_circuit.unitary()"
   ]
  },
  {
   "cell_type": "code",
   "execution_count": 156,
   "id": "7ffd8974-eb30-4517-a183-fca19705cc6a",
   "metadata": {},
   "outputs": [],
   "source": [
    "cirq_sim_result = cirq_sim.run(cirq_circuit, repetitions=1024)"
   ]
  },
  {
   "cell_type": "code",
   "execution_count": 164,
   "id": "a0ada1e8-5318-4247-90a8-f9fd949fa930",
   "metadata": {},
   "outputs": [
    {
     "data": {
      "text/plain": [
       "{'0': array([[0],\n",
       "        [0],\n",
       "        [1],\n",
       "        ...,\n",
       "        [0],\n",
       "        [0],\n",
       "        [1]], dtype=int8),\n",
       " '1': array([[1],\n",
       "        [1],\n",
       "        [0],\n",
       "        ...,\n",
       "        [1],\n",
       "        [1],\n",
       "        [0]], dtype=int8)}"
      ]
     },
     "execution_count": 164,
     "metadata": {},
     "output_type": "execute_result"
    }
   ],
   "source": [
    "cirq_sim_result.measurements\n",
    "# cirq_sim_result.data\n",
    "# cirq_sim_result.histogram\n",
    "# cirq_sim_result.multi_measurement_histogram(keys=cirq_sim_result.measurements.keys())"
   ]
  },
  {
   "cell_type": "code",
   "execution_count": 129,
   "id": "2996defe-324b-4325-ad1c-f41cc6d921e8",
   "metadata": {},
   "outputs": [],
   "source": [
    "cirq_sim_meas = cirq_sim_result.measurements"
   ]
  },
  {
   "cell_type": "code",
   "execution_count": 130,
   "id": "c4d98503-b139-4e98-833e-4650c8f17e16",
   "metadata": {},
   "outputs": [
    {
     "name": "stdout",
     "output_type": "stream",
     "text": [
      "{'0': array([[0],\n",
      "       [1],\n",
      "       [1],\n",
      "       ...,\n",
      "       [0],\n",
      "       [0],\n",
      "       [0]], dtype=int8), '1': array([[1],\n",
      "       [0],\n",
      "       [1],\n",
      "       ...,\n",
      "       [0],\n",
      "       [1],\n",
      "       [0]], dtype=int8)}\n"
     ]
    }
   ],
   "source": [
    "print(cirq_sim_meas)"
   ]
  },
  {
   "cell_type": "code",
   "execution_count": 11,
   "id": "9d576704-054f-4970-9007-a3b5798be2c7",
   "metadata": {},
   "outputs": [],
   "source": [
    "from braket.circuits import Circuit as BkCircuit\n",
    "from braket.devices import LocalSimulator as BkSimulator\n",
    "from braket.aws import AwsDevice\n",
    "\n",
    "import numpy as np"
   ]
  },
  {
   "cell_type": "code",
   "execution_count": 44,
   "id": "d3adb556-6639-43fb-87de-b0a4a656f741",
   "metadata": {},
   "outputs": [],
   "source": [
    "aws_dm1 = AwsDevice(\"arn:aws:braket:::device/quantum-simulator/amazon/dm1\")"
   ]
  },
  {
   "cell_type": "code",
   "execution_count": 45,
   "id": "6724c062-e0be-40c4-b670-4364d277fb27",
   "metadata": {},
   "outputs": [],
   "source": [
    "# Please enter the S3 bucket you created during onboarding in the code below\n",
    "\n",
    "my_bucket = os.environ[\"s3_bucket\"]\n",
    "my_prefix = os.environ[\"s3_prefix\"]\n",
    "\n",
    "# my_bucket = \"amazon-braket-Your-Bucket-Name\" # the name of the bucket\n",
    "# my_prefix = \"Your-Folder-Name\" # the name of the folder in the bucket\n",
    "\n",
    "s3_folder = (my_bucket, my_prefix)"
   ]
  },
  {
   "cell_type": "code",
   "execution_count": 46,
   "id": "fd6b6ad7-c7c2-4573-84f5-729e70afe6e8",
   "metadata": {},
   "outputs": [],
   "source": [
    "aws_dm1_job = aws_dm_sim.run(bk_circuit, s3_folder, shots=1024)"
   ]
  },
  {
   "cell_type": "code",
   "execution_count": 47,
   "id": "bcb1680a-d27c-44e1-b8b3-6177005a93a4",
   "metadata": {},
   "outputs": [
    {
     "data": {
      "text/plain": [
       "'CREATED'"
      ]
     },
     "execution_count": 47,
     "metadata": {},
     "output_type": "execute_result"
    }
   ],
   "source": [
    "aws_dm1_job.metadata()[\"status\" ]"
   ]
  },
  {
   "cell_type": "code",
   "execution_count": 48,
   "id": "ac7713fb-a613-480c-8273-686643db38d3",
   "metadata": {},
   "outputs": [],
   "source": [
    "aws_dm1_result = job.result()"
   ]
  },
  {
   "cell_type": "code",
   "execution_count": 49,
   "id": "4af9b539-bbf3-4c42-96f1-5ef5dc30c315",
   "metadata": {},
   "outputs": [],
   "source": [
    "aws_dm1_counts = aws_dm1_result.measurement_counts"
   ]
  },
  {
   "cell_type": "code",
   "execution_count": 58,
   "id": "aa7e8047-cd10-4558-9f88-f6a7a84a3c5e",
   "metadata": {},
   "outputs": [
    {
     "name": "stdout",
     "output_type": "stream",
     "text": [
      "Counter({'1011': 138, '0011': 134, '1110': 128, '0110': 127, '1111': 127, '0111': 124, '1010': 124, '0010': 122})\n"
     ]
    }
   ],
   "source": [
    "print(aws_dm1_counts) # <class 'collections.Counter'>"
   ]
  },
  {
   "cell_type": "code",
   "execution_count": 24,
   "id": "b68d7f75-a8ff-4c52-a16d-0acf98ef6dcb",
   "metadata": {},
   "outputs": [],
   "source": [
    "import qbraid"
   ]
  },
  {
   "cell_type": "code",
   "execution_count": 26,
   "id": "de3619b6-b838-4bc8-a88b-7d6ab81e0a37",
   "metadata": {},
   "outputs": [],
   "source": [
    "aws_device = device_wrapper(\"aws_dm_sim\")"
   ]
  },
  {
   "cell_type": "code",
   "execution_count": 29,
   "id": "edbb59f4-b651-4e3b-9e97-e1ab8b18db5d",
   "metadata": {},
   "outputs": [
    {
     "data": {
      "text/plain": [
       "('amazon-braket-592242689881', 'simulator-output')"
      ]
     },
     "execution_count": 29,
     "metadata": {},
     "output_type": "execute_result"
    }
   ],
   "source": [
    "aws_device._s3_location"
   ]
  },
  {
   "cell_type": "code",
   "execution_count": 30,
   "id": "cc4807e8-59d6-4f5f-8961-12c56ff949b1",
   "metadata": {},
   "outputs": [],
   "source": [
    "import os\n",
    " = 'amazon-braket-592242689881'\n",
    " = 'simulator-output'"
   ]
  },
  {
   "cell_type": "code",
   "execution_count": null,
   "id": "331a496f",
   "metadata": {},
   "outputs": [],
   "source": [
    "from qbraid import (\n",
    "    get_devices, \n",
    "    refresh_devices, \n",
    "    random_circuit, \n",
    "    device_wrapper, \n",
    ")"
   ]
  },
  {
   "cell_type": "markdown",
   "id": "cb5fd782",
   "metadata": {},
   "source": [
    "Get a complete list of devices available through qBraid using the get_devices function"
   ]
  },
  {
   "cell_type": "code",
   "execution_count": null,
   "id": "46da3cb6",
   "metadata": {},
   "outputs": [],
   "source": [
    "get_devices()"
   ]
  },
  {
   "cell_type": "markdown",
   "id": "2ac5ee70",
   "metadata": {},
   "source": [
    "Filter your device search with many different advanced query options! \n",
    "\n",
    "For example, let's find all gate-based QPUs with at least 5 qubits that are online:"
   ]
  },
  {
   "cell_type": "code",
   "execution_count": null,
   "id": "d472ad75",
   "metadata": {},
   "outputs": [],
   "source": [
    "get_devices({\"paradigm\": \"gate-based\", \"type\": \"QPU\", \"qubits\": {\"$gte\": 5}, \"status\": \"ONLINE\"})"
   ]
  },
  {
   "cell_type": "markdown",
   "id": "052fd5f9",
   "metadata": {},
   "source": [
    "This time, let's search for state vector simulators available through AWS or IBM"
   ]
  },
  {
   "cell_type": "code",
   "execution_count": null,
   "id": "dca2b958",
   "metadata": {},
   "outputs": [],
   "source": [
    "get_devices({\"type\": \"Simulator\", \"name\": {\"$regex\": \"Density Matrix\"}, \"vendor\": {\"$in\": [\"AWS\", \"Google\"]}})"
   ]
  },
  {
   "cell_type": "markdown",
   "id": "d949ae2f",
   "metadata": {},
   "source": [
    "The qBraid SDK makes running quantum circuits on any device extremely easy. \n",
    "\n",
    "Simply copy the desired qBraid ID into the device wrapper function and your on your way"
   ]
  },
  {
   "cell_type": "code",
   "execution_count": null,
   "id": "c4e4d068",
   "metadata": {
    "scrolled": true
   },
   "outputs": [],
   "source": [
    "aws_device = device_wrapper(\"aws_dm_sim\")"
   ]
  },
  {
   "cell_type": "code",
   "execution_count": null,
   "id": "977e8aed",
   "metadata": {},
   "outputs": [],
   "source": [
    "google_device = device_wrapper(\"google_cirq_dm_sim\")"
   ]
  },
  {
   "cell_type": "code",
   "execution_count": null,
   "id": "e3ed253e",
   "metadata": {},
   "outputs": [],
   "source": [
    "ibm_device = device_wrapper(\"ibm_q_lima\") "
   ]
  },
  {
   "cell_type": "code",
   "execution_count": null,
   "id": "05e31f26",
   "metadata": {},
   "outputs": [],
   "source": [
    "ibm_device.info"
   ]
  },
  {
   "cell_type": "code",
   "execution_count": null,
   "id": "db7cbb75",
   "metadata": {},
   "outputs": [],
   "source": [
    "circuit = random_circuit(\"qiskit\", num_qubits=3, depth=5, measure=True)\n",
    "print(circuit)"
   ]
  },
  {
   "cell_type": "code",
   "execution_count": null,
   "id": "ee87fc5c",
   "metadata": {},
   "outputs": [],
   "source": [
    "shots=1000"
   ]
  },
  {
   "cell_type": "code",
   "execution_count": null,
   "id": "97c76456",
   "metadata": {},
   "outputs": [],
   "source": [
    "aws_job = aws_device.run(circuit, shots=shots)"
   ]
  },
  {
   "cell_type": "code",
   "execution_count": null,
   "id": "e438c305",
   "metadata": {},
   "outputs": [],
   "source": [
    "google_job = google_device.run(circuit, shots=shots)"
   ]
  },
  {
   "cell_type": "code",
   "execution_count": null,
   "id": "a2218f43",
   "metadata": {},
   "outputs": [],
   "source": [
    "ibm_job = ibm_device.run(circuit, shots=shots)"
   ]
  },
  {
   "cell_type": "code",
   "execution_count": null,
   "id": "6c68880b",
   "metadata": {},
   "outputs": [],
   "source": [
    "aws_job.id"
   ]
  },
  {
   "cell_type": "code",
   "execution_count": null,
   "id": "d64c1bf0",
   "metadata": {},
   "outputs": [],
   "source": [
    "# ibm_job.device.pending_jobs()\n",
    "ibm_job.status()"
   ]
  },
  {
   "cell_type": "code",
   "execution_count": null,
   "id": "7bc12a29",
   "metadata": {},
   "outputs": [],
   "source": [
    "ibm_result = ibm_job.result()"
   ]
  },
  {
   "cell_type": "code",
   "execution_count": null,
   "id": "620b6fad",
   "metadata": {},
   "outputs": [],
   "source": [
    "google_result = google_job.result()"
   ]
  },
  {
   "cell_type": "code",
   "execution_count": null,
   "id": "313f579e",
   "metadata": {},
   "outputs": [],
   "source": [
    "aws_result = aws_job.result()"
   ]
  },
  {
   "cell_type": "code",
   "execution_count": null,
   "id": "bb644983",
   "metadata": {},
   "outputs": [],
   "source": [
    "aws_result.measurement_counts()"
   ]
  },
  {
   "cell_type": "code",
   "execution_count": null,
   "id": "b015d8f1",
   "metadata": {},
   "outputs": [],
   "source": [
    "google_result.measurement_counts()"
   ]
  },
  {
   "cell_type": "code",
   "execution_count": null,
   "id": "b9263002",
   "metadata": {},
   "outputs": [],
   "source": [
    "ibm_result.measurement_counts()"
   ]
  },
  {
   "cell_type": "code",
   "execution_count": null,
   "id": "7bf141e6",
   "metadata": {},
   "outputs": [],
   "source": [
    "ibm_result.plot_counts()"
   ]
  },
  {
   "cell_type": "code",
   "execution_count": null,
   "id": "482dac72",
   "metadata": {},
   "outputs": [],
   "source": [
    "aws_result.plot_counts()"
   ]
  },
  {
   "cell_type": "code",
   "execution_count": null,
   "id": "e65d5c93",
   "metadata": {},
   "outputs": [],
   "source": [
    "google_result.plot_counts()"
   ]
  },
  {
   "cell_type": "code",
   "execution_count": null,
   "id": "80082fe7",
   "metadata": {},
   "outputs": [],
   "source": []
  }
 ],
 "metadata": {
  "kernelspec": {
   "display_name": "Python 3 [qBraid-SDK]",
   "language": "python",
   "name": "python3_qbraid_sdk_9j9sjy"
  },
  "language_info": {
   "codemirror_mode": {
    "name": "ipython",
    "version": 3
   },
   "file_extension": ".py",
   "mimetype": "text/x-python",
   "name": "python",
   "nbconvert_exporter": "python",
   "pygments_lexer": "ipython3",
   "version": "3.9.7"
  }
 },
 "nbformat": 4,
 "nbformat_minor": 5
}
