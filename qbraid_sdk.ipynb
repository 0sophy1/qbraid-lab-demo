{
 "cells": [
  {
   "cell_type": "markdown",
   "id": "1e0e187c-6b41-4691-84c7-eea34cbea295",
   "metadata": {},
   "source": [
    "#### Braket"
   ]
  },
  {
   "cell_type": "code",
   "execution_count": null,
   "id": "54b667e9-c4b4-438e-898f-2816ddc74b3a",
   "metadata": {},
   "outputs": [],
   "source": [
    "from braket import circuits as bk_circuits\n",
    "from braket import devices as bk_devices"
   ]
  },
  {
   "cell_type": "code",
   "execution_count": null,
   "id": "7c9087e8-e899-4126-b482-94df26db4ab8",
   "metadata": {},
   "outputs": [],
   "source": [
    "bk_circuit = bk_circuits.Circuit()\n",
    "\n",
    "theta = [np.pi/4, np.pi/2, 3*np.pi/4, np.pi]\n",
    "\n",
    "bk_circuit.h([0, 1])\n",
    "bk_circuit.ry(0, theta[0])\n",
    "bk_circuit.rz(1, theta[1])\n",
    "bk_circuit.ry(0, theta[2])\n",
    "bk_circuit.rz(1, theta[3])\n",
    "\n",
    "print(bk_circuit)"
   ]
  },
  {
   "cell_type": "code",
   "execution_count": null,
   "id": "35a44eb2-ee2e-42ca-a4c4-4c9d82cb273f",
   "metadata": {},
   "outputs": [],
   "source": [
    "# bk_sim = bk_devices.LocalSimulator(backend=\"braket_sv\")\n",
    "# bk_sim_job = bk_sim.run(bk_circuit, shots=1024)\n",
    "# bk_sim_result = bk_sim_job.result()\n",
    "# bk_sim_result.measurement_counts"
   ]
  },
  {
   "cell_type": "markdown",
   "id": "48c31cc3-1c30-4f4d-80c8-72909ed44628",
   "metadata": {},
   "source": [
    "# qBraid-SDK"
   ]
  },
  {
   "cell_type": "markdown",
   "id": "5cebe287-964a-4846-ba92-69994713ddc0",
   "metadata": {},
   "source": [
    "### Search for find all quantum devices available through Qiskit, Cirq, and Braket"
   ]
  },
  {
   "cell_type": "markdown",
   "id": "3200ef8b-7223-4e99-8339-dfd0c10a3a52",
   "metadata": {},
   "source": [
    "There's no such function in Qiskit or Cirq, only tedious work-arounds that require you to look into the docs anyways. For Braket, it requires making an authenticated API request through Boto3, and only includes credentialed devices in the response."
   ]
  },
  {
   "cell_type": "markdown",
   "id": "bc6f0a6c-c6ab-439f-ab82-3f11a74d8eaf",
   "metadata": {},
   "source": [
    "The qBraid-SDK lists all available QPU's and simulators available through Qiskit, Cirq, and Braket, all in one place."
   ]
  },
  {
   "cell_type": "code",
   "execution_count": 1,
   "id": "e50d92e6-7b01-40db-8e19-38e33c23233d",
   "metadata": {},
   "outputs": [],
   "source": [
    "from qbraid import get_devices, device_wrapper"
   ]
  },
  {
   "cell_type": "code",
   "execution_count": 2,
   "id": "683f5b55-2a78-40af-a2c0-e605fd0dedc1",
   "metadata": {},
   "outputs": [
    {
     "data": {
      "text/html": [
       "<h3>Supported Devices</h3><table><tr>\n",
       "    <th style='text-align:left'>Provider</th>\n",
       "    <th style='text-align:left'>Name</th>\n",
       "    <th style='text-align:left'>qBraid ID</th>\n",
       "    <th style='text-align:left'>Status</th></tr>\n",
       "    <tr>\n",
       "        <td style='text-align:left'>AWS</td>\n",
       "        <td style='text-align:left'>Braket Default Simulator</td>\n",
       "        <td style='text-align:left'><code>aws_braket_default_sim</code></td>\n",
       "        <td><span style='color:green'>●</span></td></tr>\n",
       "        <tr>\n",
       "        <td style='text-align:left'>AWS</td>\n",
       "        <td style='text-align:left'>Density Matrix Simulator</td>\n",
       "        <td style='text-align:left'><code>aws_dm_sim</code></td>\n",
       "        <td><span style='color:green'>●</span></td></tr>\n",
       "        <tr>\n",
       "        <td style='text-align:left'>AWS</td>\n",
       "        <td style='text-align:left'>State Vector Simulator</td>\n",
       "        <td style='text-align:left'><code>aws_sv_sim</code></td>\n",
       "        <td><span style='color:green'>●</span></td></tr>\n",
       "        <tr>\n",
       "        <td style='text-align:left'>AWS</td>\n",
       "        <td style='text-align:left'>Tensor Network Simulator</td>\n",
       "        <td style='text-align:left'><code>aws_tn_sim</code></td>\n",
       "        <td><span style='color:green'>●</span></td></tr>\n",
       "        <tr>\n",
       "        <td style='text-align:left'>D-Wave</td>\n",
       "        <td style='text-align:left'>Advantage_system4</td>\n",
       "        <td style='text-align:left'><code>aws_dwave_advantage_system4</code></td>\n",
       "        <td><span style='color:green'>●</span></td></tr>\n",
       "        <tr>\n",
       "        <td style='text-align:left'>D-Wave</td>\n",
       "        <td style='text-align:left'>DW_2000Q_6</td>\n",
       "        <td style='text-align:left'><code>aws_dwave_2000Q_6</code></td>\n",
       "        <td><span style='color:green'>●</span></td></tr>\n",
       "        <tr>\n",
       "        <td style='text-align:left'>Google</td>\n",
       "        <td style='text-align:left'>Bristlecone</td>\n",
       "        <td style='text-align:left'><code>google_bristlecone</code></td>\n",
       "        <td><span style='color:red'>○</span></td></tr>\n",
       "        <tr>\n",
       "        <td style='text-align:left'>Google</td>\n",
       "        <td style='text-align:left'>Cirq Density Matrix Simulator</td>\n",
       "        <td style='text-align:left'><code>google_cirq_dm_sim</code></td>\n",
       "        <td><span style='color:green'>●</span></td></tr>\n",
       "        <tr>\n",
       "        <td style='text-align:left'>Google</td>\n",
       "        <td style='text-align:left'>Cirq Sparse Simulator</td>\n",
       "        <td style='text-align:left'><code>google_cirq_sparse_sim</code></td>\n",
       "        <td><span style='color:green'>●</span></td></tr>\n",
       "        <tr>\n",
       "        <td style='text-align:left'>Google</td>\n",
       "        <td style='text-align:left'>Foxtail</td>\n",
       "        <td style='text-align:left'><code>google_foxtail</code></td>\n",
       "        <td><span style='color:red'>○</span></td></tr>\n",
       "        <tr>\n",
       "        <td style='text-align:left'>Google</td>\n",
       "        <td style='text-align:left'>Sycamore</td>\n",
       "        <td style='text-align:left'><code>google_sycamore</code></td>\n",
       "        <td><span style='color:red'>○</span></td></tr>\n",
       "        <tr>\n",
       "        <td style='text-align:left'>Google</td>\n",
       "        <td style='text-align:left'>Sycamore23</td>\n",
       "        <td style='text-align:left'><code>google_sycamore23</code></td>\n",
       "        <td><span style='color:red'>○</span></td></tr>\n",
       "        <tr>\n",
       "        <td style='text-align:left'>IBM</td>\n",
       "        <td style='text-align:left'>Aer Default Simulator</td>\n",
       "        <td style='text-align:left'><code>ibm_aer_default_sim</code></td>\n",
       "        <td><span style='color:green'>●</span></td></tr>\n",
       "        <tr>\n",
       "        <td style='text-align:left'>IBM</td>\n",
       "        <td style='text-align:left'>Aer Pulse Simulator</td>\n",
       "        <td style='text-align:left'><code>ibm_aer_pulse_sim</code></td>\n",
       "        <td><span style='color:green'>●</span></td></tr>\n",
       "        <tr>\n",
       "        <td style='text-align:left'>IBM</td>\n",
       "        <td style='text-align:left'>Aer QASM Simulator</td>\n",
       "        <td style='text-align:left'><code>ibm_aer_qasm_sim</code></td>\n",
       "        <td><span style='color:green'>●</span></td></tr>\n",
       "        <tr>\n",
       "        <td style='text-align:left'>IBM</td>\n",
       "        <td style='text-align:left'>Aer State Vector Simulator</td>\n",
       "        <td style='text-align:left'><code>ibm_aer_sv_sim</code></td>\n",
       "        <td><span style='color:green'>●</span></td></tr>\n",
       "        <tr>\n",
       "        <td style='text-align:left'>IBM</td>\n",
       "        <td style='text-align:left'>Aer Unitary Simulator</td>\n",
       "        <td style='text-align:left'><code>ibm_aer_unitary_sim</code></td>\n",
       "        <td><span style='color:green'>●</span></td></tr>\n",
       "        <tr>\n",
       "        <td style='text-align:left'>IBM</td>\n",
       "        <td style='text-align:left'>BasicAer QASM Simulator</td>\n",
       "        <td style='text-align:left'><code>ibm_basicaer_qasm_sim</code></td>\n",
       "        <td><span style='color:green'>●</span></td></tr>\n",
       "        <tr>\n",
       "        <td style='text-align:left'>IBM</td>\n",
       "        <td style='text-align:left'>BasicAer State Vector Simulator</td>\n",
       "        <td style='text-align:left'><code>ibm_basicaer_sv_sim</code></td>\n",
       "        <td><span style='color:green'>●</span></td></tr>\n",
       "        <tr>\n",
       "        <td style='text-align:left'>IBM</td>\n",
       "        <td style='text-align:left'>BasicAer Unitary Simulator</td>\n",
       "        <td style='text-align:left'><code>ibm_basicaer_unitary_sim</code></td>\n",
       "        <td><span style='color:green'>●</span></td></tr>\n",
       "        <tr>\n",
       "        <td style='text-align:left'>IBM</td>\n",
       "        <td style='text-align:left'>IBMQ Armonk</td>\n",
       "        <td style='text-align:left'><code>ibm_q_armonk</code></td>\n",
       "        <td><span style='color:green'>●</span></td></tr>\n",
       "        <tr>\n",
       "        <td style='text-align:left'>IBM</td>\n",
       "        <td style='text-align:left'>IBMQ Belem</td>\n",
       "        <td style='text-align:left'><code>ibm_q_belem</code></td>\n",
       "        <td><span style='color:green'>●</span></td></tr>\n",
       "        <tr>\n",
       "        <td style='text-align:left'>IBM</td>\n",
       "        <td style='text-align:left'>IBMQ Bogota</td>\n",
       "        <td style='text-align:left'><code>ibm_q_bogota</code></td>\n",
       "        <td><span style='color:red'>○</span></td></tr>\n",
       "        <tr>\n",
       "        <td style='text-align:left'>IBM</td>\n",
       "        <td style='text-align:left'>IBMQ Extended Stabilizer Simulator</td>\n",
       "        <td style='text-align:left'><code>ibm_q_ext_stabilizer_sim</code></td>\n",
       "        <td><span style='color:green'>●</span></td></tr>\n",
       "        <tr>\n",
       "        <td style='text-align:left'>IBM</td>\n",
       "        <td style='text-align:left'>IBMQ Least-Busy QPU</td>\n",
       "        <td style='text-align:left'><code>ibm_q_least_busy_qpu</code></td>\n",
       "        <td><span style='color:green'>●</span></td></tr>\n",
       "        <tr>\n",
       "        <td style='text-align:left'>IBM</td>\n",
       "        <td style='text-align:left'>IBMQ Lima</td>\n",
       "        <td style='text-align:left'><code>ibm_q_lima</code></td>\n",
       "        <td><span style='color:green'>●</span></td></tr>\n",
       "        <tr>\n",
       "        <td style='text-align:left'>IBM</td>\n",
       "        <td style='text-align:left'>IBMQ Matrix Product State Simulator</td>\n",
       "        <td style='text-align:left'><code>ibm_q_mps_sim</code></td>\n",
       "        <td><span style='color:green'>●</span></td></tr>\n",
       "        <tr>\n",
       "        <td style='text-align:left'>IBM</td>\n",
       "        <td style='text-align:left'>IBMQ QASM Simulator</td>\n",
       "        <td style='text-align:left'><code>ibm_q_qasm_sim</code></td>\n",
       "        <td><span style='color:green'>●</span></td></tr>\n",
       "        <tr>\n",
       "        <td style='text-align:left'>IBM</td>\n",
       "        <td style='text-align:left'>IBMQ Quito</td>\n",
       "        <td style='text-align:left'><code>ibm_q_quito</code></td>\n",
       "        <td><span style='color:green'>●</span></td></tr>\n",
       "        <tr>\n",
       "        <td style='text-align:left'>IBM</td>\n",
       "        <td style='text-align:left'>IBMQ Santiago</td>\n",
       "        <td style='text-align:left'><code>ibm_q_manila</code></td>\n",
       "        <td><span style='color:green'>●</span></td></tr>\n",
       "        <tr>\n",
       "        <td style='text-align:left'>IBM</td>\n",
       "        <td style='text-align:left'>IBMQ Santiago</td>\n",
       "        <td style='text-align:left'><code>ibm_q_santiago</code></td>\n",
       "        <td><span style='color:red'>○</span></td></tr>\n",
       "        <tr>\n",
       "        <td style='text-align:left'>IBM</td>\n",
       "        <td style='text-align:left'>IBMQ Stabilizer Simulator</td>\n",
       "        <td style='text-align:left'><code>ibm_q_stabilizer_sim</code></td>\n",
       "        <td><span style='color:green'>●</span></td></tr>\n",
       "        <tr>\n",
       "        <td style='text-align:left'>IBM</td>\n",
       "        <td style='text-align:left'>IBMQ State Vector Simulator</td>\n",
       "        <td style='text-align:left'><code>ibm_q_sv_sim</code></td>\n",
       "        <td><span style='color:green'>●</span></td></tr>\n",
       "        <tr>\n",
       "        <td style='text-align:left'>IonQ</td>\n",
       "        <td style='text-align:left'>IonQ Device</td>\n",
       "        <td style='text-align:left'><code>aws_ionq</code></td>\n",
       "        <td><span style='color:green'>●</span></td></tr>\n",
       "        <tr>\n",
       "        <td style='text-align:left'>Rigetti</td>\n",
       "        <td style='text-align:left'>Aspen-11</td>\n",
       "        <td style='text-align:left'><code>aws_rigetti_aspen_11</code></td>\n",
       "        <td><span style='color:green'>●</span></td></tr>\n",
       "        </table>"
      ],
      "text/plain": [
       "<IPython.core.display.HTML object>"
      ]
     },
     "metadata": {},
     "output_type": "display_data"
    }
   ],
   "source": [
    "get_devices()"
   ]
  },
  {
   "cell_type": "markdown",
   "id": "53f506ce-0c62-482b-bf06-db1846199f08",
   "metadata": {},
   "source": [
    "Filter your device search with many different advanced query options! \n",
    "\n",
    "For example, let's find simulators containing keyword \"State\" available through AWS or IBM:"
   ]
  },
  {
   "cell_type": "code",
   "execution_count": 4,
   "id": "e21fcabc-bed5-4038-a03b-b734540b11e9",
   "metadata": {},
   "outputs": [
    {
     "data": {
      "text/html": [
       "<h3>Supported Devices</h3><table><tr>\n",
       "    <th style='text-align:left'>Provider</th>\n",
       "    <th style='text-align:left'>Name</th>\n",
       "    <th style='text-align:left'>qBraid ID</th>\n",
       "    <th style='text-align:left'>Status</th></tr>\n",
       "    <tr>\n",
       "        <td style='text-align:left'>AWS</td>\n",
       "        <td style='text-align:left'>State Vector Simulator</td>\n",
       "        <td style='text-align:left'><code>aws_sv_sim</code></td>\n",
       "        <td><span style='color:green'>●</span></td></tr>\n",
       "        <tr>\n",
       "        <td style='text-align:left'>IBM</td>\n",
       "        <td style='text-align:left'>Aer State Vector Simulator</td>\n",
       "        <td style='text-align:left'><code>ibm_aer_sv_sim</code></td>\n",
       "        <td><span style='color:green'>●</span></td></tr>\n",
       "        <tr>\n",
       "        <td style='text-align:left'>IBM</td>\n",
       "        <td style='text-align:left'>BasicAer State Vector Simulator</td>\n",
       "        <td style='text-align:left'><code>ibm_basicaer_sv_sim</code></td>\n",
       "        <td><span style='color:green'>●</span></td></tr>\n",
       "        <tr>\n",
       "        <td style='text-align:left'>IBM</td>\n",
       "        <td style='text-align:left'>IBMQ Matrix Product State Simulator</td>\n",
       "        <td style='text-align:left'><code>ibm_q_mps_sim</code></td>\n",
       "        <td><span style='color:green'>●</span></td></tr>\n",
       "        <tr>\n",
       "        <td style='text-align:left'>IBM</td>\n",
       "        <td style='text-align:left'>IBMQ State Vector Simulator</td>\n",
       "        <td style='text-align:left'><code>ibm_q_sv_sim</code></td>\n",
       "        <td><span style='color:green'>●</span></td></tr>\n",
       "        </table>"
      ],
      "text/plain": [
       "<IPython.core.display.HTML object>"
      ]
     },
     "metadata": {},
     "output_type": "display_data"
    }
   ],
   "source": [
    "get_devices({\"type\": \"Simulator\", \"name\": {\"$regex\": \"State\"}, \"vendor\": {\"$in\": [\"AWS\", \"IBM\"]}})"
   ]
  },
  {
   "cell_type": "markdown",
   "id": "8c8738cc-91f5-48b2-82c0-d3457099b0b7",
   "metadata": {},
   "source": [
    "This time, let's search for all gate-based QPUs with at least 5 qubits that are online"
   ]
  },
  {
   "cell_type": "code",
   "execution_count": 5,
   "id": "45037c99-0c6d-4241-94c8-b941a14365ea",
   "metadata": {},
   "outputs": [
    {
     "data": {
      "text/html": [
       "<h3>Supported Devices</h3><table><tr>\n",
       "    <th style='text-align:left'>Provider</th>\n",
       "    <th style='text-align:left'>Name</th>\n",
       "    <th style='text-align:left'>qBraid ID</th>\n",
       "    <th style='text-align:left'>Status</th></tr>\n",
       "    <tr>\n",
       "        <td style='text-align:left'>IBM</td>\n",
       "        <td style='text-align:left'>IBMQ Belem</td>\n",
       "        <td style='text-align:left'><code>ibm_q_belem</code></td>\n",
       "        <td><span style='color:green'>●</span></td></tr>\n",
       "        <tr>\n",
       "        <td style='text-align:left'>IBM</td>\n",
       "        <td style='text-align:left'>IBMQ Lima</td>\n",
       "        <td style='text-align:left'><code>ibm_q_lima</code></td>\n",
       "        <td><span style='color:green'>●</span></td></tr>\n",
       "        <tr>\n",
       "        <td style='text-align:left'>IBM</td>\n",
       "        <td style='text-align:left'>IBMQ Quito</td>\n",
       "        <td style='text-align:left'><code>ibm_q_quito</code></td>\n",
       "        <td><span style='color:green'>●</span></td></tr>\n",
       "        <tr>\n",
       "        <td style='text-align:left'>IBM</td>\n",
       "        <td style='text-align:left'>IBMQ Santiago</td>\n",
       "        <td style='text-align:left'><code>ibm_q_manila</code></td>\n",
       "        <td><span style='color:green'>●</span></td></tr>\n",
       "        <tr>\n",
       "        <td style='text-align:left'>IonQ</td>\n",
       "        <td style='text-align:left'>IonQ Device</td>\n",
       "        <td style='text-align:left'><code>aws_ionq</code></td>\n",
       "        <td><span style='color:green'>●</span></td></tr>\n",
       "        <tr>\n",
       "        <td style='text-align:left'>Rigetti</td>\n",
       "        <td style='text-align:left'>Aspen-11</td>\n",
       "        <td style='text-align:left'><code>aws_rigetti_aspen_11</code></td>\n",
       "        <td><span style='color:green'>●</span></td></tr>\n",
       "        </table>"
      ],
      "text/plain": [
       "<IPython.core.display.HTML object>"
      ]
     },
     "metadata": {},
     "output_type": "display_data"
    }
   ],
   "source": [
    "get_devices({\"paradigm\": \"gate-based\", \"type\": \"QPU\", \"qubits\": {\"$gte\": 5}, \"status\": \"ONLINE\"})"
   ]
  },
  {
   "cell_type": "markdown",
   "id": "9138f484-18a4-40cc-90e5-bbe51bb32fc3",
   "metadata": {},
   "source": [
    "Not sure how to construct your query? "
   ]
  },
  {
   "cell_type": "code",
   "execution_count": 7,
   "id": "9cd8f6f9-a878-4e5b-895e-cebe54c18f46",
   "metadata": {},
   "outputs": [
    {
     "name": "stdout",
     "output_type": "stream",
     "text": [
      "Help on function get_devices in module qbraid.devices._utils.device_api:\n",
      "\n",
      "get_devices(query=None)\n",
      "    Displays a list of all supported devices matching given filters, tabulated by provider,\n",
      "    name, and qBraid ID. Each device also has a status given by a solid green bubble or a hollow\n",
      "    red bubble, indicating that the device is online or offline, respectively. You can narrow your\n",
      "    device search by supplying a dictionary containing the desired criteria. Available filters\n",
      "    include:\n",
      "    \n",
      "    * name (str)\n",
      "    * vendor (str): AWS | IBM | Google\n",
      "    * provider (str): AWS | IBM | Google | D-Wave | IonQ | Rigetti\n",
      "    * type (str): QPU | Simulator\n",
      "    * qubits (int)\n",
      "    * paradigm (str): gate-based | quantum-annealer\n",
      "    * requires_cred (bool): true | false\n",
      "    * status (str): ONLINE | OFFLINE\n",
      "    \n",
      "    Here are a few example use cases:\n",
      "    \n",
      "    .. code-block:: python\n",
      "    \n",
      "        from qbraid import get_devices\n",
      "    \n",
      "        # Search for gate-based devices provided by Google that are online/available\n",
      "        get_devices({\"paradigm\": \"gate-based\", \"provider\": \"Google\", \"status\": \"ONLINE\"})\n",
      "    \n",
      "        # Search for QPUs with at least 5 qubits that are available through AWS or IBM\n",
      "        get_devices({\"type\": \"QPU\", \"qubits\": {\"$gte\": 5}, \"vendor\": {\"$in\": [\"AWS\", \"IBM\"]}})\n",
      "    \n",
      "        # Search for open-access simulators that have \"Unitary\" contained in their name\n",
      "        get_devices({\"type\": \"Simulator\", \"name\": {\"$regex\": \"Unitary\"}, \"requires_cred\": False})\n",
      "    \n",
      "    For a complete list of search operators, see `Query Selectors`__. To refresh the device status\n",
      "    column, call :func:`~qbraid.refresh_devices`, and then re-run :func:`~qbraid.get_devices`.\n",
      "    The bottom-right corner of the ``get_devices`` table indicates time since the last status\n",
      "    refresh. Device status is auto-refreshed every hour.\n",
      "    \n",
      "    .. __: https://docs.mongodb.com/manual/reference/operator/query/#query-selectors\n",
      "    \n",
      "    Args:\n",
      "        query (optional, dict): a dictionary containing any filters to be applied.\n",
      "\n"
     ]
    }
   ],
   "source": [
    "help(get_devices)"
   ]
  },
  {
   "cell_type": "markdown",
   "id": "d4742d46-0181-4e51-ac4c-44f519b0958b",
   "metadata": {},
   "source": [
    "Recently added the ability to search by preferred software package, for instance"
   ]
  },
  {
   "cell_type": "code",
   "execution_count": 16,
   "id": "6b8bc16d-aa43-4011-b109-c0d45307d660",
   "metadata": {},
   "outputs": [
    {
     "data": {
      "text/html": [
       "<h3>Supported Devices</h3><table><tr>\n",
       "    <th style='text-align:left'>Provider</th>\n",
       "    <th style='text-align:left'>Name</th>\n",
       "    <th style='text-align:left'>qBraid ID</th>\n",
       "    <th style='text-align:left'>Status</th></tr>\n",
       "    <tr>\n",
       "        <td style='text-align:left'>IBM</td>\n",
       "        <td style='text-align:left'>Aer Default Simulator</td>\n",
       "        <td style='text-align:left'><code>ibm_aer_default_sim</code></td>\n",
       "        <td><span style='color:green'>●</span></td></tr>\n",
       "        <tr>\n",
       "        <td style='text-align:left'>IBM</td>\n",
       "        <td style='text-align:left'>Aer Pulse Simulator</td>\n",
       "        <td style='text-align:left'><code>ibm_aer_pulse_sim</code></td>\n",
       "        <td><span style='color:green'>●</span></td></tr>\n",
       "        <tr>\n",
       "        <td style='text-align:left'>IBM</td>\n",
       "        <td style='text-align:left'>Aer QASM Simulator</td>\n",
       "        <td style='text-align:left'><code>ibm_aer_qasm_sim</code></td>\n",
       "        <td><span style='color:green'>●</span></td></tr>\n",
       "        <tr>\n",
       "        <td style='text-align:left'>IBM</td>\n",
       "        <td style='text-align:left'>Aer State Vector Simulator</td>\n",
       "        <td style='text-align:left'><code>ibm_aer_sv_sim</code></td>\n",
       "        <td><span style='color:green'>●</span></td></tr>\n",
       "        <tr>\n",
       "        <td style='text-align:left'>IBM</td>\n",
       "        <td style='text-align:left'>Aer Unitary Simulator</td>\n",
       "        <td style='text-align:left'><code>ibm_aer_unitary_sim</code></td>\n",
       "        <td><span style='color:green'>●</span></td></tr>\n",
       "        <tr>\n",
       "        <td style='text-align:left'>IBM</td>\n",
       "        <td style='text-align:left'>BasicAer QASM Simulator</td>\n",
       "        <td style='text-align:left'><code>ibm_basicaer_qasm_sim</code></td>\n",
       "        <td><span style='color:green'>●</span></td></tr>\n",
       "        <tr>\n",
       "        <td style='text-align:left'>IBM</td>\n",
       "        <td style='text-align:left'>BasicAer State Vector Simulator</td>\n",
       "        <td style='text-align:left'><code>ibm_basicaer_sv_sim</code></td>\n",
       "        <td><span style='color:green'>●</span></td></tr>\n",
       "        <tr>\n",
       "        <td style='text-align:left'>IBM</td>\n",
       "        <td style='text-align:left'>BasicAer Unitary Simulator</td>\n",
       "        <td style='text-align:left'><code>ibm_basicaer_unitary_sim</code></td>\n",
       "        <td><span style='color:green'>●</span></td></tr>\n",
       "        </table>"
      ],
      "text/plain": [
       "<IPython.core.display.HTML object>"
      ]
     },
     "metadata": {},
     "output_type": "display_data"
    }
   ],
   "source": [
    "get_devices({\"run_package\": \"qiskit\", \"requires_cred\": \"false\"})"
   ]
  },
  {
   "cell_type": "markdown",
   "id": "4f9f246f-32a8-40ae-b962-48390ea80efc",
   "metadata": {},
   "source": [
    "### Apply the qbraid device wrapper and run your circuit"
   ]
  },
  {
   "cell_type": "markdown",
   "id": "73978ad9-ab16-4195-a4ef-210002714144",
   "metadata": {},
   "source": [
    "The qbraid device wrapper has an array of useful features. Quickly collect information about the device, or extract the wrapped device object"
   ]
  },
  {
   "cell_type": "code",
   "execution_count": 44,
   "id": "5e9f68fd-162a-45a9-80d6-47716504f9bf",
   "metadata": {},
   "outputs": [
    {
     "data": {
      "text/plain": [
       "{'qbraid_id': 'ibm_aer_qasm_sim',\n",
       " 'name': 'Aer QASM Simulator',\n",
       " 'provider': 'IBM',\n",
       " 'paradigm': 'gate-based',\n",
       " 'type': 'Simulator',\n",
       " 'vendor': 'IBM',\n",
       " 'run_package': 'qiskit',\n",
       " 'status': 'ONLINE',\n",
       " 'qubits': None}"
      ]
     },
     "execution_count": 44,
     "metadata": {},
     "output_type": "execute_result"
    }
   ],
   "source": [
    "qbraid_device = device_wrapper(\"ibm_aer_qasm_sim\")\n",
    "qbraid_device.info"
   ]
  },
  {
   "cell_type": "code",
   "execution_count": 45,
   "id": "8cf31cb3-d96b-479e-8a47-c54ed7870d4b",
   "metadata": {},
   "outputs": [
    {
     "data": {
      "text/plain": [
       "qiskit.providers.aer.backends.qasm_simulator.QasmSimulator"
      ]
     },
     "execution_count": 45,
     "metadata": {},
     "output_type": "execute_result"
    }
   ],
   "source": [
    "qiskit_backend = qbraid_device.vendor_dlo  # vendor device-like-object\n",
    "type(qiskit_backend)"
   ]
  },
  {
   "cell_type": "code",
   "execution_count": 46,
   "id": "2320a9d5-5d4f-4c84-bd49-7c1d02b62906",
   "metadata": {},
   "outputs": [
    {
     "data": {
      "text/html": [
       "<pre style=\"word-wrap: normal;white-space: pre;background: #fff0;line-height: 1.1;font-family: &quot;Courier New&quot;,Courier,monospace\">     ┌───┐┌─────────┐┌──────────┐\n",
       "q_0: ┤ H ├┤ Ry(π/4) ├┤ Ry(3π/4) ├\n",
       "     ├───┤├─────────┤└┬───────┬─┘\n",
       "q_1: ┤ H ├┤ Rz(π/2) ├─┤ Rz(π) ├──\n",
       "     └───┘└─────────┘ └───────┘  </pre>"
      ],
      "text/plain": [
       "     ┌───┐┌─────────┐┌──────────┐\n",
       "q_0: ┤ H ├┤ Ry(π/4) ├┤ Ry(3π/4) ├\n",
       "     ├───┤├─────────┤└┬───────┬─┘\n",
       "q_1: ┤ H ├┤ Rz(π/2) ├─┤ Rz(π) ├──\n",
       "     └───┘└─────────┘ └───────┘  "
      ]
     },
     "execution_count": 46,
     "metadata": {},
     "output_type": "execute_result"
    }
   ],
   "source": [
    "from qiskit import QuantumCircuit\n",
    "import numpy as np\n",
    "\n",
    "qiskit_circuit = QuantumCircuit(2)\n",
    "\n",
    "theta = [np.pi/4, np.pi/2, 3*np.pi/4, np.pi]\n",
    "\n",
    "qiskit_circuit.h([0, 1])\n",
    "qiskit_circuit.ry(theta[0], 0)\n",
    "qiskit_circuit.rz(theta[1], 1)\n",
    "qiskit_circuit.ry(theta[2], 0)\n",
    "qiskit_circuit.rz(theta[3], 1)\n",
    "\n",
    "qiskit_circuit.draw()"
   ]
  },
  {
   "cell_type": "markdown",
   "id": "0b1979a2-0d9a-4624-8f9a-9b7330500e99",
   "metadata": {},
   "source": [
    "Initialize quantum jobs and collect results, with the ability to extract wrapped objects at any step"
   ]
  },
  {
   "cell_type": "code",
   "execution_count": 50,
   "id": "0926b76d-6f08-4361-b36c-918e61bd5abb",
   "metadata": {},
   "outputs": [
    {
     "data": {
      "text/plain": [
       "<qiskit.providers.aer.jobs.aerjob.AerJob at 0x7f87c2558850>"
      ]
     },
     "execution_count": 50,
     "metadata": {},
     "output_type": "execute_result"
    }
   ],
   "source": [
    "qbraid_job = qbraid_device.run(qiskit_circuit)\n",
    "qbraid_job.vendor_jlo  # vendor job-like-object"
   ]
  },
  {
   "cell_type": "code",
   "execution_count": 51,
   "id": "ee4fe36f-b59e-4956-bd89-f642a1e0e827",
   "metadata": {},
   "outputs": [
    {
     "data": {
      "text/plain": [
       "Result(backend_name='qasm_simulator', backend_version='0.10.2', qobj_id='a30193f6-221c-4a91-bbd9-a4edfda2bf53', job_id='6972afe7-04be-4bc3-994c-bf5c0f475a72', success=True, results=[ExperimentResult(shots=1024, success=True, meas_level=2, data=ExperimentResultData(), header=QobjExperimentHeader(clbit_labels=[], creg_sizes=[], global_phase=0.7853981633974483, memory_slots=0, metadata=None, n_qubits=2, name='circuit-547', qreg_sizes=[['q', 2]], qubit_labels=[['q', 0], ['q', 1]]), status=DONE, seed_simulator=3503567375, metadata={'parallel_state_update': 8, 'batched_shots_optimization': False, 'measure_sampling': False, 'device': 'CPU', 'num_qubits': 0, 'parallel_shots': 1, 'remapped_qubits': False, 'method': 'stabilizer', 'active_input_qubits': [], 'num_clbits': 0, 'input_qubit_map': []}, time_taken=1.1005e-05)], date=2022-01-29T15:43:13.579409, status=COMPLETED, metadata={'time_taken': 0.000137199, 'time_taken_execute': 3.9128e-05, 'parallel_experiments': 1, 'omp_enabled': True, 'max_gpu_memory_mb': 0, 'num_mpi_processes': 1, 'time_taken_load_qobj': 9.1069e-05, 'max_memory_mb': 15743, 'mpi_rank': 0}, time_taken=0.00024199485778808594)"
      ]
     },
     "execution_count": 51,
     "metadata": {},
     "output_type": "execute_result"
    }
   ],
   "source": [
    "qbraid_result = qbraid_job.result()\n",
    "qbraid_result.vendor_rlo  # vendor result-like-object"
   ]
  },
  {
   "cell_type": "markdown",
   "id": "8a1f0e06-d3e9-42ce-8816-36efd36b8a57",
   "metadata": {},
   "source": [
    "### Run your circuit on any device and compare results"
   ]
  },
  {
   "cell_type": "code",
   "execution_count": 53,
   "id": "ef9c9cf5-2ab3-44e5-a484-4ff3a3e41183",
   "metadata": {},
   "outputs": [],
   "source": [
    "qbraid_google_device = device_wrapper(\"google_cirq_dm_sim\")"
   ]
  },
  {
   "cell_type": "code",
   "execution_count": 56,
   "id": "f54834fe-fbcd-4f3a-b4b2-96d277ce98ee",
   "metadata": {},
   "outputs": [
    {
     "name": "stdin",
     "output_type": "stream",
     "text": [
      "AWS Access Key ID [None]:  ····················\n"
     ]
    },
    {
     "ename": "KeyboardInterrupt",
     "evalue": "Interrupted by user",
     "output_type": "error",
     "traceback": [
      "\u001b[0;31m---------------------------------------------------------------------------\u001b[0m",
      "\u001b[0;31mKeyboardInterrupt\u001b[0m                         Traceback (most recent call last)",
      "Input \u001b[0;32mIn [56]\u001b[0m, in \u001b[0;36m<module>\u001b[0;34m\u001b[0m\n\u001b[0;32m----> 1\u001b[0m qbraid_aws_device \u001b[38;5;241m=\u001b[39m \u001b[43mdevice_wrapper\u001b[49m\u001b[43m(\u001b[49m\u001b[38;5;124;43m\"\u001b[39;49m\u001b[38;5;124;43maws_dm_sim\u001b[39;49m\u001b[38;5;124;43m\"\u001b[39;49m\u001b[43m)\u001b[49m\n",
      "File \u001b[0;32m~/.qbraid/environments/qbraid_sdk_9j9sjy/pyenv/lib/python3.9/site-packages/qbraid/__init__.py:113\u001b[0m, in \u001b[0;36mdevice_wrapper\u001b[0;34m(qbraid_device_id, **kwargs)\u001b[0m\n\u001b[1;32m    111\u001b[0m ep \u001b[38;5;241m=\u001b[39m vendor \u001b[38;5;241m+\u001b[39m spec\n\u001b[1;32m    112\u001b[0m device_wrapper_class \u001b[38;5;241m=\u001b[39m devices_entrypoints[ep]\u001b[38;5;241m.\u001b[39mload()\n\u001b[0;32m--> 113\u001b[0m \u001b[38;5;28;01mreturn\u001b[39;00m \u001b[43mdevice_wrapper_class\u001b[49m\u001b[43m(\u001b[49m\u001b[43mdevice_info\u001b[49m\u001b[43m,\u001b[49m\u001b[43m \u001b[49m\u001b[38;5;241;43m*\u001b[39;49m\u001b[38;5;241;43m*\u001b[39;49m\u001b[43mkwargs\u001b[49m\u001b[43m)\u001b[49m\n",
      "File \u001b[0;32m~/.qbraid/environments/qbraid_sdk_9j9sjy/pyenv/lib/python3.9/site-packages/qbraid/devices/aws/device.py:20\u001b[0m, in \u001b[0;36mBraketDeviceWrapper.__init__\u001b[0;34m(self, device_info)\u001b[0m\n\u001b[1;32m     17\u001b[0m \u001b[38;5;28;01mdef\u001b[39;00m \u001b[38;5;21m__init__\u001b[39m(\u001b[38;5;28mself\u001b[39m, device_info):\n\u001b[1;32m     18\u001b[0m     \u001b[38;5;124;03m\"\"\"Create a BraketDeviceWrapper.\"\"\"\u001b[39;00m\n\u001b[0;32m---> 20\u001b[0m     \u001b[38;5;28;43msuper\u001b[39;49m\u001b[43m(\u001b[49m\u001b[43m)\u001b[49m\u001b[38;5;241;43m.\u001b[39;49m\u001b[38;5;21;43m__init__\u001b[39;49m\u001b[43m(\u001b[49m\u001b[43mdevice_info\u001b[49m\u001b[43m)\u001b[49m\n\u001b[1;32m     21\u001b[0m     bucket \u001b[38;5;241m=\u001b[39m get_config(\u001b[38;5;124m\"\u001b[39m\u001b[38;5;124ms3_bucket\u001b[39m\u001b[38;5;124m\"\u001b[39m, \u001b[38;5;124m\"\u001b[39m\u001b[38;5;124mAWS\u001b[39m\u001b[38;5;124m\"\u001b[39m)\n\u001b[1;32m     22\u001b[0m     folder \u001b[38;5;241m=\u001b[39m get_config(\u001b[38;5;124m\"\u001b[39m\u001b[38;5;124ms3_folder\u001b[39m\u001b[38;5;124m\"\u001b[39m, \u001b[38;5;124m\"\u001b[39m\u001b[38;5;124mAWS\u001b[39m\u001b[38;5;124m\"\u001b[39m)\n",
      "File \u001b[0;32m~/.qbraid/environments/qbraid_sdk_9j9sjy/pyenv/lib/python3.9/site-packages/qbraid/devices/device.py:41\u001b[0m, in \u001b[0;36mDeviceLikeWrapper.__init__\u001b[0;34m(self, device_info)\u001b[0m\n\u001b[1;32m     39\u001b[0m \u001b[38;5;28mself\u001b[39m\u001b[38;5;241m.\u001b[39mrequires_cred \u001b[38;5;241m=\u001b[39m device_info\u001b[38;5;241m.\u001b[39mpop(\u001b[38;5;124m\"\u001b[39m\u001b[38;5;124mrequires_cred\u001b[39m\u001b[38;5;124m\"\u001b[39m)\n\u001b[1;32m     40\u001b[0m \u001b[38;5;28;01mif\u001b[39;00m \u001b[38;5;28mself\u001b[39m\u001b[38;5;241m.\u001b[39mrequires_cred:\n\u001b[0;32m---> 41\u001b[0m     \u001b[43mverify_user\u001b[49m\u001b[43m(\u001b[49m\u001b[38;5;28;43mself\u001b[39;49m\u001b[38;5;241;43m.\u001b[39;49m\u001b[43mvendor\u001b[49m\u001b[43m)\u001b[49m\n\u001b[1;32m     42\u001b[0m \u001b[38;5;28mself\u001b[39m\u001b[38;5;241m.\u001b[39mvendor_dlo \u001b[38;5;241m=\u001b[39m \u001b[38;5;28mself\u001b[39m\u001b[38;5;241m.\u001b[39m_get_device()\n",
      "File \u001b[0;32m~/.qbraid/environments/qbraid_sdk_9j9sjy/pyenv/lib/python3.9/site-packages/qbraid/devices/_utils/config_user.py:104\u001b[0m, in \u001b[0;36mverify_user\u001b[0;34m(vendor)\u001b[0m\n\u001b[1;32m    102\u001b[0m     prompt_lst \u001b[38;5;241m=\u001b[39m CONFIG_PROMPTS[vendor]\n\u001b[1;32m    103\u001b[0m     \u001b[38;5;28;01mfor\u001b[39;00m prompt \u001b[38;5;129;01min\u001b[39;00m prompt_lst:\n\u001b[0;32m--> 104\u001b[0m         \u001b[43mset_config\u001b[49m\u001b[43m(\u001b[49m\u001b[38;5;241;43m*\u001b[39;49m\u001b[43mprompt\u001b[49m\u001b[43m)\u001b[49m\n\u001b[1;32m    105\u001b[0m \u001b[38;5;28;01mreturn\u001b[39;00m \u001b[38;5;241m0\u001b[39m\n",
      "File \u001b[0;32m~/.qbraid/environments/qbraid_sdk_9j9sjy/pyenv/lib/python3.9/site-packages/qbraid/devices/_utils/config_user.py:84\u001b[0m, in \u001b[0;36mset_config\u001b[0;34m(config_name, prompt_text, default_val, is_secret, section, filepath, update)\u001b[0m\n\u001b[1;32m     82\u001b[0m \u001b[38;5;28;01melse\u001b[39;00m:\n\u001b[1;32m     83\u001b[0m     display_value \u001b[38;5;241m=\u001b[39m default_val \u001b[38;5;28;01mif\u001b[39;00m current_value \u001b[38;5;129;01mis\u001b[39;00m \u001b[38;5;28;01mNone\u001b[39;00m \u001b[38;5;28;01melse\u001b[39;00m current_value\n\u001b[0;32m---> 84\u001b[0m     new_value \u001b[38;5;241m=\u001b[39m \u001b[43mget_value\u001b[49m\u001b[43m(\u001b[49m\u001b[43mdisplay_value\u001b[49m\u001b[43m,\u001b[49m\u001b[43m \u001b[49m\u001b[43mis_secret\u001b[49m\u001b[43m,\u001b[49m\u001b[43m \u001b[49m\u001b[43mprompt_text\u001b[49m\u001b[43m)\u001b[49m\n\u001b[1;32m     85\u001b[0m config_val \u001b[38;5;241m=\u001b[39m default_val \u001b[38;5;28;01mif\u001b[39;00m new_value \u001b[38;5;129;01mis\u001b[39;00m \u001b[38;5;28;01mNone\u001b[39;00m \u001b[38;5;28;01melse\u001b[39;00m new_value\n\u001b[1;32m     86\u001b[0m config\u001b[38;5;241m.\u001b[39mset(section, config_name, \u001b[38;5;28mstr\u001b[39m(config_val))\n",
      "File \u001b[0;32m~/.qbraid/environments/qbraid_sdk_9j9sjy/pyenv/lib/python3.9/site-packages/qbraid/devices/_utils/config_user.py:32\u001b[0m, in \u001b[0;36mget_value\u001b[0;34m(display_value, is_secret, prompt_text)\u001b[0m\n\u001b[1;32m     30\u001b[0m \u001b[38;5;124;03m\"\"\"Applies mask to ``display_value`` and prompts user\"\"\"\u001b[39;00m\n\u001b[1;32m     31\u001b[0m display_value \u001b[38;5;241m=\u001b[39m mask_value(display_value) \u001b[38;5;28;01mif\u001b[39;00m is_secret \u001b[38;5;28;01melse\u001b[39;00m display_value\n\u001b[0;32m---> 32\u001b[0m response \u001b[38;5;241m=\u001b[39m \u001b[43mcompat_input\u001b[49m\u001b[43m(\u001b[49m\u001b[38;5;124;43mf\u001b[39;49m\u001b[38;5;124;43m\"\u001b[39;49m\u001b[38;5;132;43;01m{\u001b[39;49;00m\u001b[43mprompt_text\u001b[49m\u001b[38;5;132;43;01m}\u001b[39;49;00m\u001b[38;5;124;43m [\u001b[39;49m\u001b[38;5;132;43;01m{\u001b[39;49;00m\u001b[43mdisplay_value\u001b[49m\u001b[38;5;132;43;01m}\u001b[39;49;00m\u001b[38;5;124;43m]: \u001b[39;49m\u001b[38;5;124;43m\"\u001b[39;49m\u001b[43m,\u001b[49m\u001b[43m \u001b[49m\u001b[43mis_secret\u001b[49m\u001b[43m)\u001b[49m\n\u001b[1;32m     33\u001b[0m \u001b[38;5;28;01mif\u001b[39;00m \u001b[38;5;129;01mnot\u001b[39;00m response:\n\u001b[1;32m     34\u001b[0m     response \u001b[38;5;241m=\u001b[39m \u001b[38;5;28;01mNone\u001b[39;00m\n",
      "File \u001b[0;32m~/.qbraid/environments/qbraid_sdk_9j9sjy/pyenv/lib/python3.9/site-packages/qbraid/devices/_utils/config_user.py:41\u001b[0m, in \u001b[0;36mcompat_input\u001b[0;34m(prompt, is_secret)\u001b[0m\n\u001b[1;32m     39\u001b[0m \u001b[38;5;124;03m\"\"\"Prompts user for value\"\"\"\u001b[39;00m\n\u001b[1;32m     40\u001b[0m \u001b[38;5;28;01mif\u001b[39;00m is_secret:\n\u001b[0;32m---> 41\u001b[0m     \u001b[38;5;28;01mreturn\u001b[39;00m \u001b[43msecret_input\u001b[49m\u001b[43m(\u001b[49m\u001b[43mprompt\u001b[49m\u001b[38;5;241;43m=\u001b[39;49m\u001b[43mprompt\u001b[49m\u001b[43m)\u001b[49m\n\u001b[1;32m     42\u001b[0m sys\u001b[38;5;241m.\u001b[39mstdout\u001b[38;5;241m.\u001b[39mwrite(prompt)\n\u001b[1;32m     43\u001b[0m sys\u001b[38;5;241m.\u001b[39mstdout\u001b[38;5;241m.\u001b[39mflush()\n",
      "File \u001b[0;32m/opt/conda/lib/python3.9/site-packages/ipykernel/kernelbase.py:989\u001b[0m, in \u001b[0;36mKernel.getpass\u001b[0;34m(self, prompt, stream)\u001b[0m\n\u001b[1;32m    982\u001b[0m     \u001b[38;5;28;01mimport\u001b[39;00m \u001b[38;5;21;01mwarnings\u001b[39;00m\n\u001b[1;32m    984\u001b[0m     warnings\u001b[38;5;241m.\u001b[39mwarn(\n\u001b[1;32m    985\u001b[0m         \u001b[38;5;124m\"\u001b[39m\u001b[38;5;124mThe `stream` parameter of `getpass.getpass` will have no effect when using ipykernel\u001b[39m\u001b[38;5;124m\"\u001b[39m,\n\u001b[1;32m    986\u001b[0m         \u001b[38;5;167;01mUserWarning\u001b[39;00m,\n\u001b[1;32m    987\u001b[0m         stacklevel\u001b[38;5;241m=\u001b[39m\u001b[38;5;241m2\u001b[39m,\n\u001b[1;32m    988\u001b[0m     )\n\u001b[0;32m--> 989\u001b[0m \u001b[38;5;28;01mreturn\u001b[39;00m \u001b[38;5;28;43mself\u001b[39;49m\u001b[38;5;241;43m.\u001b[39;49m\u001b[43m_input_request\u001b[49m\u001b[43m(\u001b[49m\n\u001b[1;32m    990\u001b[0m \u001b[43m    \u001b[49m\u001b[43mprompt\u001b[49m\u001b[43m,\u001b[49m\n\u001b[1;32m    991\u001b[0m \u001b[43m    \u001b[49m\u001b[38;5;28;43mself\u001b[39;49m\u001b[38;5;241;43m.\u001b[39;49m\u001b[43m_parent_ident\u001b[49m\u001b[43m[\u001b[49m\u001b[38;5;124;43m\"\u001b[39;49m\u001b[38;5;124;43mshell\u001b[39;49m\u001b[38;5;124;43m\"\u001b[39;49m\u001b[43m]\u001b[49m\u001b[43m,\u001b[49m\n\u001b[1;32m    992\u001b[0m \u001b[43m    \u001b[49m\u001b[38;5;28;43mself\u001b[39;49m\u001b[38;5;241;43m.\u001b[39;49m\u001b[43mget_parent\u001b[49m\u001b[43m(\u001b[49m\u001b[38;5;124;43m\"\u001b[39;49m\u001b[38;5;124;43mshell\u001b[39;49m\u001b[38;5;124;43m\"\u001b[39;49m\u001b[43m)\u001b[49m\u001b[43m,\u001b[49m\n\u001b[1;32m    993\u001b[0m \u001b[43m    \u001b[49m\u001b[43mpassword\u001b[49m\u001b[38;5;241;43m=\u001b[39;49m\u001b[38;5;28;43;01mTrue\u001b[39;49;00m\u001b[43m,\u001b[49m\n\u001b[1;32m    994\u001b[0m \u001b[43m\u001b[49m\u001b[43m)\u001b[49m\n",
      "File \u001b[0;32m/opt/conda/lib/python3.9/site-packages/ipykernel/kernelbase.py:1052\u001b[0m, in \u001b[0;36mKernel._input_request\u001b[0;34m(self, prompt, ident, parent, password)\u001b[0m\n\u001b[1;32m   1049\u001b[0m             \u001b[38;5;28;01mbreak\u001b[39;00m\n\u001b[1;32m   1050\u001b[0m \u001b[38;5;28;01mexcept\u001b[39;00m \u001b[38;5;167;01mKeyboardInterrupt\u001b[39;00m:\n\u001b[1;32m   1051\u001b[0m     \u001b[38;5;66;03m# re-raise KeyboardInterrupt, to truncate traceback\u001b[39;00m\n\u001b[0;32m-> 1052\u001b[0m     \u001b[38;5;28;01mraise\u001b[39;00m \u001b[38;5;167;01mKeyboardInterrupt\u001b[39;00m(\u001b[38;5;124m\"\u001b[39m\u001b[38;5;124mInterrupted by user\u001b[39m\u001b[38;5;124m\"\u001b[39m) \u001b[38;5;28;01mfrom\u001b[39;00m \u001b[38;5;28mNone\u001b[39m\n\u001b[1;32m   1053\u001b[0m \u001b[38;5;28;01mexcept\u001b[39;00m \u001b[38;5;167;01mException\u001b[39;00m:\n\u001b[1;32m   1054\u001b[0m     \u001b[38;5;28mself\u001b[39m\u001b[38;5;241m.\u001b[39mlog\u001b[38;5;241m.\u001b[39mwarning(\u001b[38;5;124m\"\u001b[39m\u001b[38;5;124mInvalid Message:\u001b[39m\u001b[38;5;124m\"\u001b[39m, exc_info\u001b[38;5;241m=\u001b[39m\u001b[38;5;28;01mTrue\u001b[39;00m)\n",
      "\u001b[0;31mKeyboardInterrupt\u001b[0m: Interrupted by user"
     ]
    }
   ],
   "source": [
    "qbraid_aws_device = device_wrapper(\"aws_dm_sim\")  # requires aws credential"
   ]
  },
  {
   "cell_type": "code",
   "execution_count": null,
   "id": "b54dc879-a315-4ea0-8d3f-209620103d2d",
   "metadata": {},
   "outputs": [],
   "source": [
    "bk_unitary = bk_circuits.unitary_calculation.calculate_unitary(bk_circuit.qubit_count, bk_circuit.instructions)"
   ]
  },
  {
   "cell_type": "code",
   "execution_count": null,
   "id": "857eb84f-931c-4a53-9688-c72c5d75ea0f",
   "metadata": {},
   "outputs": [],
   "source": [
    "bk_sim_result = bk_dm.run(bk_circuit, shots=1024).result()"
   ]
  },
  {
   "cell_type": "code",
   "execution_count": null,
   "id": "5e473a2a-ecbe-40c6-b2eb-072a336f6e2b",
   "metadata": {},
   "outputs": [],
   "source": [
    "bk_sim_result.measurements\n",
    "# bk_sim_result.measurement_counts\n",
    "# bk_sim_result.measurement_probabilities"
   ]
  },
  {
   "cell_type": "markdown",
   "id": "756c609d-cfb6-4b0d-81f9-254721be1c8e",
   "metadata": {},
   "source": [
    "#### Cirq"
   ]
  },
  {
   "cell_type": "code",
   "execution_count": null,
   "id": "f89ba248-3107-402d-977b-c1383f1d1677",
   "metadata": {},
   "outputs": [],
   "source": [
    "import cirq"
   ]
  },
  {
   "cell_type": "code",
   "execution_count": null,
   "id": "8a10039d-5fcf-49ef-a7aa-e47dfa362adc",
   "metadata": {},
   "outputs": [],
   "source": [
    "print([cls.__name__ for cls in cirq.Device.__subclasses__()])"
   ]
  },
  {
   "cell_type": "code",
   "execution_count": null,
   "id": "15a1fb13-097d-4902-8e8a-09d176987140",
   "metadata": {},
   "outputs": [],
   "source": [
    "cirq_sim = cirq.DensityMatrixSimulator()"
   ]
  },
  {
   "cell_type": "code",
   "execution_count": null,
   "id": "995d706b-4183-4d18-986f-eded4bcefc67",
   "metadata": {},
   "outputs": [],
   "source": [
    "qs = cirq.LineQubit.range(2)\n",
    "# qs.reverse()\n",
    "\n",
    "cirq_circuit = cirq.Circuit(\n",
    "    cirq.H(q0),\n",
    "    cirq.H(q1),\n",
    "    cirq.ry(rads=theta[0])(qs[0]),\n",
    "    cirq.rz(rads=theta[1])(qs[1]),\n",
    "    cirq.ry(rads=theta[2])(qs[0]),\n",
    "    cirq.rz(rads=theta[3])(qs[1]),\n",
    "    cirq.measure(q0, key=str(qs[0].x)),\n",
    "    cirq.measure(q1, key=str(qs[1].x)),\n",
    ")\n",
    "\n",
    "print(cirq_circuit)"
   ]
  },
  {
   "cell_type": "code",
   "execution_count": null,
   "id": "eb199276-2b61-4d16-8e44-8ca2e246fd5a",
   "metadata": {},
   "outputs": [],
   "source": [
    "cirq_unitary = cirq_circuit.unitary()"
   ]
  },
  {
   "cell_type": "code",
   "execution_count": null,
   "id": "7ffd8974-eb30-4517-a183-fca19705cc6a",
   "metadata": {},
   "outputs": [],
   "source": [
    "cirq_sim_result = cirq_sim.run(cirq_circuit, repetitions=1024)"
   ]
  },
  {
   "cell_type": "code",
   "execution_count": null,
   "id": "a0ada1e8-5318-4247-90a8-f9fd949fa930",
   "metadata": {},
   "outputs": [],
   "source": [
    "cirq_sim_result.measurements\n",
    "# cirq_sim_result.data\n",
    "# cirq_sim_result.histogram\n",
    "# cirq_sim_result.multi_measurement_histogram(keys=cirq_sim_result.measurements.keys())"
   ]
  },
  {
   "cell_type": "code",
   "execution_count": null,
   "id": "2996defe-324b-4325-ad1c-f41cc6d921e8",
   "metadata": {},
   "outputs": [],
   "source": [
    "cirq_sim_meas = cirq_sim_result.measurements"
   ]
  },
  {
   "cell_type": "code",
   "execution_count": null,
   "id": "c4d98503-b139-4e98-833e-4650c8f17e16",
   "metadata": {},
   "outputs": [],
   "source": [
    "print(cirq_sim_meas)"
   ]
  },
  {
   "cell_type": "code",
   "execution_count": null,
   "id": "9d576704-054f-4970-9007-a3b5798be2c7",
   "metadata": {},
   "outputs": [],
   "source": [
    "from braket.circuits import Circuit as BkCircuit\n",
    "from braket.devices import LocalSimulator as BkSimulator\n",
    "from braket.aws import AwsDevice\n",
    "\n",
    "import numpy as np"
   ]
  },
  {
   "cell_type": "code",
   "execution_count": null,
   "id": "d3adb556-6639-43fb-87de-b0a4a656f741",
   "metadata": {},
   "outputs": [],
   "source": [
    "aws_dm1 = AwsDevice(\"arn:aws:braket:::device/quantum-simulator/amazon/dm1\")"
   ]
  },
  {
   "cell_type": "code",
   "execution_count": null,
   "id": "6724c062-e0be-40c4-b670-4364d277fb27",
   "metadata": {},
   "outputs": [],
   "source": [
    "# Please enter the S3 bucket you created during onboarding in the code below\n",
    "\n",
    "my_bucket = os.environ[\"s3_bucket\"]\n",
    "my_prefix = os.environ[\"s3_prefix\"]\n",
    "\n",
    "# my_bucket = \"amazon-braket-Your-Bucket-Name\" # the name of the bucket\n",
    "# my_prefix = \"Your-Folder-Name\" # the name of the folder in the bucket\n",
    "\n",
    "s3_folder = (my_bucket, my_prefix)"
   ]
  },
  {
   "cell_type": "code",
   "execution_count": null,
   "id": "fd6b6ad7-c7c2-4573-84f5-729e70afe6e8",
   "metadata": {},
   "outputs": [],
   "source": [
    "aws_dm1_job = aws_dm_sim.run(bk_circuit, s3_folder, shots=1024)"
   ]
  },
  {
   "cell_type": "code",
   "execution_count": null,
   "id": "bcb1680a-d27c-44e1-b8b3-6177005a93a4",
   "metadata": {},
   "outputs": [],
   "source": [
    "aws_dm1_job.metadata()[\"status\" ]"
   ]
  },
  {
   "cell_type": "code",
   "execution_count": null,
   "id": "ac7713fb-a613-480c-8273-686643db38d3",
   "metadata": {},
   "outputs": [],
   "source": [
    "aws_dm1_result = job.result()"
   ]
  },
  {
   "cell_type": "code",
   "execution_count": null,
   "id": "4af9b539-bbf3-4c42-96f1-5ef5dc30c315",
   "metadata": {},
   "outputs": [],
   "source": [
    "aws_dm1_counts = aws_dm1_result.measurement_counts"
   ]
  },
  {
   "cell_type": "code",
   "execution_count": null,
   "id": "aa7e8047-cd10-4558-9f88-f6a7a84a3c5e",
   "metadata": {},
   "outputs": [],
   "source": [
    "print(aws_dm1_counts) # <class 'collections.Counter'>"
   ]
  },
  {
   "cell_type": "code",
   "execution_count": null,
   "id": "b68d7f75-a8ff-4c52-a16d-0acf98ef6dcb",
   "metadata": {},
   "outputs": [],
   "source": [
    "import qbraid"
   ]
  },
  {
   "cell_type": "code",
   "execution_count": null,
   "id": "de3619b6-b838-4bc8-a88b-7d6ab81e0a37",
   "metadata": {},
   "outputs": [],
   "source": [
    "aws_device = device_wrapper(\"aws_dm_sim\")"
   ]
  },
  {
   "cell_type": "code",
   "execution_count": null,
   "id": "edbb59f4-b651-4e3b-9e97-e1ab8b18db5d",
   "metadata": {},
   "outputs": [],
   "source": [
    "aws_device._s3_location"
   ]
  },
  {
   "cell_type": "code",
   "execution_count": null,
   "id": "cc4807e8-59d6-4f5f-8961-12c56ff949b1",
   "metadata": {},
   "outputs": [],
   "source": [
    "import os\n",
    " = 'amazon-braket-592242689881'\n",
    " = 'simulator-output'"
   ]
  },
  {
   "cell_type": "code",
   "execution_count": null,
   "id": "331a496f",
   "metadata": {},
   "outputs": [],
   "source": [
    "from qbraid import (\n",
    "    get_devices, \n",
    "    refresh_devices, \n",
    "    random_circuit, \n",
    "    device_wrapper, \n",
    ")"
   ]
  },
  {
   "cell_type": "markdown",
   "id": "cb5fd782",
   "metadata": {},
   "source": [
    "Get a complete list of devices available through qBraid using the get_devices function"
   ]
  },
  {
   "cell_type": "code",
   "execution_count": null,
   "id": "46da3cb6",
   "metadata": {},
   "outputs": [],
   "source": [
    "get_devices()"
   ]
  },
  {
   "cell_type": "markdown",
   "id": "2ac5ee70",
   "metadata": {},
   "source": []
  },
  {
   "cell_type": "code",
   "execution_count": null,
   "id": "d472ad75",
   "metadata": {},
   "outputs": [],
   "source": [
    "get_devices({\"paradigm\": \"gate-based\", \"type\": \"QPU\", \"qubits\": {\"$gte\": 5}, \"status\": \"ONLINE\"})"
   ]
  },
  {
   "cell_type": "markdown",
   "id": "052fd5f9",
   "metadata": {},
   "source": [
    "This time, let's search for state vector simulators available through AWS or IBM"
   ]
  },
  {
   "cell_type": "code",
   "execution_count": null,
   "id": "dca2b958",
   "metadata": {},
   "outputs": [],
   "source": [
    "get_devices({\"type\": \"Simulator\", \"name\": {\"$regex\": \"Density Matrix\"}, \"vendor\": {\"$in\": [\"AWS\", \"Google\"]}})"
   ]
  },
  {
   "cell_type": "markdown",
   "id": "d949ae2f",
   "metadata": {},
   "source": [
    "The qBraid SDK makes running quantum circuits on any device extremely easy. \n",
    "\n",
    "Simply copy the desired qBraid ID into the device wrapper function and your on your way"
   ]
  },
  {
   "cell_type": "code",
   "execution_count": null,
   "id": "c4e4d068",
   "metadata": {
    "scrolled": true
   },
   "outputs": [],
   "source": [
    "aws_device = device_wrapper(\"aws_dm_sim\")"
   ]
  },
  {
   "cell_type": "code",
   "execution_count": null,
   "id": "977e8aed",
   "metadata": {},
   "outputs": [],
   "source": [
    "google_device = device_wrapper(\"google_cirq_dm_sim\")"
   ]
  },
  {
   "cell_type": "code",
   "execution_count": null,
   "id": "e3ed253e",
   "metadata": {},
   "outputs": [],
   "source": [
    "ibm_device = device_wrapper(\"ibm_q_lima\") "
   ]
  },
  {
   "cell_type": "code",
   "execution_count": null,
   "id": "05e31f26",
   "metadata": {},
   "outputs": [],
   "source": [
    "ibm_device.info"
   ]
  },
  {
   "cell_type": "code",
   "execution_count": null,
   "id": "db7cbb75",
   "metadata": {},
   "outputs": [],
   "source": [
    "circuit = random_circuit(\"qiskit\", num_qubits=3, depth=5, measure=True)\n",
    "print(circuit)"
   ]
  },
  {
   "cell_type": "code",
   "execution_count": null,
   "id": "ee87fc5c",
   "metadata": {},
   "outputs": [],
   "source": [
    "shots=1000"
   ]
  },
  {
   "cell_type": "code",
   "execution_count": null,
   "id": "97c76456",
   "metadata": {},
   "outputs": [],
   "source": [
    "aws_job = aws_device.run(circuit, shots=shots)"
   ]
  },
  {
   "cell_type": "code",
   "execution_count": null,
   "id": "e438c305",
   "metadata": {},
   "outputs": [],
   "source": [
    "google_job = google_device.run(circuit, shots=shots)"
   ]
  },
  {
   "cell_type": "code",
   "execution_count": null,
   "id": "a2218f43",
   "metadata": {},
   "outputs": [],
   "source": [
    "ibm_job = ibm_device.run(circuit, shots=shots)"
   ]
  },
  {
   "cell_type": "code",
   "execution_count": null,
   "id": "6c68880b",
   "metadata": {},
   "outputs": [],
   "source": [
    "aws_job.id"
   ]
  },
  {
   "cell_type": "code",
   "execution_count": null,
   "id": "d64c1bf0",
   "metadata": {},
   "outputs": [],
   "source": [
    "# ibm_job.device.pending_jobs()\n",
    "ibm_job.status()"
   ]
  },
  {
   "cell_type": "code",
   "execution_count": null,
   "id": "7bc12a29",
   "metadata": {},
   "outputs": [],
   "source": [
    "ibm_result = ibm_job.result()"
   ]
  },
  {
   "cell_type": "code",
   "execution_count": null,
   "id": "620b6fad",
   "metadata": {},
   "outputs": [],
   "source": [
    "google_result = google_job.result()"
   ]
  },
  {
   "cell_type": "code",
   "execution_count": null,
   "id": "313f579e",
   "metadata": {},
   "outputs": [],
   "source": [
    "aws_result = aws_job.result()"
   ]
  },
  {
   "cell_type": "code",
   "execution_count": null,
   "id": "bb644983",
   "metadata": {},
   "outputs": [],
   "source": [
    "aws_result.measurement_counts()"
   ]
  },
  {
   "cell_type": "code",
   "execution_count": null,
   "id": "b015d8f1",
   "metadata": {},
   "outputs": [],
   "source": [
    "google_result.measurement_counts()"
   ]
  },
  {
   "cell_type": "code",
   "execution_count": null,
   "id": "b9263002",
   "metadata": {},
   "outputs": [],
   "source": [
    "ibm_result.measurement_counts()"
   ]
  },
  {
   "cell_type": "code",
   "execution_count": null,
   "id": "7bf141e6",
   "metadata": {},
   "outputs": [],
   "source": [
    "ibm_result.plot_counts()"
   ]
  },
  {
   "cell_type": "code",
   "execution_count": null,
   "id": "482dac72",
   "metadata": {},
   "outputs": [],
   "source": [
    "aws_result.plot_counts()"
   ]
  },
  {
   "cell_type": "code",
   "execution_count": null,
   "id": "e65d5c93",
   "metadata": {},
   "outputs": [],
   "source": [
    "google_result.plot_counts()"
   ]
  },
  {
   "cell_type": "code",
   "execution_count": null,
   "id": "80082fe7",
   "metadata": {},
   "outputs": [],
   "source": []
  }
 ],
 "metadata": {
  "kernelspec": {
   "display_name": "Python 3 [qBraid-SDK]",
   "language": "python",
   "name": "python3_qbraid_sdk_9j9sjy"
  },
  "language_info": {
   "codemirror_mode": {
    "name": "ipython",
    "version": 3
   },
   "file_extension": ".py",
   "mimetype": "text/x-python",
   "name": "python",
   "nbconvert_exporter": "python",
   "pygments_lexer": "ipython3",
   "version": "3.9.7"
  }
 },
 "nbformat": 4,
 "nbformat_minor": 5
}
