{
 "cells": [
  {
   "cell_type": "code",
   "execution_count": 1,
   "id": "fc091888-2447-46a7-95d4-5f38350c65cf",
   "metadata": {},
   "outputs": [],
   "source": [
    "import pennylane as qml\n",
    "from pennylane import numpy as np"
   ]
  },
  {
   "cell_type": "markdown",
   "id": "13e3c3c1-ab57-433b-a6dc-37a2ecd207ca",
   "metadata": {
    "tags": []
   },
   "source": [
    "#### Load device and construct QNode"
   ]
  },
  {
   "cell_type": "code",
   "execution_count": 2,
   "id": "525a7025-af8d-44d2-99fa-8030aa02f850",
   "metadata": {},
   "outputs": [],
   "source": [
    "dev1 = qml.device(\"default.qubit\", wires=1)"
   ]
  },
  {
   "cell_type": "code",
   "execution_count": 3,
   "id": "60daf8b8-dc67-42fd-89ac-b532f1091472",
   "metadata": {},
   "outputs": [],
   "source": [
    "@qml.qnode(dev1)\n",
    "def circuit(params):\n",
    "    qml.RX(params[0], wires=0)\n",
    "    qml.RY(params[1], wires=0)\n",
    "    return qml.expval(qml.PauliZ(0))"
   ]
  },
  {
   "cell_type": "code",
   "execution_count": 4,
   "id": "40120bfc-31fc-47a3-a35d-cb387519ce1d",
   "metadata": {},
   "outputs": [
    {
     "name": "stdout",
     "output_type": "stream",
     "text": [
      " 0: ──RX(0.011)──RY(0.012)──┤ ⟨Z⟩ \n",
      "\n"
     ]
    }
   ],
   "source": [
    "drawer = qml.draw(circuit)\n",
    "params = np.array([0.011, 0.012], requires_grad=True)\n",
    "\n",
    "print(drawer(params))"
   ]
  },
  {
   "cell_type": "markdown",
   "id": "820b537b-3cdf-4a35-a4be-21f5b20376c9",
   "metadata": {},
   "source": [
    "#### Optimize params against cost function with GD"
   ]
  },
  {
   "cell_type": "code",
   "execution_count": 5,
   "id": "2f27ef23-e46e-4c51-a70a-bafec1278539",
   "metadata": {},
   "outputs": [],
   "source": [
    "def cost(x):\n",
    "    return circuit(x)"
   ]
  },
  {
   "cell_type": "code",
   "execution_count": 6,
   "id": "05cc539b-b0bd-485f-947f-3797a1ccd73a",
   "metadata": {},
   "outputs": [
    {
     "name": "stdout",
     "output_type": "stream",
     "text": [
      "Initial Cost: 0.9998675058299389\n"
     ]
    }
   ],
   "source": [
    "init_cost = cost(params)\n",
    "print(f\"Initial Cost: {init_cost}\")"
   ]
  },
  {
   "cell_type": "code",
   "execution_count": 7,
   "id": "e2fa24b2-e2e1-4213-ad2b-4976b27f2a1d",
   "metadata": {},
   "outputs": [
    {
     "name": "stdout",
     "output_type": "stream",
     "text": [
      "Cost after step     5:  0.9961778\n",
      "Cost after step    10:  0.8974944\n",
      "Cost after step    15:  0.1440490\n",
      "Cost after step    20: -0.1536720\n",
      "Cost after step    25: -0.9152496\n",
      "Cost after step    30: -0.9994046\n",
      "Cost after step    35: -0.9999964\n",
      "Cost after step    40: -1.0000000\n",
      "Cost after step    45: -1.0000000\n",
      "Cost after step    50: -1.0000000\n",
      "Cost after step    55: -1.0000000\n",
      "Cost after step    60: -1.0000000\n",
      "Cost after step    65: -1.0000000\n",
      "Cost after step    70: -1.0000000\n",
      "Cost after step    75: -1.0000000\n",
      "Cost after step    80: -1.0000000\n",
      "Cost after step    85: -1.0000000\n",
      "Cost after step    90: -1.0000000\n",
      "Cost after step    95: -1.0000000\n",
      "Cost after step   100: -1.0000000\n",
      "Optimized rotation angles: [7.15266381e-18 3.14159265e+00]\n"
     ]
    }
   ],
   "source": [
    "# initialise the optimizer\n",
    "opt = qml.GradientDescentOptimizer(stepsize=0.4)\n",
    "\n",
    "# set the number of steps\n",
    "steps = 100\n",
    "\n",
    "for i in range(steps):\n",
    "    # update the circuit parameters\n",
    "    params = opt.step(cost, params)\n",
    "\n",
    "    if (i + 1) % 5 == 0:\n",
    "        print(\"Cost after step {:5d}: {: .7f}\".format(i + 1, cost(params)))\n",
    "\n",
    "print(\"Optimized rotation angles: {}\".format(params))"
   ]
  }
 ],
 "metadata": {
  "kernelspec": {
   "display_name": "Python 3 [Pennylane]",
   "language": "python",
   "name": "python3_xanadu_fil4xi"
  },
  "language_info": {
   "codemirror_mode": {
    "name": "ipython",
    "version": 3
   },
   "file_extension": ".py",
   "mimetype": "text/x-python",
   "name": "python",
   "nbconvert_exporter": "python",
   "pygments_lexer": "ipython3",
   "version": "3.9.7"
  }
 },
 "nbformat": 4,
 "nbformat_minor": 5
}
