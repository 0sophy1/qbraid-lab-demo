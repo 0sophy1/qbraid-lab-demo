{
 "cells": [
  {
   "cell_type": "markdown",
   "id": "d46c2073-d5af-4272-b434-f6fc712b1f33",
   "metadata": {},
   "source": [
    "# qBraid Quantum Jobs: Amazon Braket Environment"
   ]
  },
  {
   "cell_type": "code",
   "execution_count": 1,
   "id": "ece364ef-f49e-4a56-b32c-77aee1f1912f",
   "metadata": {},
   "outputs": [
    {
     "name": "stdout",
     "output_type": "stream",
     "text": [
      "Installed environments:\u001b[0m\n",
      "\u001b[1;35mqsharp\n",
      "\u001b[1;35mdefault\n",
      "\u001b[1;35mamazon_braket\n",
      "\u001b[1;35mqbraid_sdk\n",
      "\u001b[0mUse `qbraid envs <environment> -h` to see available commands.\n"
     ]
    }
   ],
   "source": [
    "# list installed environments\n",
    "!qbraid envs list"
   ]
  },
  {
   "cell_type": "code",
   "execution_count": 2,
   "id": "c2faa670-1fe9-47f2-9cfe-d488517914a3",
   "metadata": {},
   "outputs": [
    {
     "name": "stdout",
     "output_type": "stream",
     "text": [
      "\u001b[0;35mSuccessfully enabled qBraid Quantum Jobs in the \u001b[1;35mamazon_braket\u001b[0m\u001b[0;35m environment.\u001b[0m\n",
      "\u001b[0;35mEvery \u001b[1;35mAWS\u001b[0m\u001b[0;35m job you run will now be submitted through the qBraid API, so no access keys are necessary. \u001b[0m\n",
      "\n",
      "\u001b[0;35mTo disable, run:\u001b[0m `qbraid jobs disable -n amazon_braket`\n"
     ]
    }
   ],
   "source": [
    "# enable qBraid Quantum Jobs\n",
    "!qbraid jobs enable -n amazon_braket"
   ]
  },
  {
   "cell_type": "code",
   "execution_count": 3,
   "id": "f17a39b3-74b6-4798-9d8c-164d884e1251",
   "metadata": {},
   "outputs": [
    {
     "name": "stdout",
     "output_type": "stream",
     "text": [
      "\u001b[0;35mYou have \u001b[0m1000\u001b[0;35m remaining qBraid credits.\u001b[0m\n"
     ]
    }
   ],
   "source": [
    "# check qBraid credits\n",
    "!qbraid jobs get-credits"
   ]
  },
  {
   "cell_type": "code",
   "execution_count": 4,
   "id": "e7fb9ec2-0500-4fd7-b9a5-952805764efc",
   "metadata": {},
   "outputs": [
    {
     "name": "stdout",
     "output_type": "stream",
     "text": [
      "T  : |0|1|\n",
      "          \n",
      "q0 : -H-C-\n",
      "        | \n",
      "q1 : ---X-\n",
      "\n",
      "T  : |0|1|\n"
     ]
    }
   ],
   "source": [
    "import boto3\n",
    "from braket.aws import AwsDevice, AwsQuantumTask \n",
    "from braket.circuits import Circuit\n",
    "\n",
    "# create the Amazon Braket circuit\n",
    "bell = Circuit().h(0).cnot(0, 1)\n",
    "\n",
    "print(bell)"
   ]
  },
  {
   "cell_type": "code",
   "execution_count": 5,
   "id": "b4f364f0-bc30-42c8-a676-03f99312b0ab",
   "metadata": {},
   "outputs": [],
   "source": [
    "# dummy variable for the name of the bucket\n",
    "my_bucket = \"MYBUCKET\"\n",
    "# dummy variable for the name of the folder in the bucket\n",
    "my_prefix = \"MYPREFIX\"\n",
    "# qBraid Quantum Jobs API takes care of this\n",
    "s3_folder = (my_bucket, my_prefix)"
   ]
  },
  {
   "cell_type": "code",
   "execution_count": 6,
   "id": "9319ff25-f872-4cf4-8943-8453aaaa3ada",
   "metadata": {},
   "outputs": [],
   "source": [
    "# choose the cloud-based on-demand simulator to run your circuit\n",
    "device = AwsDevice(\"arn:aws:braket:::device/quantum-simulator/amazon/sv1\")"
   ]
  },
  {
   "cell_type": "code",
   "execution_count": 7,
   "id": "d839f8db-0928-464f-9b26-06d89741bd05",
   "metadata": {},
   "outputs": [],
   "source": [
    "# execute the circuit\n",
    "task = device.run(bell, s3_folder, shots=100)"
   ]
  },
  {
   "cell_type": "code",
   "execution_count": 8,
   "id": "602ae9e2-675f-4a7d-8ad2-8dded3c19ca4",
   "metadata": {},
   "outputs": [
    {
     "name": "stdout",
     "output_type": "stream",
     "text": [
      "Counter({'11': 51, '00': 49})\n"
     ]
    }
   ],
   "source": [
    "# display the results\n",
    "print(task.result().measurement_counts)"
   ]
  },
  {
   "cell_type": "code",
   "execution_count": 9,
   "id": "fb323eeb-2f53-4fa1-b8e4-d915caf57981",
   "metadata": {},
   "outputs": [
    {
     "name": "stdout",
     "output_type": "stream",
     "text": [
      "Mon Sep 12 2022 20:29:38 GMT+0000 (Coordinated Universal Time) arn:aws:braket:::device/quantum-simulator/amazon/sv1 arn:aws:braket:us-east-1:592242689881:quantum-task/8a470bc6-d79c-4820-83ec-dbe20273145f\n",
      "\n"
     ]
    }
   ],
   "source": [
    "# list submitted jobs\n",
    "!qbraid jobs list"
   ]
  },
  {
   "cell_type": "code",
   "execution_count": 10,
   "id": "2b0a87d2-865b-4d52-a01b-ccc1cf01c707",
   "metadata": {},
   "outputs": [
    {
     "name": "stdout",
     "output_type": "stream",
     "text": [
      "\u001b[0;35mYou have \u001b[0m999.94\u001b[0;35m remaining qBraid credits.\u001b[0m\n"
     ]
    }
   ],
   "source": [
    "# check remaining qBraid credits\n",
    "!qbraid jobs get-credits"
   ]
  },
  {
   "cell_type": "code",
   "execution_count": 11,
   "id": "36e52a6b-35dc-4ec4-8389-adda483fb92f",
   "metadata": {},
   "outputs": [],
   "source": [
    "client = boto3.client('braket')"
   ]
  },
  {
   "cell_type": "code",
   "execution_count": 12,
   "id": "5bf07028-5ea1-4776-9c05-7a2f8872a134",
   "metadata": {},
   "outputs": [
    {
     "name": "stdout",
     "output_type": "stream",
     "text": [
      "createdAt\n",
      "deviceArn\n",
      "endedAt\n",
      "outputS3Bucket\n",
      "outputS3Directory\n",
      "quantumTaskArn\n",
      "shots\n",
      "status\n",
      "tags\n"
     ]
    }
   ],
   "source": [
    "# retrieve jobs from braket boto3\n",
    "boto_data = client.search_quantum_tasks(\n",
    "    filters = [\n",
    "        {\n",
    "            'name': 'deviceArn',\n",
    "            'operator': 'EQUAL',\n",
    "            'values': [\n",
    "                'arn:aws:braket:::device/quantum-simulator/amazon/sv1',\n",
    "            ]\n",
    "        }\n",
    "    ],\n",
    ")\n",
    "\n",
    "# get data on most recent job\n",
    "job_data = boto_data['quantumTasks'][0]\n",
    "\n",
    "for field in job_data:\n",
    "    print(field)"
   ]
  },
  {
   "cell_type": "code",
   "execution_count": 13,
   "id": "ba19ecd3-39b4-40af-8157-a4524e3860bc",
   "metadata": {},
   "outputs": [
    {
     "data": {
      "text/plain": [
       "'amazon-braket-qbraid-jobs'"
      ]
     },
     "execution_count": 13,
     "metadata": {},
     "output_type": "execute_result"
    }
   ],
   "source": [
    "job_data['outputS3Bucket']"
   ]
  },
  {
   "cell_type": "code",
   "execution_count": 14,
   "id": "6470f22f-9a07-4c64-b02b-b268d54b80b6",
   "metadata": {},
   "outputs": [
    {
     "name": "stdout",
     "output_type": "stream",
     "text": [
      "\u001b[0;35mDisable successful. You are now submitting quantum jobs with your own AWS credentials.\u001b[0m\n",
      "\n",
      "\u001b[0;35mTo re-enable, run:\u001b[0m `qbraid jobs enable -n amazon_braket`\n"
     ]
    }
   ],
   "source": [
    "# disable qBraid Quantum Jobs\n",
    "!qbraid jobs disable -n amazon_braket"
   ]
  }
 ],
 "metadata": {
  "kernelspec": {
   "display_name": "Python 3 [Braket]",
   "language": "python",
   "name": "python3_aws_braket_kwx6dl"
  },
  "language_info": {
   "codemirror_mode": {
    "name": "ipython",
    "version": 3
   },
   "file_extension": ".py",
   "mimetype": "text/x-python",
   "name": "python",
   "nbconvert_exporter": "python",
   "pygments_lexer": "ipython3",
   "version": "3.9.10"
  }
 },
 "nbformat": 4,
 "nbformat_minor": 5
}
